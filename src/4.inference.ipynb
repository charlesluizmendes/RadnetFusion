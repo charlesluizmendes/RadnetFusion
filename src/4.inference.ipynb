{
 "cells": [
  {
   "cell_type": "markdown",
   "id": "1f8bfe9d",
   "metadata": {},
   "source": [
    "### Imports"
   ]
  },
  {
   "cell_type": "code",
   "execution_count": 1,
   "id": "fd5830c0",
   "metadata": {},
   "outputs": [],
   "source": [
    "import os\n",
    "import torch\n",
    "import torch.nn as nn\n",
    "import torch.nn.functional as F\n",
    "import pandas as pd\n",
    "import joblib"
   ]
  },
  {
   "cell_type": "markdown",
   "id": "8de615ab",
   "metadata": {},
   "source": [
    "### Model"
   ]
  },
  {
   "cell_type": "code",
   "execution_count": 2,
   "id": "dd1b6001",
   "metadata": {},
   "outputs": [],
   "source": [
    "class GNN(nn.Module):\n",
    "    def __init__(self, in_dim=4, hidden=16, out_dim=2):\n",
    "        super().__init__()\n",
    "        self.net = nn.Sequential(\n",
    "            nn.Linear(in_dim, hidden),\n",
    "            nn.ReLU(),\n",
    "            nn.Linear(hidden, out_dim)\n",
    "        )\n",
    "    def forward(self, x):\n",
    "        return self.net(x)"
   ]
  },
  {
   "cell_type": "markdown",
   "id": "05c08992",
   "metadata": {},
   "source": [
    "### Load Model"
   ]
  },
  {
   "cell_type": "code",
   "execution_count": 3,
   "id": "31a3717c",
   "metadata": {},
   "outputs": [],
   "source": [
    "model = GNN()\n",
    "model.load_state_dict(torch.load(\"../models/gnn_model.pth\", weights_only=True))\n",
    "model.eval()\n",
    "\n",
    "scaler = joblib.load(\"../models/scaler_model.pkl\")"
   ]
  },
  {
   "cell_type": "markdown",
   "id": "cfa809ae",
   "metadata": {},
   "source": [
    "### Inputs"
   ]
  },
  {
   "cell_type": "code",
   "execution_count": 4,
   "id": "b5cd0b26",
   "metadata": {},
   "outputs": [],
   "source": [
    "edges_input_df = pd.read_csv(\"../inputs/edges_input.csv\")\n",
    "edges_input = edges_input_df.values.tolist()\n",
    "\n",
    "X_test = torch.tensor(scaler.transform(edges_input), dtype=torch.float)"
   ]
  },
  {
   "cell_type": "markdown",
   "id": "03c0ded4",
   "metadata": {},
   "source": [
    "### Inference"
   ]
  },
  {
   "cell_type": "code",
   "execution_count": 5,
   "id": "d3ffa6b0",
   "metadata": {},
   "outputs": [],
   "source": [
    "with torch.no_grad():\n",
    "    logits = model(X_test)\n",
    "    probs = F.softmax(logits, dim=1)\n",
    "    preds = probs.argmax(dim=1)"
   ]
  },
  {
   "cell_type": "code",
   "execution_count": 6,
   "id": "3dae9bab",
   "metadata": {},
   "outputs": [
    {
     "name": "stdout",
     "output_type": "stream",
     "text": [
      "RSSI   ETX   Delay  Busy   Classe   Status   Confiança \n",
      "-------------------------------------------------------\n",
      "-64    3.3   21     0.37   1        Bom      0.95      \n",
      "-56    1.9   40     0.07   1        Bom      1.00      \n",
      "-78    6.2   99     0.57   0        Ruim     1.00      \n",
      "-64    3.5   2      0.36   1        Bom      0.99      \n",
      "-66    4.0   60     0.29   0        Ruim     0.87      \n",
      "-59    4.0   17     0.35   1        Bom      0.96      \n",
      "-50    3.2   36     0.05   1        Bom      1.00      \n",
      "-79    3.9   94     0.45   0        Ruim     1.00      \n",
      "-79    6.6   32     0.43   0        Ruim     0.99      \n",
      "-49    3.6   21     0.33   1        Bom      0.98      \n",
      "-59    2.8   35     0.25   1        Bom      0.98      \n",
      "-84    9.4   72     0.64   0        Ruim     1.00      \n",
      "-74    4.3   58     0.87   0        Ruim     1.00      \n",
      "-61    6.8   39     0.82   0        Ruim     1.00      \n",
      "-71    8.2   65     0.85   0        Ruim     1.00      \n",
      "-60    1.7   4      0.17   1        Bom      1.00      \n",
      "-38    1.5   38     0.31   1        Bom      0.99      \n",
      "-65    3.4   40     0.66   0        Ruim     0.95      \n",
      "-39    1.3   10     0.11   1        Bom      1.00      \n",
      "-58    1.4   7      0.05   1        Bom      1.00      \n",
      "-53    1.0   10     0.28   1        Bom      1.00      \n",
      "-37    1.1   34     0.01   1        Bom      1.00      \n",
      "-35    2.4   34     0.19   1        Bom      1.00      \n",
      "-68    9.4   86     0.62   0        Ruim     1.00      \n",
      "-65    4.1   33     0.27   1        Bom      0.81      \n",
      "-75    7.3   67     0.91   0        Ruim     1.00      \n",
      "-51    2.1   36     0.12   1        Bom      1.00      \n",
      "-32    3.8   36     0.00   1        Bom      1.00      \n",
      "-63    7.0   56     0.85   0        Ruim     1.00      \n",
      "-48    1.7   38     0.37   1        Bom      0.98      \n",
      "-49    3.6   35     0.12   1        Bom      0.99      \n",
      "-50    3.7   11     0.10   1        Bom      1.00      \n",
      "-42    5.7   43     0.56   0        Ruim     0.90      \n",
      "-77    7.9   58     0.84   0        Ruim     1.00      \n",
      "-59    1.5   38     0.34   1        Bom      0.98      \n",
      "-70    6.9   74     0.46   0        Ruim     1.00      \n",
      "-64    7.1   34     0.99   0        Ruim     1.00      \n",
      "-52    2.1   27     0.26   1        Bom      0.99      \n",
      "-56    3.5   23     0.24   1        Bom      0.99      \n",
      "-64    1.9   22     0.39   1        Bom      0.98      \n",
      "-40    1.6   21     0.14   1        Bom      1.00      \n",
      "-52    1.5   4      0.19   1        Bom      1.00      \n",
      "-71    9.9   40     0.66   0        Ruim     1.00      \n",
      "-58    3.8   32     0.29   1        Bom      0.93      \n",
      "-59    4.8   23     0.81   0        Ruim     0.98      \n",
      "-50    1.1   19     0.22   1        Bom      1.00      \n",
      "-63    3.3   14     0.72   0        Ruim     0.79      \n",
      "-46    3.9   1      0.24   1        Bom      1.00      \n",
      "-46    1.6   27     0.20   1        Bom      1.00      \n",
      "-69    7.0   80     0.76   0        Ruim     1.00      \n",
      "-58    1.6   11     0.24   1        Bom      1.00      \n",
      "-71    3.6   33     0.97   0        Ruim     1.00      \n",
      "-37    2.6   8      0.38   1        Bom      1.00      \n",
      "-85    8.4   64     0.31   0        Ruim     1.00      \n",
      "-57    7.2   55     0.83   0        Ruim     1.00      \n",
      "-64    1.1   36     0.23   1        Bom      0.99      \n",
      "-75    2.3   20     0.33   1        Bom      0.97      \n",
      "-81    3.7   43     0.32   0        Ruim     0.88      \n",
      "-61    3.9   34     0.34   1        Bom      0.80      \n",
      "-39    2.6   39     0.09   1        Bom      1.00      \n",
      "-68    4.5   41     0.79   0        Ruim     1.00      \n",
      "-56    4.5   36     0.34   1        Bom      0.71      \n",
      "-75    5.0   59     0.66   0        Ruim     1.00      \n",
      "-89    8.1   27     0.38   0        Ruim     1.00      \n",
      "-86    4.7   50     0.79   0        Ruim     1.00      \n",
      "-58    8.4   83     0.38   0        Ruim     1.00      \n",
      "-41    6.6   95     0.53   0        Ruim     1.00      \n",
      "-56    9.7   67     0.69   0        Ruim     1.00      \n",
      "-68    5.7   63     0.29   0        Ruim     0.99      \n",
      "-63    4.1   55     0.64   0        Ruim     0.99      \n"
     ]
    }
   ],
   "source": [
    "print(f\"{'RSSI':<6} {'ETX':<5} {'Delay':<6} {'Busy':<6} {'Classe':<8} {'Status':<8} {'Confiança':<10}\")\n",
    "print(f\"{'-'*55}\")\n",
    "\n",
    "CLASS_NAMES = {0: \"Ruim\", 1: \"Bom\"}\n",
    "\n",
    "for i, row in enumerate(edges_input):\n",
    "    cls = preds[i].item()\n",
    "    conf = probs[i, cls].item()\n",
    "    print(f\"{row[0]:<6.0f} {row[1]:<5.1f} {row[2]:<6.0f} {row[3]:<6.2f} \"\n",
    "          f\"{cls:<8} {CLASS_NAMES[cls]:<8} {conf:<10.2f}\")"
   ]
  },
  {
   "cell_type": "markdown",
   "id": "e1880a9b",
   "metadata": {},
   "source": [
    "### Save"
   ]
  },
  {
   "cell_type": "code",
   "execution_count": 7,
   "id": "78efbb23",
   "metadata": {},
   "outputs": [
    {
     "name": "stdout",
     "output_type": "stream",
     "text": [
      "Inferência salva em ../outputs/inference_output.csv\n"
     ]
    }
   ],
   "source": [
    "inference_output = pd.DataFrame({\n",
    "    'class': preds.numpy(),\n",
    "    'confidence': torch.max(probs, dim=1)[0].numpy()\n",
    "})\n",
    "\n",
    "os.makedirs(\"../outputs\", exist_ok=True)\n",
    "inference_output.to_csv(\"../outputs/inference_output.csv\", index=False)\n",
    "\n",
    "print(\"Inferência salva em ../outputs/inference_output.csv\")"
   ]
  }
 ],
 "metadata": {
  "kernelspec": {
   "display_name": "venv (3.9.6)",
   "language": "python",
   "name": "python3"
  },
  "language_info": {
   "codemirror_mode": {
    "name": "ipython",
    "version": 3
   },
   "file_extension": ".py",
   "mimetype": "text/x-python",
   "name": "python",
   "nbconvert_exporter": "python",
   "pygments_lexer": "ipython3",
   "version": "3.9.6"
  }
 },
 "nbformat": 4,
 "nbformat_minor": 5
}
