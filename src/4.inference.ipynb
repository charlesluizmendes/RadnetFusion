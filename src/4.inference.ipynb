{
 "cells": [
  {
   "cell_type": "markdown",
   "id": "1f8bfe9d",
   "metadata": {},
   "source": [
    "### Imports"
   ]
  },
  {
   "cell_type": "code",
   "execution_count": 15,
   "id": "fd5830c0",
   "metadata": {},
   "outputs": [],
   "source": [
    "import os\n",
    "import torch\n",
    "import torch.nn as nn\n",
    "import torch.nn.functional as F\n",
    "import pandas as pd\n",
    "import joblib"
   ]
  },
  {
   "cell_type": "markdown",
   "id": "8de615ab",
   "metadata": {},
   "source": [
    "### Model"
   ]
  },
  {
   "cell_type": "code",
   "execution_count": 16,
   "id": "dd1b6001",
   "metadata": {},
   "outputs": [],
   "source": [
    "class GNN(nn.Module):\n",
    "    def __init__(self, in_dim=4, hidden=16, out_dim=2):\n",
    "        super().__init__()\n",
    "        self.net = nn.Sequential(\n",
    "            nn.Linear(in_dim, hidden),\n",
    "            nn.ReLU(),\n",
    "            nn.Linear(hidden, out_dim)\n",
    "        )\n",
    "    def forward(self, x):\n",
    "        return self.net(x)"
   ]
  },
  {
   "cell_type": "markdown",
   "id": "05c08992",
   "metadata": {},
   "source": [
    "### Load Model"
   ]
  },
  {
   "cell_type": "code",
   "execution_count": 17,
   "id": "31a3717c",
   "metadata": {},
   "outputs": [],
   "source": [
    "model = GNN()\n",
    "model.load_state_dict(torch.load(\"../models/gnn_model.pth\", weights_only=True))\n",
    "model.eval()\n",
    "\n",
    "scaler = joblib.load(\"../models/scaler_model.pkl\")"
   ]
  },
  {
   "cell_type": "markdown",
   "id": "cfa809ae",
   "metadata": {},
   "source": [
    "### Inputs"
   ]
  },
  {
   "cell_type": "code",
   "execution_count": 18,
   "id": "b5cd0b26",
   "metadata": {},
   "outputs": [],
   "source": [
    "edges_input_df = pd.read_csv(\"../inputs/edges_input.csv\")\n",
    "edges_input = edges_input_df.values.tolist()\n",
    "\n",
    "X_test = torch.tensor(scaler.transform(edges_input), dtype=torch.float)"
   ]
  },
  {
   "cell_type": "markdown",
   "id": "03c0ded4",
   "metadata": {},
   "source": [
    "### Inference"
   ]
  },
  {
   "cell_type": "code",
   "execution_count": 19,
   "id": "d3ffa6b0",
   "metadata": {},
   "outputs": [],
   "source": [
    "with torch.no_grad():\n",
    "    logits = model(X_test)\n",
    "    probs = F.softmax(logits, dim=1)\n",
    "    preds = probs.argmax(dim=1)"
   ]
  },
  {
   "cell_type": "code",
   "execution_count": 20,
   "id": "3dae9bab",
   "metadata": {},
   "outputs": [
    {
     "name": "stdout",
     "output_type": "stream",
     "text": [
      "RSSI   ETX   Delay  Busy   Classe   Status   Confiança \n",
      "-------------------------------------------------------\n",
      "-75    6.1   77     0.87   0        Ruim     1.00      \n",
      "-54    2.7   19     0.41   1        Bom      0.97      \n",
      "-81    4.8   127    0.89   0        Ruim     1.00      \n",
      "-56    2.3   14     0.41   1        Bom      0.98      \n",
      "-79    4.8   18     0.85   0        Ruim     1.00      \n",
      "-61    1.5   6      0.27   1        Bom      0.99      \n",
      "-66    4.5   79     0.87   0        Ruim     1.00      \n",
      "-49    1.8   6      0.40   1        Bom      0.99      \n",
      "-95    3.8   148    0.34   0        Ruim     1.00      \n",
      "-55    1.6   11     0.29   1        Bom      0.99      \n",
      "-49    1.1   7      0.55   1        Bom      0.99      \n",
      "-72    6.3   99     0.79   0        Ruim     1.00      \n",
      "-95    9.8   79     0.92   0        Ruim     1.00      \n",
      "-82    3.9   34     0.69   0        Ruim     1.00      \n",
      "-46    1.0   17     0.24   1        Bom      1.00      \n",
      "-88    2.7   69     0.66   0        Ruim     1.00      \n",
      "-68    9.6   21     0.56   0        Ruim     1.00      \n",
      "-63    2.9   23     0.38   1        Bom      0.91      \n",
      "-70    2.8   11     0.31   1        Bom      0.92      \n",
      "-48    1.5   15     0.14   1        Bom      1.00      \n",
      "-49    1.4   32     0.56   1        Bom      0.96      \n",
      "-74    9.7   67     0.79   0        Ruim     1.00      \n",
      "-76    10.7  106    0.85   0        Ruim     1.00      \n",
      "-67    1.3   10     0.22   1        Bom      0.98      \n",
      "-60    1.6   8      0.36   1        Bom      0.99      \n",
      "-64    1.2   19     0.07   1        Bom      0.99      \n",
      "-54    1.3   10     0.22   1        Bom      1.00      \n",
      "-61    1.4   14     0.50   1        Bom      0.96      \n",
      "-81    3.4   35     0.79   0        Ruim     1.00      \n",
      "-62    1.6   17     0.55   1        Bom      0.88      \n",
      "-55    1.1   9      0.45   1        Bom      0.99      \n",
      "-52    8.0   27     0.82   0        Ruim     1.00      \n",
      "-60    1.2   15     0.66   1        Bom      0.84      \n",
      "-61    2.9   21     0.28   1        Bom      0.96      \n",
      "-63    2.0   19     0.16   1        Bom      0.99      \n",
      "-61    1.4   2      0.18   1        Bom      0.99      \n",
      "-79    3.5   26     0.79   0        Ruim     1.00      \n",
      "-64    6.6   42     0.65   0        Ruim     1.00      \n",
      "-83    7.8   124    0.65   0        Ruim     1.00      \n",
      "-47    4.2   4      0.29   1        Bom      0.99      \n",
      "-46    1.7   26     0.27   1        Bom      1.00      \n",
      "-65    1.3   6      0.26   1        Bom      0.99      \n",
      "-65    4.3   68     0.54   0        Ruim     0.98      \n",
      "-83    6.5   86     0.70   0        Ruim     1.00      \n",
      "-73    4.4   67     0.85   0        Ruim     1.00      \n",
      "-61    4.7   54     0.75   0        Ruim     0.99      \n",
      "-83    9.2   62     0.63   0        Ruim     1.00      \n",
      "-88    4.1   61     0.73   0        Ruim     1.00      \n",
      "-77    5.3   95     0.66   0        Ruim     1.00      \n",
      "-77    5.5   21     0.54   0        Ruim     0.99      \n"
     ]
    }
   ],
   "source": [
    "print(f\"{'RSSI':<6} {'ETX':<5} {'Delay':<6} {'Busy':<6} {'Classe':<8} {'Status':<8} {'Confiança':<10}\")\n",
    "print(f\"{'-'*55}\")\n",
    "\n",
    "CLASS_NAMES = {0: \"Ruim\", 1: \"Bom\"}\n",
    "\n",
    "for i, row in enumerate(edges_input):\n",
    "    cls = preds[i].item()\n",
    "    conf = probs[i, cls].item()\n",
    "    print(f\"{row[0]:<6.0f} {row[1]:<5.1f} {row[2]:<6.0f} {row[3]:<6.2f} \"\n",
    "          f\"{cls:<8} {CLASS_NAMES[cls]:<8} {conf:<10.2f}\")"
   ]
  },
  {
   "cell_type": "markdown",
   "id": "e1880a9b",
   "metadata": {},
   "source": [
    "### Save"
   ]
  },
  {
   "cell_type": "code",
   "execution_count": 21,
   "id": "78efbb23",
   "metadata": {},
   "outputs": [
    {
     "name": "stdout",
     "output_type": "stream",
     "text": [
      "Inferência salva em ../outputs/inference_output.csv\n"
     ]
    }
   ],
   "source": [
    "inference_output = pd.DataFrame({\n",
    "    'class': preds.numpy(),\n",
    "    'confidence': torch.max(probs, dim=1)[0].numpy()\n",
    "})\n",
    "\n",
    "os.makedirs(\"../outputs\", exist_ok=True)\n",
    "inference_output.to_csv(\"../outputs/inference_output.csv\", index=False)\n",
    "\n",
    "print(\"Inferência salva em ../outputs/inference_output.csv\")"
   ]
  }
 ],
 "metadata": {
  "kernelspec": {
   "display_name": "venv (3.9.6)",
   "language": "python",
   "name": "python3"
  },
  "language_info": {
   "codemirror_mode": {
    "name": "ipython",
    "version": 3
   },
   "file_extension": ".py",
   "mimetype": "text/x-python",
   "name": "python",
   "nbconvert_exporter": "python",
   "pygments_lexer": "ipython3",
   "version": "3.9.6"
  }
 },
 "nbformat": 4,
 "nbformat_minor": 5
}
