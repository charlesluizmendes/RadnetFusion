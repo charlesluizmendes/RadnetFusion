{
 "cells": [
  {
   "cell_type": "markdown",
   "id": "1f8bfe9d",
   "metadata": {},
   "source": [
    "### Imports"
   ]
  },
  {
   "cell_type": "code",
   "execution_count": 1,
   "id": "fd5830c0",
   "metadata": {},
   "outputs": [],
   "source": [
    "import os\n",
    "import torch\n",
    "import torch.nn as nn\n",
    "import torch.nn.functional as F\n",
    "import pandas as pd\n",
    "import joblib"
   ]
  },
  {
   "cell_type": "markdown",
   "id": "8de615ab",
   "metadata": {},
   "source": [
    "### Model"
   ]
  },
  {
   "cell_type": "code",
   "execution_count": 2,
   "id": "dd1b6001",
   "metadata": {},
   "outputs": [],
   "source": [
    "class GNN(nn.Module):\n",
    "    def __init__(self, in_dim=4, hidden=16, out_dim=2):\n",
    "        super().__init__()\n",
    "        self.net = nn.Sequential(\n",
    "            nn.Linear(in_dim, hidden),\n",
    "            nn.ReLU(),\n",
    "            nn.Linear(hidden, out_dim)\n",
    "        )\n",
    "    def forward(self, x):\n",
    "        return self.net(x)"
   ]
  },
  {
   "cell_type": "markdown",
   "id": "05c08992",
   "metadata": {},
   "source": [
    "### Load Model"
   ]
  },
  {
   "cell_type": "code",
   "execution_count": 3,
   "id": "31a3717c",
   "metadata": {},
   "outputs": [],
   "source": [
    "model = GNN()\n",
    "model.load_state_dict(torch.load(\"../models/gnn_model.pth\", weights_only=True))\n",
    "model.eval()\n",
    "\n",
    "scaler = joblib.load(\"../models/scaler_model.pkl\")"
   ]
  },
  {
   "cell_type": "markdown",
   "id": "cfa809ae",
   "metadata": {},
   "source": [
    "### Inputs"
   ]
  },
  {
   "cell_type": "code",
   "execution_count": 4,
   "id": "b5cd0b26",
   "metadata": {},
   "outputs": [],
   "source": [
    "edges_input_df = pd.read_csv(\"../inputs/edges_input.csv\")\n",
    "edges_input = edges_input_df[[\"rssi\", \"etx\", \"delay\", \"busy_fraction\"]].values\n",
    "\n",
    "X_test = torch.tensor(scaler.transform(edges_input), dtype=torch.float)"
   ]
  },
  {
   "cell_type": "markdown",
   "id": "03c0ded4",
   "metadata": {},
   "source": [
    "### Inference"
   ]
  },
  {
   "cell_type": "code",
   "execution_count": 5,
   "id": "d3ffa6b0",
   "metadata": {},
   "outputs": [],
   "source": [
    "with torch.no_grad():\n",
    "    logits = model(X_test)\n",
    "    probs = F.softmax(logits, dim=1)\n",
    "    preds = probs.argmax(dim=1)"
   ]
  },
  {
   "cell_type": "code",
   "execution_count": 6,
   "id": "3dae9bab",
   "metadata": {},
   "outputs": [
    {
     "name": "stdout",
     "output_type": "stream",
     "text": [
      "RSSI   ETX   Delay  Busy   Classe   Status   Confiança \n",
      "-------------------------------------------------------\n",
      "-59    1.1   17     0.20   1        Bom      1.00      \n",
      "-60    1.4   6      0.10   1        Bom      1.00      \n",
      "-78    6.8   19     0.49   0        Ruim     0.99      \n",
      "-84    11.0  18     0.26   0        Ruim     1.00      \n",
      "-64    3.2   7      0.20   1        Bom      0.99      \n",
      "-43    1.5   4      0.32   1        Bom      1.00      \n",
      "-58    1.3   4      0.22   1        Bom      1.00      \n",
      "-57    1.2   14     0.17   1        Bom      1.00      \n",
      "-62    1.0   7      0.11   1        Bom      1.00      \n",
      "-69    1.8   5      0.22   1        Bom      0.99      \n",
      "-62    3.1   7      0.34   1        Bom      0.97      \n",
      "-57    1.0   14     0.30   1        Bom      1.00      \n",
      "-49    2.6   18     0.19   1        Bom      1.00      \n",
      "-78    4.4   42     0.82   0        Ruim     1.00      \n",
      "-66    2.9   10     0.44   1        Bom      0.83      \n",
      "-43    1.2   20     0.25   1        Bom      1.00      \n",
      "-84    3.2   26     0.37   0        Ruim     0.88      \n",
      "-52    1.8   12     0.15   1        Bom      1.00      \n",
      "-75    5.3   59     0.43   0        Ruim     0.99      \n",
      "-81    5.2   43     0.84   0        Ruim     1.00      \n",
      "-71    5.0   46     0.77   0        Ruim     1.00      \n",
      "-54    1.2   6      0.16   1        Bom      1.00      \n",
      "-42    1.1   5      0.14   1        Bom      1.00      \n",
      "-69    3.4   150    0.79   0        Ruim     1.00      \n",
      "-75    11.0  44     0.94   0        Ruim     1.00      \n",
      "-70    7.7   150    0.89   0        Ruim     1.00      \n",
      "-47    2.8   8      0.53   1        Bom      0.97      \n",
      "-81    7.6   63     0.93   0        Ruim     1.00      \n",
      "-63    1.2   6      0.42   1        Bom      0.98      \n",
      "-82    5.5   65     0.93   0        Ruim     1.00      \n",
      "-48    1.2   15     0.49   1        Bom      0.99      \n",
      "-66    3.1   51     0.57   0        Ruim     0.93      \n",
      "-45    2.2   10     0.14   1        Bom      1.00      \n",
      "-52    1.1   4      0.21   1        Bom      1.00      \n",
      "-82    14.0  66     0.62   0        Ruim     1.00      \n",
      "-51    1.9   8      0.17   1        Bom      1.00      \n",
      "-73    4.4   74     0.62   0        Ruim     0.99      \n",
      "-69    3.6   27     0.54   0        Ruim     0.85      \n",
      "-79    8.7   46     0.46   0        Ruim     1.00      \n",
      "-74    8.0   54     0.63   0        Ruim     1.00      \n",
      "-71    12.6  54     0.73   0        Ruim     1.00      \n",
      "-77    3.8   112    0.51   0        Ruim     1.00      \n",
      "-58    1.4   6      0.09   1        Bom      1.00      \n",
      "-44    1.2   18     0.09   1        Bom      1.00      \n",
      "-42    2.0   4      0.14   1        Bom      1.00      \n",
      "-55    5.3   111    0.85   0        Ruim     1.00      \n",
      "-68    8.4   51     0.82   0        Ruim     1.00      \n",
      "-83    6.9   150    0.81   0        Ruim     1.00      \n",
      "-67    3.1   45     0.41   0        Ruim     0.56      \n",
      "-79    7.6   52     0.83   0        Ruim     1.00      \n"
     ]
    }
   ],
   "source": [
    "print(f\"{'RSSI':<6} {'ETX':<5} {'Delay':<6} {'Busy':<6} {'Classe':<8} {'Status':<8} {'Confiança':<10}\")\n",
    "print(f\"{'-'*55}\")\n",
    "\n",
    "CLASS_NAMES = {0: \"Ruim\", 1: \"Bom\"}\n",
    "\n",
    "for i, row in enumerate(edges_input):\n",
    "    cls = preds[i].item()\n",
    "    conf = probs[i, cls].item()\n",
    "    print(f\"{row[0]:<6.0f} {row[1]:<5.1f} {row[2]:<6.0f} {row[3]:<6.2f} \"\n",
    "          f\"{cls:<8} {CLASS_NAMES[cls]:<8} {conf:<10.2f}\")"
   ]
  },
  {
   "cell_type": "markdown",
   "id": "e1880a9b",
   "metadata": {},
   "source": [
    "### Save"
   ]
  },
  {
   "cell_type": "code",
   "execution_count": 7,
   "id": "78efbb23",
   "metadata": {},
   "outputs": [
    {
     "name": "stdout",
     "output_type": "stream",
     "text": [
      "Inferência salva em ../outputs/inference_output.csv\n"
     ]
    }
   ],
   "source": [
    "inference_output = pd.DataFrame({\n",
    "    'class': preds.numpy(),\n",
    "    'confidence': torch.max(probs, dim=1)[0].numpy()\n",
    "})\n",
    "\n",
    "os.makedirs(\"../outputs\", exist_ok=True)\n",
    "inference_output.to_csv(\"../outputs/inference_output.csv\", index=False)\n",
    "\n",
    "print(\"Inferência salva em ../outputs/inference_output.csv\")"
   ]
  }
 ],
 "metadata": {
  "kernelspec": {
   "display_name": "venv (3.9.6)",
   "language": "python",
   "name": "python3"
  },
  "language_info": {
   "codemirror_mode": {
    "name": "ipython",
    "version": 3
   },
   "file_extension": ".py",
   "mimetype": "text/x-python",
   "name": "python",
   "nbconvert_exporter": "python",
   "pygments_lexer": "ipython3",
   "version": "3.9.6"
  }
 },
 "nbformat": 4,
 "nbformat_minor": 5
}
