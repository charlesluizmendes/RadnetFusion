{
 "cells": [
  {
   "cell_type": "markdown",
   "id": "1f8bfe9d",
   "metadata": {},
   "source": [
    "### Imports"
   ]
  },
  {
   "cell_type": "code",
   "execution_count": 8,
   "id": "fd5830c0",
   "metadata": {},
   "outputs": [],
   "source": [
    "import os\n",
    "import torch\n",
    "import torch.nn as nn\n",
    "import torch.nn.functional as F\n",
    "import pandas as pd\n",
    "import joblib"
   ]
  },
  {
   "cell_type": "markdown",
   "id": "8de615ab",
   "metadata": {},
   "source": [
    "### Model"
   ]
  },
  {
   "cell_type": "code",
   "execution_count": 9,
   "id": "dd1b6001",
   "metadata": {},
   "outputs": [],
   "source": [
    "class GNN(nn.Module):\n",
    "    def __init__(self, in_dim=4, hidden=16, out_dim=2):\n",
    "        super().__init__()\n",
    "        self.net = nn.Sequential(\n",
    "            nn.Linear(in_dim, hidden),\n",
    "            nn.ReLU(),\n",
    "            nn.Linear(hidden, out_dim)\n",
    "        )\n",
    "    def forward(self, x):\n",
    "        return self.net(x)"
   ]
  },
  {
   "cell_type": "markdown",
   "id": "05c08992",
   "metadata": {},
   "source": [
    "### Load Model"
   ]
  },
  {
   "cell_type": "code",
   "execution_count": 10,
   "id": "31a3717c",
   "metadata": {},
   "outputs": [],
   "source": [
    "model = GNN()\n",
    "model.load_state_dict(torch.load(\"../models/gnn_model.pth\", weights_only=True))\n",
    "model.eval()\n",
    "\n",
    "scaler = joblib.load(\"../models/scaler_model.pkl\")"
   ]
  },
  {
   "cell_type": "markdown",
   "id": "cfa809ae",
   "metadata": {},
   "source": [
    "### Inputs"
   ]
  },
  {
   "cell_type": "code",
   "execution_count": 11,
   "id": "b5cd0b26",
   "metadata": {},
   "outputs": [],
   "source": [
    "edges_input_df = pd.read_csv(\"../inputs/edges_input.csv\")\n",
    "edges_input = edges_input_df.values.tolist()\n",
    "\n",
    "X_test = torch.tensor(scaler.transform(edges_input), dtype=torch.float)"
   ]
  },
  {
   "cell_type": "markdown",
   "id": "03c0ded4",
   "metadata": {},
   "source": [
    "### Inference"
   ]
  },
  {
   "cell_type": "code",
   "execution_count": 12,
   "id": "d3ffa6b0",
   "metadata": {},
   "outputs": [],
   "source": [
    "with torch.no_grad():\n",
    "    logits = model(X_test)\n",
    "    probs = F.softmax(logits, dim=1)\n",
    "    preds = probs.argmax(dim=1)"
   ]
  },
  {
   "cell_type": "code",
   "execution_count": 13,
   "id": "3dae9bab",
   "metadata": {},
   "outputs": [
    {
     "name": "stdout",
     "output_type": "stream",
     "text": [
      "RSSI   ETX   Delay  Busy   Classe   Status   Confiança \n",
      "-------------------------------------------------------\n",
      "-74    2.5   16     0.91   0        Ruim     0.99      \n",
      "-44    1.5   19     0.08   1        Bom      1.00      \n",
      "-57    1.1   9      0.24   1        Bom      0.99      \n",
      "-68    4.7   85     0.83   0        Ruim     1.00      \n",
      "-46    1.0   16     0.31   1        Bom      1.00      \n",
      "-64    4.2   98     0.89   0        Ruim     1.00      \n",
      "-75    10.4  63     0.74   0        Ruim     1.00      \n",
      "-64    11.7  65     0.80   0        Ruim     1.00      \n",
      "-74    15.0  76     0.88   0        Ruim     1.00      \n",
      "-89    3.2   49     0.75   0        Ruim     1.00      \n",
      "-69    5.6   48     0.74   0        Ruim     1.00      \n",
      "-62    4.1   101    0.60   0        Ruim     1.00      \n",
      "-70    1.8   8      0.53   1        Bom      0.85      \n",
      "-52    1.2   39     0.18   1        Bom      0.99      \n",
      "-54    1.6   12     0.10   1        Bom      1.00      \n",
      "-57    2.2   11     0.10   1        Bom      0.99      \n",
      "-75    4.0   27     0.48   0        Ruim     0.89      \n",
      "-66    1.3   13     0.28   1        Bom      0.98      \n",
      "-63    2.2   3      0.22   1        Bom      0.99      \n",
      "-73    3.4   10     0.46   1        Bom      0.52      \n",
      "-68    1.8   15     0.17   1        Bom      0.98      \n",
      "-76    7.3   87     0.89   0        Ruim     1.00      \n",
      "-73    6.1   35     0.54   0        Ruim     0.99      \n",
      "-90    13.2  100    0.89   0        Ruim     1.00      \n",
      "-49    1.1   7      0.17   1        Bom      1.00      \n",
      "-56    1.5   8      0.05   1        Bom      1.00      \n",
      "-56    1.9   16     0.14   1        Bom      0.99      \n",
      "-85    3.8   106    0.86   0        Ruim     1.00      \n",
      "-60    6.2   14     0.57   0        Ruim     0.87      \n",
      "-80    3.9   30     0.54   0        Ruim     0.97      \n",
      "-53    1.5   13     0.25   1        Bom      0.99      \n",
      "-67    4.1   33     0.83   0        Ruim     0.99      \n",
      "-55    1.9   24     0.23   1        Bom      0.99      \n",
      "-42    4.4   10     0.12   1        Bom      1.00      \n",
      "-53    4.9   150    0.94   0        Ruim     1.00      \n",
      "-46    1.0   13     0.40   1        Bom      1.00      \n",
      "-63    1.1   9      0.51   1        Bom      0.96      \n",
      "-80    7.4   95     0.81   0        Ruim     1.00      \n",
      "-74    3.5   90     0.58   0        Ruim     1.00      \n",
      "-81    3.4   16     0.43   0        Ruim     0.84      \n",
      "-87    5.8   47     0.52   0        Ruim     1.00      \n",
      "-57    1.3   17     0.57   1        Bom      0.94      \n",
      "-73    5.5   55     0.81   0        Ruim     1.00      \n",
      "-51    3.9   76     0.70   0        Ruim     0.99      \n",
      "-61    1.5   12     0.30   1        Bom      0.99      \n",
      "-67    1.3   4      0.26   1        Bom      0.98      \n",
      "-58    2.3   4      0.51   1        Bom      0.96      \n",
      "-72    7.5   15     0.41   0        Ruim     0.97      \n",
      "-63    1.2   3      0.21   1        Bom      0.99      \n",
      "-83    10.6  53     0.71   0        Ruim     1.00      \n"
     ]
    }
   ],
   "source": [
    "print(f\"{'RSSI':<6} {'ETX':<5} {'Delay':<6} {'Busy':<6} {'Classe':<8} {'Status':<8} {'Confiança':<10}\")\n",
    "print(f\"{'-'*55}\")\n",
    "\n",
    "CLASS_NAMES = {0: \"Ruim\", 1: \"Bom\"}\n",
    "\n",
    "for i, row in enumerate(edges_input):\n",
    "    cls = preds[i].item()\n",
    "    conf = probs[i, cls].item()\n",
    "    print(f\"{row[0]:<6.0f} {row[1]:<5.1f} {row[2]:<6.0f} {row[3]:<6.2f} \"\n",
    "          f\"{cls:<8} {CLASS_NAMES[cls]:<8} {conf:<10.2f}\")"
   ]
  },
  {
   "cell_type": "markdown",
   "id": "e1880a9b",
   "metadata": {},
   "source": [
    "### Save"
   ]
  },
  {
   "cell_type": "code",
   "execution_count": 14,
   "id": "78efbb23",
   "metadata": {},
   "outputs": [
    {
     "name": "stdout",
     "output_type": "stream",
     "text": [
      "Inferência salva em ../outputs/inference_output.csv\n"
     ]
    }
   ],
   "source": [
    "inference_output = pd.DataFrame({\n",
    "    'class': preds.numpy(),\n",
    "    'confidence': torch.max(probs, dim=1)[0].numpy()\n",
    "})\n",
    "\n",
    "os.makedirs(\"../outputs\", exist_ok=True)\n",
    "inference_output.to_csv(\"../outputs/inference_output.csv\", index=False)\n",
    "\n",
    "print(\"Inferência salva em ../outputs/inference_output.csv\")"
   ]
  }
 ],
 "metadata": {
  "kernelspec": {
   "display_name": "venv (3.9.6)",
   "language": "python",
   "name": "python3"
  },
  "language_info": {
   "codemirror_mode": {
    "name": "ipython",
    "version": 3
   },
   "file_extension": ".py",
   "mimetype": "text/x-python",
   "name": "python",
   "nbconvert_exporter": "python",
   "pygments_lexer": "ipython3",
   "version": "3.9.6"
  }
 },
 "nbformat": 4,
 "nbformat_minor": 5
}
