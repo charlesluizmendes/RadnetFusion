{
 "cells": [
  {
   "cell_type": "markdown",
   "id": "1f8bfe9d",
   "metadata": {},
   "source": [
    "### Imports"
   ]
  },
  {
   "cell_type": "code",
   "execution_count": 50,
   "id": "fd5830c0",
   "metadata": {},
   "outputs": [],
   "source": [
    "import os\n",
    "import torch\n",
    "import torch.nn as nn\n",
    "import torch.nn.functional as F\n",
    "import pandas as pd\n",
    "import joblib"
   ]
  },
  {
   "cell_type": "markdown",
   "id": "8de615ab",
   "metadata": {},
   "source": [
    "### Model"
   ]
  },
  {
   "cell_type": "code",
   "execution_count": 51,
   "id": "dd1b6001",
   "metadata": {},
   "outputs": [],
   "source": [
    "class GNN(nn.Module):\n",
    "    def __init__(self, in_dim=4, hidden=16, out_dim=2):\n",
    "        super().__init__()\n",
    "        self.net = nn.Sequential(\n",
    "            nn.Linear(in_dim, hidden),\n",
    "            nn.ReLU(),\n",
    "            nn.Linear(hidden, out_dim)\n",
    "        )\n",
    "    def forward(self, x):\n",
    "        return self.net(x)"
   ]
  },
  {
   "cell_type": "markdown",
   "id": "05c08992",
   "metadata": {},
   "source": [
    "### Load Model"
   ]
  },
  {
   "cell_type": "code",
   "execution_count": 52,
   "id": "31a3717c",
   "metadata": {},
   "outputs": [],
   "source": [
    "model = GNN()\n",
    "model.load_state_dict(torch.load(\"../models/gnn_model.pth\", weights_only=True))\n",
    "model.eval()\n",
    "\n",
    "scaler = joblib.load(\"../models/scaler_model.pkl\")"
   ]
  },
  {
   "cell_type": "markdown",
   "id": "cfa809ae",
   "metadata": {},
   "source": [
    "### Inputs"
   ]
  },
  {
   "cell_type": "code",
   "execution_count": 53,
   "id": "b5cd0b26",
   "metadata": {},
   "outputs": [],
   "source": [
    "edges_input_df = pd.read_csv(\"../inputs/edges_input.csv\")\n",
    "edges_input = edges_input_df[[\"rssi\", \"etx\", \"delay\", \"busy_fraction\"]].values\n",
    "\n",
    "X_test = torch.tensor(scaler.transform(edges_input), dtype=torch.float)"
   ]
  },
  {
   "cell_type": "markdown",
   "id": "03c0ded4",
   "metadata": {},
   "source": [
    "### Inference"
   ]
  },
  {
   "cell_type": "code",
   "execution_count": 54,
   "id": "d3ffa6b0",
   "metadata": {},
   "outputs": [],
   "source": [
    "with torch.no_grad():\n",
    "    logits = model(X_test)\n",
    "    probs = F.softmax(logits, dim=1)\n",
    "    preds = probs.argmax(dim=1)"
   ]
  },
  {
   "cell_type": "code",
   "execution_count": 55,
   "id": "3dae9bab",
   "metadata": {},
   "outputs": [
    {
     "name": "stdout",
     "output_type": "stream",
     "text": [
      "RSSI   ETX   Delay  Busy   Classe   Status   Confiança \n",
      "-------------------------------------------------------\n",
      "-60    1.3   5      0.45   1        Bom      0.98      \n",
      "-67    1.7   3      0.26   1        Bom      0.99      \n",
      "-74    4.1   19     0.52   0        Ruim     0.95      \n",
      "-64    1.3   15     0.50   1        Bom      0.93      \n",
      "-60    3.4   70     0.78   0        Ruim     0.99      \n",
      "-70    6.7   146    0.85   0        Ruim     1.00      \n",
      "-63    4.9   35     0.83   0        Ruim     0.99      \n",
      "-59    2.6   7      0.42   1        Bom      0.97      \n",
      "-76    5.6   56     0.69   0        Ruim     1.00      \n",
      "-61    1.5   13     0.22   1        Bom      1.00      \n",
      "-52    9.7   31     0.75   0        Ruim     1.00      \n",
      "-83    7.9   119    0.29   0        Ruim     1.00      \n",
      "-93    12.5  47     0.71   0        Ruim     1.00      \n",
      "-65    2.8   26     0.70   0        Ruim     0.89      \n",
      "-40    1.6   21     0.31   1        Bom      1.00      \n",
      "-60    1.6   6      0.26   1        Bom      1.00      \n",
      "-51    5.3   77     0.89   0        Ruim     1.00      \n",
      "-57    1.6   8      0.52   1        Bom      0.97      \n",
      "-51    1.2   7      0.18   1        Bom      1.00      \n",
      "-70    8.4   22     0.42   0        Ruim     0.99      \n",
      "-64    1.2   13     0.55   1        Bom      0.89      \n",
      "-53    5.9   10     0.52   1        Bom      0.59      \n",
      "-56    1.3   9      0.59   1        Bom      0.95      \n",
      "-59    3.0   26     0.05   1        Bom      1.00      \n",
      "-51    1.8   5      0.14   1        Bom      1.00      \n",
      "-64    2.5   150    0.82   0        Ruim     1.00      \n",
      "-54    1.6   10     0.13   1        Bom      1.00      \n",
      "-38    2.7   12     0.42   1        Bom      1.00      \n",
      "-50    1.0   4      0.44   1        Bom      1.00      \n",
      "-95    14.3  21     0.94   0        Ruim     1.00      \n",
      "-80    15.0  33     0.65   0        Ruim     1.00      \n",
      "-56    2.5   18     0.35   1        Bom      0.99      \n",
      "-57    1.4   3      0.15   1        Bom      1.00      \n",
      "-56    1.2   10     0.44   1        Bom      0.99      \n",
      "-70    4.3   84     0.78   0        Ruim     1.00      \n",
      "-66    4.0   18     0.54   0        Ruim     0.79      \n",
      "-41    1.6   10     0.17   1        Bom      1.00      \n",
      "-61    1.9   12     0.49   1        Bom      0.95      \n",
      "-51    1.8   8      0.12   1        Bom      1.00      \n",
      "-72    3.3   20     0.73   0        Ruim     0.98      \n",
      "-64    1.9   7      0.20   1        Bom      0.99      \n",
      "-61    1.0   5      0.08   1        Bom      1.00      \n",
      "-95    6.0   150    0.79   0        Ruim     1.00      \n",
      "-80    4.8   150    0.76   0        Ruim     1.00      \n",
      "-57    6.0   28     0.82   0        Ruim     0.99      \n",
      "-65    3.2   129    0.79   0        Ruim     1.00      \n",
      "-66    9.2   17     0.77   0        Ruim     1.00      \n",
      "-83    4.2   28     0.89   0        Ruim     1.00      \n",
      "-71    4.7   16     0.61   0        Ruim     0.97      \n",
      "-79    5.8   35     0.70   0        Ruim     1.00      \n"
     ]
    }
   ],
   "source": [
    "print(f\"{'RSSI':<6} {'ETX':<5} {'Delay':<6} {'Busy':<6} {'Classe':<8} {'Status':<8} {'Confiança':<10}\")\n",
    "print(f\"{'-'*55}\")\n",
    "\n",
    "CLASS_NAMES = {0: \"Ruim\", 1: \"Bom\"}\n",
    "\n",
    "for i, row in enumerate(edges_input):\n",
    "    cls = preds[i].item()\n",
    "    conf = probs[i, cls].item()\n",
    "    print(f\"{row[0]:<6.0f} {row[1]:<5.1f} {row[2]:<6.0f} {row[3]:<6.2f} \"\n",
    "          f\"{cls:<8} {CLASS_NAMES[cls]:<8} {conf:<10.2f}\")"
   ]
  },
  {
   "cell_type": "markdown",
   "id": "e1880a9b",
   "metadata": {},
   "source": [
    "### Save"
   ]
  },
  {
   "cell_type": "code",
   "execution_count": 56,
   "id": "78efbb23",
   "metadata": {},
   "outputs": [
    {
     "name": "stdout",
     "output_type": "stream",
     "text": [
      "Inferência salva em ../outputs/inference_output.csv\n"
     ]
    }
   ],
   "source": [
    "inference_output = pd.DataFrame({\n",
    "    'class': preds.numpy(),\n",
    "    'confidence': torch.max(probs, dim=1)[0].numpy()\n",
    "})\n",
    "\n",
    "os.makedirs(\"../outputs\", exist_ok=True)\n",
    "inference_output.to_csv(\"../outputs/inference_output.csv\", index=False)\n",
    "\n",
    "print(\"Inferência salva em ../outputs/inference_output.csv\")"
   ]
  }
 ],
 "metadata": {
  "kernelspec": {
   "display_name": "venv (3.9.6)",
   "language": "python",
   "name": "python3"
  },
  "language_info": {
   "codemirror_mode": {
    "name": "ipython",
    "version": 3
   },
   "file_extension": ".py",
   "mimetype": "text/x-python",
   "name": "python",
   "nbconvert_exporter": "python",
   "pygments_lexer": "ipython3",
   "version": "3.9.6"
  }
 },
 "nbformat": 4,
 "nbformat_minor": 5
}
