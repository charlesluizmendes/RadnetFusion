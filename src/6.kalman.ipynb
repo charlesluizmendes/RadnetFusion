{
 "cells": [
  {
   "cell_type": "markdown",
   "id": "b8f8dbf1",
   "metadata": {},
   "source": [
    "### Imports"
   ]
  },
  {
   "cell_type": "code",
   "execution_count": 10,
   "id": "d8db0a7e",
   "metadata": {},
   "outputs": [],
   "source": [
    "import os\n",
    "import numpy as np\n",
    "import pandas as pd\n",
    "from pykalman import KalmanFilter"
   ]
  },
  {
   "cell_type": "markdown",
   "id": "7b390d1c",
   "metadata": {},
   "source": [
    "### Inputs"
   ]
  },
  {
   "cell_type": "code",
   "execution_count": 11,
   "id": "d7e271a2",
   "metadata": {},
   "outputs": [],
   "source": [
    "fusion_output_df = pd.read_csv(\"../outputs/fusion_output.csv\")\n",
    "fusion_output_class = fusion_output_df['class'].values\n",
    "fusion_output_confidence = fusion_output_df['confidence'].values"
   ]
  },
  {
   "cell_type": "code",
   "execution_count": 12,
   "id": "41a1f475",
   "metadata": {},
   "outputs": [],
   "source": [
    "edges_input_df = pd.read_csv(\"../inputs/edges_input.csv\")\n",
    "edges_input = edges_input_df[[\"rssi\", \"etx\", \"delay\", \"busy_fraction\"]].values"
   ]
  },
  {
   "cell_type": "code",
   "execution_count": 13,
   "id": "a00683f1",
   "metadata": {},
   "outputs": [],
   "source": [
    "radnet_input_df = pd.read_csv(\"../inputs/radnet_input.csv\")\n",
    "radnet_input_efsr_edge = radnet_input_df['efsr_edge'].values"
   ]
  },
  {
   "cell_type": "markdown",
   "id": "1da7d5b1",
   "metadata": {},
   "source": [
    "### Kalman Filter"
   ]
  },
  {
   "cell_type": "code",
   "execution_count": 14,
   "id": "5bfc18ed",
   "metadata": {},
   "outputs": [],
   "source": [
    "confidence_fusion = np.where(fusion_output_class == 1,\n",
    "    fusion_output_confidence,\n",
    "    1.0 - fusion_output_confidence\n",
    ")"
   ]
  },
  {
   "cell_type": "code",
   "execution_count": 15,
   "id": "2e84fe65",
   "metadata": {},
   "outputs": [],
   "source": [
    "kf = KalmanFilter(\n",
    "    transition_matrices=[1],\n",
    "    observation_matrices=[1],\n",
    "    initial_state_mean=confidence_fusion[0],\n",
    "    initial_state_covariance=1.0,\n",
    "    observation_covariance=1e-2,  # R\n",
    "    transition_covariance=2e-2    # Q\n",
    ")"
   ]
  },
  {
   "cell_type": "code",
   "execution_count": 16,
   "id": "4ea22f2f",
   "metadata": {},
   "outputs": [],
   "source": [
    "kalman, _ = kf.filter(confidence_fusion)\n",
    "kalman = kalman.flatten()\n",
    "\n",
    "cls = (kalman >= 0.5).astype(int)\n",
    "conf = np.where(cls == 1, kalman, 1.0 - kalman)"
   ]
  },
  {
   "cell_type": "code",
   "execution_count": 17,
   "id": "448b3ce7",
   "metadata": {},
   "outputs": [
    {
     "name": "stdout",
     "output_type": "stream",
     "text": [
      "RSSI   ETX   Delay  Busy   EFSR   Classe   Status   Confiança \n",
      "---------------------------------------------------------------------------\n",
      "-60    1.3   5      0.45   0.92   1        Bom      0.69      \n",
      "-67    1.7   3      0.26   0.91   1        Bom      0.68      \n",
      "-74    4.1   19     0.52   0.43   0        Ruim     0.61      \n",
      "-64    1.3   15     0.50   0.88   1        Bom      0.58      \n",
      "-60    3.4   70     0.78   0.50   0        Ruim     0.71      \n",
      "-70    6.7   146    0.85   0.38   0        Ruim     0.78      \n",
      "-63    4.9   35     0.83   0.41   0        Ruim     0.79      \n",
      "-59    2.6   7      0.42   0.44   0        Ruim     0.60      \n",
      "-76    5.6   56     0.69   0.33   0        Ruim     0.76      \n",
      "-61    1.5   13     0.22   0.95   1        Bom      0.61      \n",
      "-52    9.7   31     0.75   0.88   1        Bom      0.52      \n",
      "-83    7.9   119    0.29   0.33   0        Ruim     0.73      \n",
      "-93    12.5  47     0.71   0.39   0        Ruim     0.79      \n",
      "-65    2.8   26     0.70   0.93   0        Ruim     0.58      \n",
      "-40    1.6   21     0.31   0.42   0        Ruim     0.56      \n",
      "-60    1.6   6      0.26   0.84   1        Bom      0.56      \n",
      "-51    5.3   77     0.89   0.37   0        Ruim     0.71      \n",
      "-57    1.6   8      0.52   0.41   0        Ruim     0.59      \n",
      "-51    1.2   7      0.18   0.33   0        Ruim     0.61      \n",
      "-70    8.4   22     0.42   0.42   0        Ruim     0.74      \n",
      "-64    1.2   13     0.55   0.34   0        Ruim     0.64      \n",
      "-53    5.9   10     0.52   0.89   0        Ruim     0.53      \n",
      "-56    1.3   9      0.59   0.33   0        Ruim     0.59      \n",
      "-59    3.0   26     0.05   0.36   0        Ruim     0.58      \n",
      "-51    1.8   5      0.14   0.40   0        Ruim     0.56      \n",
      "-64    2.5   150    0.82   0.43   0        Ruim     0.75      \n",
      "-54    1.6   10     0.13   0.85   1        Bom      0.52      \n",
      "-38    2.7   12     0.42   0.91   1        Bom      0.64      \n",
      "-50    1.0   4      0.44   0.91   1        Bom      0.67      \n",
      "-95    14.3  21     0.94   0.96   1        Bom      0.54      \n",
      "-80    15.0  33     0.65   0.94   1        Bom      0.51      \n",
      "-56    2.5   18     0.35   0.91   1        Bom      0.64      \n",
      "-57    1.4   3      0.15   0.32   0        Ruim     0.55      \n",
      "-56    1.2   10     0.44   0.36   0        Ruim     0.58      \n",
      "-70    4.3   84     0.78   0.33   0        Ruim     0.75      \n",
      "-66    4.0   18     0.54   0.38   0        Ruim     0.62      \n",
      "-41    1.6   10     0.17   0.92   1        Bom      0.61      \n",
      "-61    1.9   12     0.49   0.90   1        Bom      0.65      \n",
      "-51    1.8   8      0.12   0.39   0        Ruim     0.50      \n",
      "-72    3.3   20     0.73   0.90   0        Ruim     0.51      \n",
      "-64    1.9   7      0.20   0.90   1        Bom      0.62      \n",
      "-61    1.0   5      0.08   0.42   0        Ruim     0.50      \n",
      "-95    6.0   150    0.79   0.88   0        Ruim     0.51      \n",
      "-80    4.8   150    0.76   0.31   0        Ruim     0.74      \n",
      "-57    6.0   28     0.82   0.90   0        Ruim     0.57      \n",
      "-65    3.2   129    0.79   0.90   0        Ruim     0.53      \n",
      "-66    9.2   17     0.77   0.91   0        Ruim     0.51      \n",
      "-83    4.2   28     0.89   0.91   0        Ruim     0.51      \n",
      "-71    4.7   16     0.61   0.88   0        Ruim     0.51      \n",
      "-79    5.8   35     0.70   0.91   0        Ruim     0.51      \n"
     ]
    }
   ],
   "source": [
    "print(f\"{'RSSI':<6} {'ETX':<5} {'Delay':<6} {'Busy':<6} {'EFSR':<6} {'Classe':<8} {'Status':<8} {'Confiança':<10}\")\n",
    "print(f\"{'-'*75}\")\n",
    "\n",
    "CLASS_NAMES = {0: \"Ruim\", 1: \"Bom\"}\n",
    "\n",
    "for i, row in enumerate(edges_input):\n",
    "    print(f\"{row[0]:<6.0f} {row[1]:<5.1f} {row[2]:<6.0f} {row[3]:<6.2f} \"\n",
    "          f\"{radnet_input_efsr_edge[i]:<6.2f} \"\n",
    "          f\"{cls[i]:<8} {CLASS_NAMES[int(cls[i])]:<8} {conf[i]:<10.2f}\")"
   ]
  },
  {
   "cell_type": "markdown",
   "id": "aa2f413a",
   "metadata": {},
   "source": [
    "### Save"
   ]
  },
  {
   "cell_type": "code",
   "execution_count": 18,
   "id": "f1ad0de5",
   "metadata": {},
   "outputs": [
    {
     "name": "stdout",
     "output_type": "stream",
     "text": [
      "Filtro de Kalman salvo em ../outputs/kalman_output.csv\n"
     ]
    }
   ],
   "source": [
    "kalman_output = pd.DataFrame({\n",
    "    'class': cls,\n",
    "    'confidence': conf\n",
    "})\n",
    "\n",
    "os.makedirs(\"../outputs\", exist_ok=True)\n",
    "kalman_output.to_csv(\"../outputs/kalman_output.csv\", index=False)\n",
    "\n",
    "print(\"Filtro de Kalman salvo em ../outputs/kalman_output.csv\")"
   ]
  }
 ],
 "metadata": {
  "kernelspec": {
   "display_name": "venv (3.9.6)",
   "language": "python",
   "name": "python3"
  },
  "language_info": {
   "codemirror_mode": {
    "name": "ipython",
    "version": 3
   },
   "file_extension": ".py",
   "mimetype": "text/x-python",
   "name": "python",
   "nbconvert_exporter": "python",
   "pygments_lexer": "ipython3",
   "version": "3.9.6"
  }
 },
 "nbformat": 4,
 "nbformat_minor": 5
}
