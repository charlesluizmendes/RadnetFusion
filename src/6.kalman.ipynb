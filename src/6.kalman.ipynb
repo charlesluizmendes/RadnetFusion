{
 "cells": [
  {
   "cell_type": "markdown",
   "id": "b8f8dbf1",
   "metadata": {},
   "source": [
    "### Imports"
   ]
  },
  {
   "cell_type": "code",
   "execution_count": 127,
   "id": "d8db0a7e",
   "metadata": {},
   "outputs": [],
   "source": [
    "import os\n",
    "import numpy as np\n",
    "import pandas as pd\n",
    "from pykalman import KalmanFilter"
   ]
  },
  {
   "cell_type": "markdown",
   "id": "7b390d1c",
   "metadata": {},
   "source": [
    "### Inputs"
   ]
  },
  {
   "cell_type": "code",
   "execution_count": 128,
   "id": "d7e271a2",
   "metadata": {},
   "outputs": [],
   "source": [
    "fusion_output_df = pd.read_csv(\"../outputs/fusion_output.csv\")\n",
    "fusion_output_class = fusion_output_df['class'].values\n",
    "fusion_output_confidence = fusion_output_df['confidence'].values"
   ]
  },
  {
   "cell_type": "code",
   "execution_count": 129,
   "id": "41a1f475",
   "metadata": {},
   "outputs": [],
   "source": [
    "edges_input_df = pd.read_csv(\"../inputs/edges_input.csv\")\n",
    "edges_input = edges_input_df.values.tolist()"
   ]
  },
  {
   "cell_type": "code",
   "execution_count": 130,
   "id": "a00683f1",
   "metadata": {},
   "outputs": [],
   "source": [
    "radnet_input_df = pd.read_csv(\"../inputs/radnet_input.csv\")\n",
    "radnet_input_efsr_edge = radnet_input_df['efsr_edge'].values"
   ]
  },
  {
   "cell_type": "markdown",
   "id": "1da7d5b1",
   "metadata": {},
   "source": [
    "### Kalman Filter"
   ]
  },
  {
   "cell_type": "code",
   "execution_count": 131,
   "id": "5bfc18ed",
   "metadata": {},
   "outputs": [],
   "source": [
    "confidence_fusion = np.where(fusion_output_class == 1,\n",
    "    fusion_output_confidence,\n",
    "    1.0 - fusion_output_confidence\n",
    ")"
   ]
  },
  {
   "cell_type": "code",
   "execution_count": 132,
   "id": "2e84fe65",
   "metadata": {},
   "outputs": [],
   "source": [
    "kf = KalmanFilter(\n",
    "    transition_matrices=[1],\n",
    "    observation_matrices=[1],\n",
    "    initial_state_mean=confidence_fusion[0],  # Agora usa o valor correto!\n",
    "    initial_state_covariance=1.0,\n",
    "    observation_covariance=1e-2,  # R\n",
    "    transition_covariance=1e-2    # Q\n",
    ")"
   ]
  },
  {
   "cell_type": "code",
   "execution_count": 133,
   "id": "4ea22f2f",
   "metadata": {},
   "outputs": [],
   "source": [
    "kalman, _ = kf.filter(confidence_fusion)\n",
    "kalman = kalman.flatten()\n",
    "\n",
    "cls = (kalman >= 0.5).astype(int)\n",
    "conf = np.where(cls == 1, kalman, 1.0 - kalman)"
   ]
  },
  {
   "cell_type": "code",
   "execution_count": 134,
   "id": "448b3ce7",
   "metadata": {},
   "outputs": [
    {
     "name": "stdout",
     "output_type": "stream",
     "text": [
      "RSSI   ETX   Delay  Busy   EFSR   Classe   Status   Confiança \n",
      "---------------------------------------------------------------------------\n",
      "-75    6.1   77     0.87   0.43   0        Ruim     0.88      \n",
      "-54    2.7   19     0.41   0.91   1        Bom      0.67      \n",
      "-81    4.8   127    0.89   0.79   0        Ruim     0.56      \n",
      "-56    2.3   14     0.41   0.95   1        Bom      0.77      \n",
      "-79    4.8   18     0.85   0.92   1        Bom      0.52      \n",
      "-61    1.5   6      0.27   0.91   1        Bom      0.79      \n",
      "-66    4.5   79     0.87   0.39   0        Ruim     0.64      \n",
      "-49    1.8   6      0.40   0.92   1        Bom      0.74      \n",
      "-95    3.8   148    0.34   0.43   0        Ruim     0.65      \n",
      "-55    1.6   11     0.29   0.88   1        Bom      0.72      \n",
      "-49    1.1   7      0.55   0.91   1        Bom      0.86      \n",
      "-72    6.3   99     0.79   0.93   1        Bom      0.56      \n",
      "-95    9.8   79     0.92   0.93   0        Ruim     0.55      \n",
      "-82    3.9   34     0.69   0.93   0        Ruim     0.60      \n",
      "-46    1.0   17     0.24   0.90   1        Bom      0.75      \n",
      "-88    2.7   69     0.66   0.93   1        Bom      0.52      \n",
      "-68    9.6   21     0.56   0.91   0        Ruim     0.58      \n",
      "-63    2.9   23     0.38   0.34   1        Bom      0.54      \n",
      "-70    2.8   11     0.31   0.43   1        Bom      0.62      \n",
      "-48    1.5   15     0.14   0.92   1        Bom      0.84      \n",
      "-49    1.4   32     0.56   0.39   1        Bom      0.73      \n",
      "-74    9.7   67     0.79   0.93   1        Bom      0.51      \n",
      "-76    10.7  106    0.85   0.88   0        Ruim     0.59      \n",
      "-67    1.3   10     0.22   0.90   1        Bom      0.74      \n",
      "-60    1.6   8      0.36   0.36   1        Bom      0.70      \n",
      "-64    1.2   19     0.07   0.91   1        Bom      0.86      \n",
      "-54    1.3   10     0.22   0.92   1        Bom      0.93      \n",
      "-61    1.4   14     0.50   0.41   1        Bom      0.78      \n",
      "-81    3.4   35     0.79   0.94   1        Bom      0.53      \n",
      "-62    1.6   17     0.55   0.34   1        Bom      0.57      \n",
      "-55    1.1   9      0.45   0.37   1        Bom      0.64      \n",
      "-52    8.0   27     0.82   0.86   0        Ruim     0.54      \n",
      "-60    1.2   15     0.66   0.91   1        Bom      0.71      \n",
      "-61    2.9   21     0.28   0.33   1        Bom      0.67      \n",
      "-63    2.0   19     0.16   0.28   1        Bom      0.65      \n",
      "-61    1.4   2      0.18   0.43   1        Bom      0.69      \n",
      "-79    3.5   26     0.79   0.37   0        Ruim     0.68      \n",
      "-64    6.6   42     0.65   0.47   0        Ruim     0.79      \n",
      "-83    7.8   124    0.65   0.91   0        Ruim     0.69      \n",
      "-47    4.2   4      0.29   0.90   1        Bom      0.71      \n",
      "-46    1.7   26     0.27   0.31   1        Bom      0.67      \n",
      "-65    1.3   6      0.26   0.33   1        Bom      0.67      \n",
      "-65    4.3   68     0.54   0.50   0        Ruim     0.64      \n",
      "-83    6.5   86     0.70   0.33   0        Ruim     0.82      \n",
      "-73    4.4   67     0.85   0.38   0        Ruim     0.87      \n",
      "-61    4.7   54     0.75   0.35   0        Ruim     0.90      \n",
      "-83    9.2   62     0.63   0.42   0        Ruim     0.89      \n",
      "-88    4.1   61     0.73   0.29   0        Ruim     0.93      \n",
      "-77    5.3   95     0.66   0.36   0        Ruim     0.92      \n",
      "-77    5.5   21     0.54   0.48   0        Ruim     0.88      \n"
     ]
    }
   ],
   "source": [
    "print(f\"{'RSSI':<6} {'ETX':<5} {'Delay':<6} {'Busy':<6} {'EFSR':<6} {'Classe':<8} {'Status':<8} {'Confiança':<10}\")\n",
    "print(f\"{'-'*75}\")\n",
    "\n",
    "CLASS_NAMES = {0: \"Ruim\", 1: \"Bom\"}\n",
    "\n",
    "for i, row in enumerate(edges_input):\n",
    "    print(f\"{row[0]:<6.0f} {row[1]:<5.1f} {row[2]:<6.0f} {row[3]:<6.2f} \"\n",
    "          f\"{radnet_input_efsr_edge[i]:<6.2f} \"\n",
    "          f\"{cls[i]:<8} {CLASS_NAMES[int(cls[i])]:<8} {conf[i]:<10.2f}\")"
   ]
  },
  {
   "cell_type": "markdown",
   "id": "aa2f413a",
   "metadata": {},
   "source": [
    "### Save"
   ]
  },
  {
   "cell_type": "code",
   "execution_count": 135,
   "id": "f1ad0de5",
   "metadata": {},
   "outputs": [
    {
     "name": "stdout",
     "output_type": "stream",
     "text": [
      "Filtro de Kalman salvo em ../outputs/kalman_output.csv\n"
     ]
    }
   ],
   "source": [
    "kalman_output = pd.DataFrame({\n",
    "    'class': cls,\n",
    "    'confidence': conf\n",
    "})\n",
    "\n",
    "os.makedirs(\"../outputs\", exist_ok=True)\n",
    "kalman_output.to_csv(\"../outputs/kalman_output.csv\", index=False)\n",
    "\n",
    "print(\"Filtro de Kalman salvo em ../outputs/kalman_output.csv\")"
   ]
  }
 ],
 "metadata": {
  "kernelspec": {
   "display_name": "venv (3.9.6)",
   "language": "python",
   "name": "python3"
  },
  "language_info": {
   "codemirror_mode": {
    "name": "ipython",
    "version": 3
   },
   "file_extension": ".py",
   "mimetype": "text/x-python",
   "name": "python",
   "nbconvert_exporter": "python",
   "pygments_lexer": "ipython3",
   "version": "3.9.6"
  }
 },
 "nbformat": 4,
 "nbformat_minor": 5
}
