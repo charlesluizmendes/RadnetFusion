{
 "cells": [
  {
   "cell_type": "markdown",
   "id": "b8f8dbf1",
   "metadata": {},
   "source": [
    "### Imports"
   ]
  },
  {
   "cell_type": "code",
   "execution_count": 1,
   "id": "d8db0a7e",
   "metadata": {},
   "outputs": [],
   "source": [
    "import os\n",
    "import numpy as np\n",
    "import pandas as pd"
   ]
  },
  {
   "cell_type": "markdown",
   "id": "7b390d1c",
   "metadata": {},
   "source": [
    "### Inputs"
   ]
  },
  {
   "cell_type": "code",
   "execution_count": 2,
   "id": "d7e271a2",
   "metadata": {},
   "outputs": [],
   "source": [
    "fusion_output_df = pd.read_csv(\"../outputs/fusion_output.csv\")\n",
    "fusion_output_class = fusion_output_df['class'].values\n",
    "fusion_output_confidence = fusion_output_df['confidence'].values"
   ]
  },
  {
   "cell_type": "code",
   "execution_count": 3,
   "id": "41a1f475",
   "metadata": {},
   "outputs": [],
   "source": [
    "edges_input_df = pd.read_csv(\"../inputs/edges_input.csv\")\n",
    "edges_input = edges_input_df.values.tolist()"
   ]
  },
  {
   "cell_type": "code",
   "execution_count": 4,
   "id": "a00683f1",
   "metadata": {},
   "outputs": [],
   "source": [
    "radnet_input_df = pd.read_csv(\"../inputs/radnet_input.csv\")\n",
    "radnet_input_apmr_edge = radnet_input_df['apmr_edge'].values\n",
    "radnet_input_mfsr_edge = radnet_input_df['mfsr_edge'].values\n",
    "radnet_input_idg_global = radnet_input_df['idg_global'].values"
   ]
  },
  {
   "cell_type": "markdown",
   "id": "1da7d5b1",
   "metadata": {},
   "source": [
    "### Kalman Filter"
   ]
  },
  {
   "cell_type": "code",
   "execution_count": 5,
   "id": "2e84fe65",
   "metadata": {},
   "outputs": [],
   "source": [
    "def kalman_filter(z, Q=1e-4, R=1e-2):\n",
    "    n = len(z)\n",
    "    xhat = np.zeros(n)\n",
    "    P = np.zeros(n)\n",
    "    xhat[0] = z[0]\n",
    "    P[0] = 1.0\n",
    "    for k in range(1, n):\n",
    "        # previsão\n",
    "        xhatminus = xhat[k-1]\n",
    "        Pminus = P[k-1] + Q\n",
    "        # atualização\n",
    "        K = Pminus / (Pminus + R)\n",
    "        xhat[k] = xhatminus + K * (z[k] - xhatminus)\n",
    "        P[k] = (1 - K) * Pminus\n",
    "    return xhat"
   ]
  },
  {
   "cell_type": "code",
   "execution_count": 6,
   "id": "310e0518",
   "metadata": {},
   "outputs": [],
   "source": [
    "confidence_fusion = np.where(fusion_output_class == 1,\n",
    "    fusion_output_confidence,\n",
    "    1.0 - fusion_output_confidence\n",
    ")"
   ]
  },
  {
   "cell_type": "code",
   "execution_count": 7,
   "id": "4ea22f2f",
   "metadata": {},
   "outputs": [],
   "source": [
    "kalman = kalman_filter(confidence_fusion)\n",
    "\n",
    "# classe final a partir do filtrado\n",
    "cls = (kalman >= 0.5).astype(int)\n",
    "\n",
    "# confiança orientada à classe escolhida\n",
    "conf = np.where(cls == 1, kalman, 1.0 - kalman)"
   ]
  },
  {
   "cell_type": "code",
   "execution_count": 8,
   "id": "448b3ce7",
   "metadata": {},
   "outputs": [
    {
     "name": "stdout",
     "output_type": "stream",
     "text": [
      "RSSI   ETX   Delay  Busy   APMR   MFSR   IDG    Classe   Status   Confiança \n",
      "---------------------------------------------------------------------------\n",
      "-64    3.3   21     0.37   0.84   0.84   0.78   1        Bom      0.88      \n",
      "-56    1.9   40     0.07   0.82   0.93   0.76   1        Bom      0.91      \n",
      "-78    6.2   99     0.57   0.53   0.57   0.60   1        Bom      0.62      \n",
      "-64    3.5   2      0.36   0.85   0.84   0.76   1        Bom      0.71      \n",
      "-66    4.0   60     0.29   0.94   0.89   0.86   1        Bom      0.68      \n",
      "-59    4.0   17     0.35   0.49   0.67   0.60   1        Bom      0.69      \n",
      "-50    3.2   36     0.05   0.80   0.90   0.69   1        Bom      0.73      \n",
      "-79    3.9   94     0.45   0.81   0.86   0.76   1        Bom      0.69      \n",
      "-79    6.6   32     0.43   0.83   0.94   0.82   1        Bom      0.67      \n",
      "-49    3.6   21     0.33   0.84   0.91   0.90   1        Bom      0.70      \n",
      "-59    2.8   35     0.25   0.77   0.84   0.81   1        Bom      0.72      \n",
      "-84    9.4   72     0.64   0.53   0.65   0.51   1        Bom      0.68      \n",
      "-74    4.3   58     0.87   0.83   0.91   0.87   1        Bom      0.66      \n",
      "-61    6.8   39     0.82   0.95   0.90   0.71   1        Bom      0.65      \n",
      "-71    8.2   65     0.85   0.89   0.83   0.89   1        Bom      0.63      \n",
      "-60    1.7   4      0.17   0.82   0.94   0.78   1        Bom      0.66      \n",
      "-38    1.5   38     0.31   0.58   0.55   0.68   1        Bom      0.67      \n",
      "-65    3.4   40     0.66   0.93   0.90   0.77   1        Bom      0.66      \n",
      "-39    1.3   10     0.11   0.90   0.87   0.86   1        Bom      0.69      \n",
      "-58    1.4   7      0.05   0.77   0.87   0.73   1        Bom      0.71      \n",
      "-53    1.0   10     0.28   0.60   0.69   0.46   1        Bom      0.71      \n",
      "-37    1.1   34     0.01   0.69   0.76   0.51   1        Bom      0.72      \n",
      "-35    2.4   34     0.19   0.71   0.53   0.57   1        Bom      0.73      \n",
      "-68    9.4   86     0.62   0.48   0.50   0.67   1        Bom      0.69      \n",
      "-65    4.1   33     0.27   0.76   0.95   0.74   1        Bom      0.70      \n",
      "-75    7.3   67     0.91   0.83   0.82   0.82   1        Bom      0.68      \n",
      "-51    2.1   36     0.12   0.81   0.91   0.70   1        Bom      0.70      \n",
      "-32    3.8   36     0.00   0.76   0.84   0.87   1        Bom      0.72      \n",
      "-63    7.0   56     0.85   0.82   0.59   0.47   1        Bom      0.69      \n",
      "-48    1.7   38     0.37   0.94   0.83   0.79   1        Bom      0.71      \n",
      "-49    3.6   35     0.12   0.84   0.92   0.70   1        Bom      0.73      \n",
      "-50    3.7   11     0.10   0.63   0.73   0.48   1        Bom      0.73      \n",
      "-42    5.7   43     0.56   0.81   0.83   0.72   1        Bom      0.71      \n",
      "-77    7.9   58     0.84   0.69   0.94   0.89   1        Bom      0.69      \n",
      "-59    1.5   38     0.34   0.67   0.69   0.62   1        Bom      0.70      \n",
      "-70    6.9   74     0.46   0.64   0.61   0.62   1        Bom      0.67      \n",
      "-64    7.1   34     0.99   0.65   0.77   0.55   1        Bom      0.65      \n",
      "-52    2.1   27     0.26   0.81   0.95   0.77   1        Bom      0.67      \n",
      "-56    3.5   23     0.24   0.77   0.92   0.88   1        Bom      0.69      \n",
      "-64    1.9   22     0.39   0.84   0.58   0.58   1        Bom      0.71      \n",
      "-40    1.6   21     0.14   0.80   0.93   0.85   1        Bom      0.73      \n",
      "-52    1.5   4      0.19   0.86   0.92   0.80   1        Bom      0.74      \n",
      "-71    9.9   40     0.66   0.50   0.54   0.54   1        Bom      0.70      \n",
      "-58    3.8   32     0.29   0.68   0.66   0.51   1        Bom      0.71      \n",
      "-59    4.8   23     0.81   0.60   0.67   0.59   1        Bom      0.68      \n",
      "-50    1.1   19     0.22   0.91   0.95   0.86   1        Bom      0.70      \n",
      "-63    3.3   14     0.72   0.65   0.74   0.50   1        Bom      0.68      \n",
      "-46    3.9   1      0.24   0.76   0.88   0.85   1        Bom      0.70      \n",
      "-46    1.6   27     0.20   0.83   0.80   0.72   1        Bom      0.72      \n",
      "-69    7.0   80     0.76   0.80   0.88   0.84   1        Bom      0.70      \n",
      "-58    1.6   11     0.24   0.66   0.71   0.49   1        Bom      0.71      \n",
      "-71    3.6   33     0.97   0.69   0.52   0.54   1        Bom      0.67      \n",
      "-37    2.6   8      0.38   0.83   0.92   0.70   1        Bom      0.70      \n",
      "-85    8.4   64     0.31   0.59   0.50   0.46   1        Bom      0.66      \n",
      "-57    7.2   55     0.83   0.80   0.94   0.68   1        Bom      0.65      \n",
      "-64    1.1   36     0.23   0.86   0.94   0.90   1        Bom      0.67      \n",
      "-75    2.3   20     0.33   0.68   0.74   0.49   1        Bom      0.68      \n",
      "-81    3.7   43     0.32   0.54   0.55   0.73   1        Bom      0.66      \n",
      "-61    3.9   34     0.34   0.60   0.65   0.57   1        Bom      0.66      \n",
      "-39    2.6   39     0.09   0.54   0.62   0.63   1        Bom      0.67      \n",
      "-68    4.5   41     0.79   0.68   0.66   0.65   1        Bom      0.64      \n",
      "-56    4.5   36     0.34   0.67   0.76   0.50   1        Bom      0.65      \n",
      "-75    5.0   59     0.66   0.54   0.59   0.57   1        Bom      0.62      \n",
      "-89    8.1   27     0.38   0.48   0.51   0.47   1        Bom      0.59      \n",
      "-86    4.7   50     0.79   0.48   0.76   0.54   1        Bom      0.57      \n",
      "-58    8.4   83     0.38   0.48   0.69   0.64   1        Bom      0.55      \n",
      "-41    6.6   95     0.53   0.56   0.69   0.52   1        Bom      0.53      \n",
      "-56    9.7   67     0.69   0.56   0.53   0.47   1        Bom      0.51      \n",
      "-68    5.7   63     0.29   0.52   0.67   0.77   0        Ruim     0.50      \n",
      "-63    4.1   55     0.64   0.52   0.76   0.66   0        Ruim     0.51      \n"
     ]
    }
   ],
   "source": [
    "print(f\"{'RSSI':<6} {'ETX':<5} {'Delay':<6} {'Busy':<6} {'APMR':<6} {'MFSR':<6} {'IDG':<6} {'Classe':<8} {'Status':<8} {'Confiança':<10}\")\n",
    "print(f\"{'-'*75}\")\n",
    "\n",
    "CLASS_NAMES = {0: \"Ruim\", 1: \"Bom\"}\n",
    "\n",
    "for i, row in enumerate(edges_input):\n",
    "    print(f\"{row[0]:<6.0f} {row[1]:<5.1f} {row[2]:<6.0f} {row[3]:<6.2f} \"\n",
    "          f\"{radnet_input_apmr_edge[i]:<6.2f} {radnet_input_mfsr_edge[i]:<6.2f} {radnet_input_idg_global[i]:<6.2f} \"\n",
    "          f\"{cls[i]:<8} {CLASS_NAMES[int(cls[i])]:<8} {conf[i]:<10.2f}\")"
   ]
  },
  {
   "cell_type": "markdown",
   "id": "aa2f413a",
   "metadata": {},
   "source": [
    "### Save"
   ]
  },
  {
   "cell_type": "code",
   "execution_count": 9,
   "id": "f1ad0de5",
   "metadata": {},
   "outputs": [
    {
     "name": "stdout",
     "output_type": "stream",
     "text": [
      "Filtro de Kalman salvo em ../outputs/kalman_output.csv\n"
     ]
    }
   ],
   "source": [
    "kalman_output = pd.DataFrame({\n",
    "    'class': cls,\n",
    "    'confidence': conf\n",
    "})\n",
    "\n",
    "os.makedirs(\"../outputs\", exist_ok=True)\n",
    "kalman_output.to_csv(\"../outputs/kalman_output.csv\", index=False)\n",
    "\n",
    "print(\"Filtro de Kalman salvo em ../outputs/kalman_output.csv\")"
   ]
  }
 ],
 "metadata": {
  "kernelspec": {
   "display_name": "venv (3.9.6)",
   "language": "python",
   "name": "python3"
  },
  "language_info": {
   "codemirror_mode": {
    "name": "ipython",
    "version": 3
   },
   "file_extension": ".py",
   "mimetype": "text/x-python",
   "name": "python",
   "nbconvert_exporter": "python",
   "pygments_lexer": "ipython3",
   "version": "3.9.6"
  }
 },
 "nbformat": 4,
 "nbformat_minor": 5
}
