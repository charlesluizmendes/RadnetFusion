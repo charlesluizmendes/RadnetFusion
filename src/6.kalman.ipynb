{
 "cells": [
  {
   "cell_type": "markdown",
   "id": "b8f8dbf1",
   "metadata": {},
   "source": [
    "### Imports"
   ]
  },
  {
   "cell_type": "code",
   "execution_count": 667,
   "id": "d8db0a7e",
   "metadata": {},
   "outputs": [],
   "source": [
    "import os\n",
    "import numpy as np\n",
    "import pandas as pd\n",
    "from filterpy.kalman import KalmanFilter"
   ]
  },
  {
   "cell_type": "markdown",
   "id": "7b390d1c",
   "metadata": {},
   "source": [
    "### Inputs"
   ]
  },
  {
   "cell_type": "code",
   "execution_count": 668,
   "id": "d7e271a2",
   "metadata": {},
   "outputs": [],
   "source": [
    "fuzzy_output_df = pd.read_csv(\"../outputs/fuzzy_output.csv\")\n",
    "fuzzy_output_class = fuzzy_output_df['class'].values\n",
    "fuzzy_output_confidence = fuzzy_output_df['confidence'].values"
   ]
  },
  {
   "cell_type": "code",
   "execution_count": 669,
   "id": "41a1f475",
   "metadata": {},
   "outputs": [],
   "source": [
    "edges_input_df = pd.read_csv(\"../inputs/edges_input.csv\")\n",
    "edges_input = edges_input_df[[\"rssi\", \"etx\", \"delay\", \"busy_fraction\"]].values"
   ]
  },
  {
   "cell_type": "code",
   "execution_count": 670,
   "id": "a00683f1",
   "metadata": {},
   "outputs": [],
   "source": [
    "radnet_input_df = pd.read_csv(\"../inputs/radnet_input.csv\")\n",
    "radnet_input_efsr_edge = radnet_input_df['efsr_edge'].values"
   ]
  },
  {
   "cell_type": "code",
   "execution_count": 671,
   "id": "5bfc18ed",
   "metadata": {},
   "outputs": [],
   "source": [
    "confidence_fuzzy = np.where(\n",
    "    fuzzy_output_class == 1,\n",
    "    fuzzy_output_confidence,\n",
    "    1.0 - fuzzy_output_confidence\n",
    ")"
   ]
  },
  {
   "cell_type": "markdown",
   "id": "1da7d5b1",
   "metadata": {},
   "source": [
    "### Kalman Filter"
   ]
  },
  {
   "cell_type": "code",
   "execution_count": 672,
   "id": "2e84fe65",
   "metadata": {},
   "outputs": [],
   "source": [
    "kf = KalmanFilter(dim_x=1, dim_z=1)"
   ]
  },
  {
   "cell_type": "code",
   "execution_count": 673,
   "id": "727c9ab7",
   "metadata": {},
   "outputs": [],
   "source": [
    "kf.x = np.array([confidence_fusion[0]])\n",
    "kf.F = np.array([[1.]])\n",
    "kf.H = np.array([[1.]])\n",
    "kf.P = 1.0   # covariância inicial do estado\n",
    "kf.R = 2e-2  # covariância da observação (measurement noise)\n",
    "kf.Q = 4e-2  # covariância do processo (process noise)"
   ]
  },
  {
   "cell_type": "code",
   "execution_count": 674,
   "id": "ff94a124",
   "metadata": {},
   "outputs": [],
   "source": [
    "kalman = []\n",
    "\n",
    "for z in confidence_fusion:\n",
    "    kf.predict()           \n",
    "    kf.update(z)           \n",
    "    kalman.append(kf.x[0])"
   ]
  },
  {
   "cell_type": "code",
   "execution_count": 675,
   "id": "8b723454",
   "metadata": {},
   "outputs": [],
   "source": [
    "kalman = np.array(kalman)"
   ]
  },
  {
   "cell_type": "markdown",
   "id": "981f51ca",
   "metadata": {},
   "source": [
    "### Inference"
   ]
  },
  {
   "cell_type": "code",
   "execution_count": 676,
   "id": "4ea22f2f",
   "metadata": {},
   "outputs": [],
   "source": [
    "cls = (kalman >= 0.5).astype(int)\n",
    "conf = np.where(cls == 1, kalman, 1.0 - kalman)"
   ]
  },
  {
   "cell_type": "code",
   "execution_count": 677,
   "id": "448b3ce7",
   "metadata": {},
   "outputs": [
    {
     "name": "stdout",
     "output_type": "stream",
     "text": [
      "RSSI   ETX   Delay  Busy   EFSR   Classe   Status   Confiança \n",
      "---------------------------------------------------------------------------\n",
      "-59    1.1   17     0.20   0.33   0        Ruim     0.61      \n",
      "-60    1.4   6      0.10   0.91   1        Bom      0.61      \n",
      "-78    6.8   19     0.49   0.91   1        Bom      0.53      \n",
      "-84    11.0  18     0.26   0.36   0        Ruim     0.55      \n",
      "-64    3.2   7      0.20   0.36   0        Ruim     0.58      \n",
      "-43    1.5   4      0.32   0.90   1        Bom      0.60      \n",
      "-58    1.3   4      0.22   0.90   1        Bom      0.65      \n",
      "-57    1.2   14     0.17   0.90   1        Bom      0.66      \n",
      "-62    1.0   7      0.11   0.93   1        Bom      0.70      \n",
      "-69    1.8   5      0.22   0.38   1        Bom      0.50      \n",
      "-62    3.1   7      0.34   0.32   0        Ruim     0.59      \n",
      "-57    1.0   14     0.30   0.35   0        Ruim     0.59      \n",
      "-49    2.6   18     0.19   0.41   0        Ruim     0.56      \n",
      "-78    4.4   42     0.82   0.48   0        Ruim     0.53      \n",
      "-66    2.9   10     0.44   0.89   1        Bom      0.60      \n",
      "-43    1.2   20     0.25   0.34   0        Ruim     0.55      \n",
      "-84    3.2   26     0.37   0.44   0        Ruim     0.54      \n",
      "-52    1.8   12     0.15   0.35   0        Ruim     0.58      \n",
      "-75    5.3   59     0.43   0.90   0        Ruim     0.52      \n",
      "-81    5.2   43     0.84   0.38   0        Ruim     0.56      \n",
      "-71    5.0   46     0.77   0.33   0        Ruim     0.60      \n",
      "-54    1.2   6      0.16   0.91   1        Bom      0.61      \n",
      "-42    1.1   5      0.14   0.36   0        Ruim     0.53      \n",
      "-69    3.4   150    0.79   0.89   0        Ruim     0.51      \n",
      "-75    11.0  44     0.94   0.34   0        Ruim     0.57      \n",
      "-70    7.7   150    0.89   0.90   0        Ruim     0.52      \n",
      "-47    2.8   8      0.53   0.95   1        Bom      0.69      \n",
      "-81    7.6   63     0.93   0.35   0        Ruim     0.52      \n",
      "-63    1.2   6      0.42   0.89   1        Bom      0.61      \n",
      "-82    5.5   65     0.93   0.89   1        Bom      0.53      \n",
      "-48    1.2   15     0.49   0.92   1        Bom      0.66      \n",
      "-66    3.1   51     0.57   0.88   1        Bom      0.55      \n",
      "-45    2.2   10     0.14   0.92   1        Bom      0.66      \n",
      "-52    1.1   4      0.21   0.39   0        Ruim     0.50      \n",
      "-82    14.0  66     0.62   0.86   0        Ruim     0.50      \n",
      "-51    1.9   8      0.17   0.89   1        Bom      0.62      \n",
      "-73    4.4   74     0.62   0.88   1        Bom      0.53      \n",
      "-69    3.6   27     0.54   0.36   0        Ruim     0.55      \n",
      "-79    8.7   46     0.46   0.92   0        Ruim     0.51      \n",
      "-74    8.0   54     0.63   0.35   0        Ruim     0.57      \n",
      "-71    12.6  54     0.73   0.30   0        Ruim     0.63      \n",
      "-77    3.8   112    0.51   0.91   0        Ruim     0.53      \n",
      "-58    1.4   6      0.09   0.32   0        Ruim     0.59      \n",
      "-44    1.2   18     0.09   0.87   1        Bom      0.57      \n",
      "-42    2.0   4      0.14   0.28   0        Ruim     0.60      \n",
      "-55    5.3   111    0.85   0.30   0        Ruim     0.63      \n",
      "-68    8.4   51     0.82   0.41   0        Ruim     0.57      \n",
      "-83    6.9   150    0.81   0.35   0        Ruim     0.59      \n",
      "-67    3.1   45     0.41   0.90   1        Bom      0.60      \n",
      "-79    7.6   52     0.83   0.91   1        Bom      0.53      \n"
     ]
    }
   ],
   "source": [
    "print(f\"{'RSSI':<6} {'ETX':<5} {'Delay':<6} {'Busy':<6} {'EFSR':<6} {'Classe':<8} {'Status':<8} {'Confiança':<10}\")\n",
    "print(f\"{'-'*75}\")\n",
    "\n",
    "CLASS_NAMES = {0: \"Ruim\", 1: \"Bom\"}\n",
    "\n",
    "for i, row in enumerate(edges_input):\n",
    "    print(f\"{row[0]:<6.0f} {row[1]:<5.1f} {row[2]:<6.0f} {row[3]:<6.2f} \"\n",
    "          f\"{radnet_input_efsr_edge[i]:<6.2f} \"\n",
    "          f\"{cls[i]:<8} {CLASS_NAMES[int(cls[i])]:<8} {conf[i]:<10.2f}\")"
   ]
  },
  {
   "cell_type": "markdown",
   "id": "aa2f413a",
   "metadata": {},
   "source": [
    "### Save"
   ]
  },
  {
   "cell_type": "code",
   "execution_count": 678,
   "id": "f1ad0de5",
   "metadata": {},
   "outputs": [
    {
     "name": "stdout",
     "output_type": "stream",
     "text": [
      "Filtro de Kalman salvo em ../outputs/kalman_output.csv\n"
     ]
    }
   ],
   "source": [
    "kalman_output = pd.DataFrame({\n",
    "    'class': cls,\n",
    "    'confidence': conf\n",
    "})\n",
    "\n",
    "os.makedirs(\"../outputs\", exist_ok=True)\n",
    "kalman_output.to_csv(\"../outputs/kalman_output.csv\", index=False)\n",
    "\n",
    "print(\"Filtro de Kalman salvo em ../outputs/kalman_output.csv\")"
   ]
  }
 ],
 "metadata": {
  "kernelspec": {
   "display_name": "venv (3.9.6)",
   "language": "python",
   "name": "python3"
  },
  "language_info": {
   "codemirror_mode": {
    "name": "ipython",
    "version": 3
   },
   "file_extension": ".py",
   "mimetype": "text/x-python",
   "name": "python",
   "nbconvert_exporter": "python",
   "pygments_lexer": "ipython3",
   "version": "3.9.6"
  }
 },
 "nbformat": 4,
 "nbformat_minor": 5
}
