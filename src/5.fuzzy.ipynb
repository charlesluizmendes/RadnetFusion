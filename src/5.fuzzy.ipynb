{
 "cells": [
  {
   "cell_type": "markdown",
   "id": "2d33f923",
   "metadata": {},
   "source": [
    "### Imports"
   ]
  },
  {
   "cell_type": "code",
   "execution_count": 81,
   "id": "57301dc5",
   "metadata": {},
   "outputs": [],
   "source": [
    "import os\n",
    "import numpy as np\n",
    "import pandas as pd\n",
    "import skfuzzy as fuzz\n",
    "from skfuzzy import control as ctrl"
   ]
  },
  {
   "cell_type": "markdown",
   "id": "f50112bf",
   "metadata": {},
   "source": [
    "### Inputs"
   ]
  },
  {
   "cell_type": "code",
   "execution_count": 82,
   "id": "46ca6451",
   "metadata": {},
   "outputs": [],
   "source": [
    "radnet_input_df = pd.read_csv(\"../inputs/radnet_input.csv\")\n",
    "radnet_input_efsr_edge = radnet_input_df['efsr_edge'].values"
   ]
  },
  {
   "cell_type": "code",
   "execution_count": 83,
   "id": "231f6b80",
   "metadata": {},
   "outputs": [],
   "source": [
    "inference_output_df = pd.read_csv(\"../outputs/inference_output.csv\")\n",
    "inference_output_class = inference_output_df['class'].values\n",
    "inference_output_confidence = inference_output_df['confidence'].values"
   ]
  },
  {
   "cell_type": "code",
   "execution_count": 84,
   "id": "d0d0907d",
   "metadata": {},
   "outputs": [],
   "source": [
    "edges_input_df = pd.read_csv(\"../inputs/edges_input.csv\")\n",
    "edges_input = edges_input_df[[\"rssi\", \"etx\", \"delay\", \"busy_fraction\"]].values"
   ]
  },
  {
   "cell_type": "markdown",
   "id": "ac73c272",
   "metadata": {},
   "source": [
    "### Fuzzy Logic"
   ]
  },
  {
   "cell_type": "code",
   "execution_count": 85,
   "id": "64c24e0e",
   "metadata": {},
   "outputs": [],
   "source": [
    "conf_model = ctrl.Antecedent(np.arange(0, 1.01, 0.01), 'conf_model')\n",
    "conf_efsr = ctrl.Antecedent(np.arange(0, 1.01, 0.01), 'conf_efsr')\n",
    "quality = ctrl.Consequent(np.arange(0, 1.01, 0.01), 'quality')"
   ]
  },
  {
   "cell_type": "code",
   "execution_count": 86,
   "id": "1c2213ff",
   "metadata": {},
   "outputs": [],
   "source": [
    "conf_model['baixa'] = fuzz.trimf(conf_model.universe, [0, 0, 0.5])\n",
    "conf_model['media'] = fuzz.trimf(conf_model.universe, [0, 0.5, 1])\n",
    "conf_model['alta'] = fuzz.trimf(conf_model.universe, [0.5, 1, 1])"
   ]
  },
  {
   "cell_type": "code",
   "execution_count": 87,
   "id": "1b861a33",
   "metadata": {},
   "outputs": [],
   "source": [
    "conf_efsr['baixa'] = fuzz.trimf(conf_efsr.universe, [0, 0, 0.5])\n",
    "conf_efsr['media'] = fuzz.trimf(conf_efsr.universe, [0, 0.5, 1])\n",
    "conf_efsr['alta'] = fuzz.trimf(conf_efsr.universe, [0.5, 1, 1])"
   ]
  },
  {
   "cell_type": "code",
   "execution_count": 88,
   "id": "d37e6544",
   "metadata": {},
   "outputs": [],
   "source": [
    "quality['ruim'] = fuzz.trimf(quality.universe, [0, 0, 0.5])\n",
    "quality['media'] = fuzz.trimf(quality.universe, [0, 0.5, 1])\n",
    "quality['boa'] = fuzz.trimf(quality.universe, [0.5, 1, 1])"
   ]
  },
  {
   "cell_type": "code",
   "execution_count": 89,
   "id": "79aa64dd",
   "metadata": {},
   "outputs": [],
   "source": [
    "rules = [\n",
    "    ctrl.Rule(conf_model['alta'] & conf_efsr['alta'], quality['boa']),\n",
    "    ctrl.Rule(conf_model['alta'] & conf_efsr['media'], quality['media']),\n",
    "    ctrl.Rule(conf_model['alta'] & conf_efsr['baixa'], quality['ruim']),\n",
    "    ctrl.Rule(conf_model['media'] & conf_efsr['alta'], quality['boa']),\n",
    "    ctrl.Rule(conf_model['media'] & conf_efsr['media'], quality['media']),\n",
    "    ctrl.Rule(conf_model['media'] & conf_efsr['baixa'], quality['ruim']),\n",
    "    ctrl.Rule(conf_model['baixa'] & conf_efsr['alta'], quality['boa']),\n",
    "    ctrl.Rule(conf_model['baixa'] & conf_efsr['media'], quality['media']),\n",
    "    ctrl.Rule(conf_model['baixa'] & conf_efsr['baixa'], quality['ruim'])\n",
    "]"
   ]
  },
  {
   "cell_type": "code",
   "execution_count": 90,
   "id": "99494e53",
   "metadata": {},
   "outputs": [],
   "source": [
    "fuzzy_system = ctrl.ControlSystemSimulation(ctrl.ControlSystem(rules))"
   ]
  },
  {
   "cell_type": "code",
   "execution_count": 91,
   "id": "f80bd9c6",
   "metadata": {},
   "outputs": [],
   "source": [
    "confidence_model = np.where(\n",
    "    inference_output_class == 1,\n",
    "    inference_output_confidence,\n",
    "    1.0 - inference_output_confidence\n",
    ")"
   ]
  },
  {
   "cell_type": "code",
   "execution_count": 92,
   "id": "4082a292",
   "metadata": {},
   "outputs": [],
   "source": [
    "efsr_min, efsr_max = 0.20, 0.98\n",
    "confidence_efsr = np.clip((radnet_input_efsr_edge - efsr_min) / (efsr_max - efsr_min), 0, 1)"
   ]
  },
  {
   "cell_type": "code",
   "execution_count": 93,
   "id": "2c599ae9",
   "metadata": {},
   "outputs": [],
   "source": [
    "fused = np.zeros(len(confidence_model))\n",
    "\n",
    "for i in range(len(confidence_model)):\n",
    "    fuzzy_system.input['conf_model'] = confidence_model[i]\n",
    "    fuzzy_system.input['conf_efsr'] = confidence_efsr[i]\n",
    "    fuzzy_system.compute()\n",
    "    fused[i] = fuzzy_system.output['quality']"
   ]
  },
  {
   "cell_type": "markdown",
   "id": "2795b34c",
   "metadata": {},
   "source": [
    "### Inference"
   ]
  },
  {
   "cell_type": "code",
   "execution_count": 94,
   "id": "5856f7c6",
   "metadata": {},
   "outputs": [],
   "source": [
    "cls = (fused >= 0.5).astype(int)\n",
    "conf = np.where(cls == 1, fused, 1.0 - fused)"
   ]
  },
  {
   "cell_type": "code",
   "execution_count": 95,
   "id": "9d3291bd",
   "metadata": {},
   "outputs": [
    {
     "name": "stdout",
     "output_type": "stream",
     "text": [
      "RSSI   ETX   Delay  Busy   EFSR   Classe   Status   Confiança \n",
      "--------------------------------------------------------------\n",
      "-60    1.3   5      0.45   0.92   1        Bom      0.69      \n",
      "-67    1.7   3      0.26   0.91   1        Bom      0.68      \n",
      "-74    4.1   19     0.52   0.43   0        Ruim     0.54      \n",
      "-64    1.3   15     0.50   0.88   1        Bom      0.65      \n",
      "-60    3.4   70     0.78   0.50   0        Ruim     0.51      \n",
      "-70    6.7   146    0.85   0.38   0        Ruim     0.57      \n",
      "-63    4.9   35     0.83   0.41   0        Ruim     0.55      \n",
      "-59    2.6   7      0.42   0.44   0        Ruim     0.53      \n",
      "-76    5.6   56     0.69   0.33   0        Ruim     0.61      \n",
      "-61    1.5   13     0.22   0.95   1        Bom      0.75      \n",
      "-52    9.7   31     0.75   0.88   1        Bom      0.64      \n",
      "-83    7.9   119    0.29   0.33   0        Ruim     0.61      \n",
      "-93    12.5  47     0.71   0.39   0        Ruim     0.56      \n",
      "-65    2.8   26     0.70   0.93   1        Bom      0.71      \n",
      "-40    1.6   21     0.31   0.42   0        Ruim     0.55      \n",
      "-60    1.6   6      0.26   0.84   1        Bom      0.60      \n",
      "-51    5.3   77     0.89   0.37   0        Ruim     0.58      \n",
      "-57    1.6   8      0.52   0.41   0        Ruim     0.55      \n",
      "-51    1.2   7      0.18   0.33   0        Ruim     0.61      \n",
      "-70    8.4   22     0.42   0.42   0        Ruim     0.54      \n",
      "-64    1.2   13     0.55   0.34   0        Ruim     0.60      \n",
      "-53    5.9   10     0.52   0.89   1        Bom      0.66      \n",
      "-56    1.3   9      0.59   0.33   0        Ruim     0.61      \n",
      "-59    3.0   26     0.05   0.36   0        Ruim     0.58      \n",
      "-51    1.8   5      0.14   0.40   0        Ruim     0.56      \n",
      "-64    2.5   150    0.82   0.43   0        Ruim     0.54      \n",
      "-54    1.6   10     0.13   0.85   1        Bom      0.62      \n",
      "-38    2.7   12     0.42   0.91   1        Bom      0.68      \n",
      "-50    1.0   4      0.44   0.91   1        Bom      0.68      \n",
      "-95    14.3  21     0.94   0.96   1        Bom      0.77      \n",
      "-80    15.0  33     0.65   0.94   1        Bom      0.74      \n",
      "-56    2.5   18     0.35   0.91   1        Bom      0.69      \n",
      "-57    1.4   3      0.15   0.32   0        Ruim     0.62      \n",
      "-56    1.2   10     0.44   0.36   0        Ruim     0.59      \n",
      "-70    4.3   84     0.78   0.33   0        Ruim     0.61      \n",
      "-66    4.0   18     0.54   0.38   0        Ruim     0.57      \n",
      "-41    1.6   10     0.17   0.92   1        Bom      0.69      \n",
      "-61    1.9   12     0.49   0.90   1        Bom      0.67      \n",
      "-51    1.8   8      0.12   0.39   0        Ruim     0.56      \n",
      "-72    3.3   20     0.73   0.90   1        Bom      0.66      \n",
      "-64    1.9   7      0.20   0.90   1        Bom      0.66      \n",
      "-61    1.0   5      0.08   0.42   0        Ruim     0.54      \n",
      "-95    6.0   150    0.79   0.88   1        Bom      0.64      \n",
      "-80    4.8   150    0.76   0.31   0        Ruim     0.63      \n",
      "-57    6.0   28     0.82   0.90   1        Bom      0.67      \n",
      "-65    3.2   129    0.79   0.90   1        Bom      0.67      \n",
      "-66    9.2   17     0.77   0.91   1        Bom      0.68      \n",
      "-83    4.2   28     0.89   0.91   1        Bom      0.68      \n",
      "-71    4.7   16     0.61   0.88   1        Bom      0.64      \n",
      "-79    5.8   35     0.70   0.91   1        Bom      0.68      \n"
     ]
    }
   ],
   "source": [
    "print(f\"{'RSSI':<6} {'ETX':<5} {'Delay':<6} {'Busy':<6} {'EFSR':<6} {'Classe':<8} {'Status':<8} {'Confiança':<10}\")\n",
    "print(f\"{'-'*62}\")\n",
    "\n",
    "CLASS_NAMES = {0: \"Ruim\", 1: \"Bom\"}\n",
    "\n",
    "for i, row in enumerate(edges_input):\n",
    "    print(f\"{row[0]:<6.0f} {row[1]:<5.1f} {row[2]:<6.0f} {row[3]:<6.2f} \"\n",
    "          f\"{radnet_input_efsr_edge[i]:<6.2f} \"\n",
    "          f\"{cls[i]:<8} {CLASS_NAMES[int(cls[i])]:<8} {conf[i]:<10.2f}\")"
   ]
  },
  {
   "cell_type": "markdown",
   "id": "ad2629e8",
   "metadata": {},
   "source": [
    "### Save"
   ]
  },
  {
   "cell_type": "code",
   "execution_count": 96,
   "id": "f9257d18",
   "metadata": {},
   "outputs": [
    {
     "name": "stdout",
     "output_type": "stream",
     "text": [
      "Fusão de Dados salva em ../outputs/fusion_output.csv\n"
     ]
    }
   ],
   "source": [
    "fusion_output = pd.DataFrame({\n",
    "    'class': cls,\n",
    "    'confidence': conf\n",
    "})\n",
    "\n",
    "os.makedirs(\"../outputs\", exist_ok=True)\n",
    "fusion_output.to_csv(\"../outputs/fusion_output.csv\", index=False)\n",
    "\n",
    "print(\"Fusão de Dados salva em ../outputs/fusion_output.csv\")"
   ]
  }
 ],
 "metadata": {
  "kernelspec": {
   "display_name": "venv (3.9.6)",
   "language": "python",
   "name": "python3"
  },
  "language_info": {
   "codemirror_mode": {
    "name": "ipython",
    "version": 3
   },
   "file_extension": ".py",
   "mimetype": "text/x-python",
   "name": "python",
   "nbconvert_exporter": "python",
   "pygments_lexer": "ipython3",
   "version": "3.9.6"
  }
 },
 "nbformat": 4,
 "nbformat_minor": 5
}
