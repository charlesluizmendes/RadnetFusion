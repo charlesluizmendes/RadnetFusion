{
 "cells": [
  {
   "cell_type": "markdown",
   "id": "2d33f923",
   "metadata": {},
   "source": [
    "### Imports"
   ]
  },
  {
   "cell_type": "code",
   "execution_count": 129,
   "id": "57301dc5",
   "metadata": {},
   "outputs": [],
   "source": [
    "import os\n",
    "import numpy as np\n",
    "import pandas as pd\n",
    "import skfuzzy as fuzz\n",
    "from skfuzzy import control as ctrl"
   ]
  },
  {
   "cell_type": "markdown",
   "id": "f50112bf",
   "metadata": {},
   "source": [
    "### Inputs"
   ]
  },
  {
   "cell_type": "code",
   "execution_count": 130,
   "id": "46ca6451",
   "metadata": {},
   "outputs": [],
   "source": [
    "radnet_input_df = pd.read_csv(\"../inputs/radnet_input.csv\")\n",
    "radnet_input_efsr_edge = radnet_input_df['efsr_edge'].values"
   ]
  },
  {
   "cell_type": "code",
   "execution_count": 131,
   "id": "231f6b80",
   "metadata": {},
   "outputs": [],
   "source": [
    "inference_output_df = pd.read_csv(\"../outputs/inference_output.csv\")\n",
    "inference_output_class = inference_output_df['class'].values\n",
    "inference_output_confidence = inference_output_df['confidence'].values"
   ]
  },
  {
   "cell_type": "code",
   "execution_count": 132,
   "id": "d0d0907d",
   "metadata": {},
   "outputs": [],
   "source": [
    "edges_input_df = pd.read_csv(\"../inputs/edges_input.csv\")\n",
    "edges_input = edges_input_df[[\"rssi\", \"etx\", \"delay\", \"busy_fraction\"]].values"
   ]
  },
  {
   "cell_type": "markdown",
   "id": "ac73c272",
   "metadata": {},
   "source": [
    "### Fuzzy Logic"
   ]
  },
  {
   "cell_type": "code",
   "execution_count": 133,
   "id": "64c24e0e",
   "metadata": {},
   "outputs": [],
   "source": [
    "conf_model = ctrl.Antecedent(np.arange(0, 1.01, 0.01), 'conf_model')\n",
    "conf_efsr = ctrl.Antecedent(np.arange(0, 1.01, 0.01), 'conf_efsr')\n",
    "quality = ctrl.Consequent(np.arange(0, 1.01, 0.01), 'quality')"
   ]
  },
  {
   "cell_type": "code",
   "execution_count": 134,
   "id": "1c2213ff",
   "metadata": {},
   "outputs": [],
   "source": [
    "conf_model['baixa'] = fuzz.trimf(conf_model.universe, [0, 0, 0.5])\n",
    "conf_model['media'] = fuzz.trimf(conf_model.universe, [0, 0.5, 1])\n",
    "conf_model['alta'] = fuzz.trimf(conf_model.universe, [0.5, 1, 1])"
   ]
  },
  {
   "cell_type": "code",
   "execution_count": 135,
   "id": "1b861a33",
   "metadata": {},
   "outputs": [],
   "source": [
    "conf_efsr['baixa'] = fuzz.trimf(conf_efsr.universe, [0, 0, 0.5])\n",
    "conf_efsr['media'] = fuzz.trimf(conf_efsr.universe, [0, 0.5, 1])\n",
    "conf_efsr['alta'] = fuzz.trimf(conf_efsr.universe, [0.5, 1, 1])"
   ]
  },
  {
   "cell_type": "code",
   "execution_count": 136,
   "id": "d37e6544",
   "metadata": {},
   "outputs": [],
   "source": [
    "quality['ruim'] = fuzz.trimf(quality.universe, [0, 0, 0.5])\n",
    "quality['media'] = fuzz.trimf(quality.universe, [0, 0.5, 1])\n",
    "quality['boa'] = fuzz.trimf(quality.universe, [0.5, 1, 1])"
   ]
  },
  {
   "cell_type": "code",
   "execution_count": 137,
   "id": "79aa64dd",
   "metadata": {},
   "outputs": [],
   "source": [
    "rules = [\n",
    "    ctrl.Rule(conf_model['alta'] & conf_efsr['alta'], quality['boa']),\n",
    "    ctrl.Rule(conf_model['alta'] & conf_efsr['media'], quality['media']),\n",
    "    ctrl.Rule(conf_model['alta'] & conf_efsr['baixa'], quality['ruim']),\n",
    "    ctrl.Rule(conf_model['media'] & conf_efsr['alta'], quality['boa']),\n",
    "    ctrl.Rule(conf_model['media'] & conf_efsr['media'], quality['media']),\n",
    "    ctrl.Rule(conf_model['media'] & conf_efsr['baixa'], quality['ruim']),\n",
    "    ctrl.Rule(conf_model['baixa'] & conf_efsr['alta'], quality['boa']),\n",
    "    ctrl.Rule(conf_model['baixa'] & conf_efsr['media'], quality['media']),\n",
    "    ctrl.Rule(conf_model['baixa'] & conf_efsr['baixa'], quality['ruim'])\n",
    "]"
   ]
  },
  {
   "cell_type": "code",
   "execution_count": 138,
   "id": "99494e53",
   "metadata": {},
   "outputs": [],
   "source": [
    "fuzzy_system = ctrl.ControlSystemSimulation(ctrl.ControlSystem(rules))"
   ]
  },
  {
   "cell_type": "markdown",
   "id": "e4a367cc",
   "metadata": {},
   "source": [
    "### Confidence"
   ]
  },
  {
   "cell_type": "code",
   "execution_count": 139,
   "id": "f80bd9c6",
   "metadata": {},
   "outputs": [],
   "source": [
    "confidence_model = np.where(\n",
    "    inference_output_class == 1,\n",
    "    inference_output_confidence,\n",
    "    1.0 - inference_output_confidence\n",
    ")"
   ]
  },
  {
   "cell_type": "code",
   "execution_count": 140,
   "id": "4082a292",
   "metadata": {},
   "outputs": [],
   "source": [
    "efsr_min, efsr_max = 0.20, 0.98\n",
    "confidence_efsr = np.clip((radnet_input_efsr_edge - efsr_min) / (efsr_max - efsr_min), 0, 1)"
   ]
  },
  {
   "cell_type": "code",
   "execution_count": 141,
   "id": "2c599ae9",
   "metadata": {},
   "outputs": [],
   "source": [
    "fused = np.zeros(len(confidence_model))\n",
    "\n",
    "for i in range(len(confidence_model)):\n",
    "    fuzzy_system.input['conf_model'] = confidence_model[i]\n",
    "    fuzzy_system.input['conf_efsr'] = confidence_efsr[i]\n",
    "    fuzzy_system.compute()\n",
    "    fused[i] = fuzzy_system.output['quality']"
   ]
  },
  {
   "cell_type": "markdown",
   "id": "2795b34c",
   "metadata": {},
   "source": [
    "### Inference"
   ]
  },
  {
   "cell_type": "code",
   "execution_count": 142,
   "id": "5856f7c6",
   "metadata": {},
   "outputs": [],
   "source": [
    "cls = (fused >= 0.5).astype(int)\n",
    "conf = np.where(cls == 1, fused, 1.0 - fused)"
   ]
  },
  {
   "cell_type": "code",
   "execution_count": 143,
   "id": "9d3291bd",
   "metadata": {},
   "outputs": [
    {
     "name": "stdout",
     "output_type": "stream",
     "text": [
      "RSSI   ETX   Delay  Busy   EFSR   Classe   Status   Confiança \n",
      "--------------------------------------------------------------\n",
      "-59    1.1   17     0.20   0.33   0        Ruim     0.61      \n",
      "-60    1.4   6      0.10   0.91   1        Bom      0.68      \n",
      "-78    6.8   19     0.49   0.91   1        Bom      0.69      \n",
      "-84    11.0  18     0.26   0.36   0        Ruim     0.58      \n",
      "-64    3.2   7      0.20   0.36   0        Ruim     0.59      \n",
      "-43    1.5   4      0.32   0.90   1        Bom      0.67      \n",
      "-58    1.3   4      0.22   0.90   1        Bom      0.67      \n",
      "-57    1.2   14     0.17   0.90   1        Bom      0.66      \n",
      "-62    1.0   7      0.11   0.93   1        Bom      0.71      \n",
      "-69    1.8   5      0.22   0.38   0        Ruim     0.57      \n",
      "-62    3.1   7      0.34   0.32   0        Ruim     0.62      \n",
      "-57    1.0   14     0.30   0.35   0        Ruim     0.59      \n",
      "-49    2.6   18     0.19   0.41   0        Ruim     0.55      \n",
      "-78    4.4   42     0.82   0.48   0        Ruim     0.52      \n",
      "-66    2.9   10     0.44   0.89   1        Bom      0.65      \n",
      "-43    1.2   20     0.25   0.34   0        Ruim     0.60      \n",
      "-84    3.2   26     0.37   0.44   0        Ruim     0.53      \n",
      "-52    1.8   12     0.15   0.35   0        Ruim     0.60      \n",
      "-75    5.3   59     0.43   0.90   1        Bom      0.68      \n",
      "-81    5.2   43     0.84   0.38   0        Ruim     0.57      \n",
      "-71    5.0   46     0.77   0.33   0        Ruim     0.62      \n",
      "-54    1.2   6      0.16   0.91   1        Bom      0.69      \n",
      "-42    1.1   5      0.14   0.36   0        Ruim     0.58      \n",
      "-69    3.4   150    0.79   0.89   1        Bom      0.65      \n",
      "-75    11.0  44     0.94   0.34   0        Ruim     0.60      \n",
      "-70    7.7   150    0.89   0.90   1        Bom      0.67      \n",
      "-47    2.8   8      0.53   0.95   1        Bom      0.77      \n",
      "-81    7.6   63     0.93   0.35   0        Ruim     0.60      \n",
      "-63    1.2   6      0.42   0.89   1        Bom      0.65      \n",
      "-82    5.5   65     0.93   0.89   1        Bom      0.66      \n",
      "-48    1.2   15     0.49   0.92   1        Bom      0.70      \n",
      "-66    3.1   51     0.57   0.88   1        Bom      0.64      \n",
      "-45    2.2   10     0.14   0.92   1        Bom      0.70      \n",
      "-52    1.1   4      0.21   0.39   0        Ruim     0.56      \n",
      "-82    14.0  66     0.62   0.86   1        Bom      0.62      \n",
      "-51    1.9   8      0.17   0.89   1        Bom      0.66      \n",
      "-73    4.4   74     0.62   0.88   1        Bom      0.64      \n",
      "-69    3.6   27     0.54   0.36   0        Ruim     0.58      \n",
      "-79    8.7   46     0.46   0.92   1        Bom      0.71      \n",
      "-74    8.0   54     0.63   0.35   0        Ruim     0.60      \n",
      "-71    12.6  54     0.73   0.30   0        Ruim     0.65      \n",
      "-77    3.8   112    0.51   0.91   1        Bom      0.69      \n",
      "-58    1.4   6      0.09   0.32   0        Ruim     0.62      \n",
      "-44    1.2   18     0.09   0.87   1        Bom      0.63      \n",
      "-42    2.0   4      0.14   0.28   0        Ruim     0.67      \n",
      "-55    5.3   111    0.85   0.30   0        Ruim     0.65      \n",
      "-68    8.4   51     0.82   0.41   0        Ruim     0.55      \n",
      "-83    6.9   150    0.81   0.35   0        Ruim     0.60      \n",
      "-67    3.1   45     0.41   0.90   1        Bom      0.67      \n",
      "-79    7.6   52     0.83   0.91   1        Bom      0.69      \n"
     ]
    }
   ],
   "source": [
    "print(f\"{'RSSI':<6} {'ETX':<5} {'Delay':<6} {'Busy':<6} {'EFSR':<6} {'Classe':<8} {'Status':<8} {'Confiança':<10}\")\n",
    "print(f\"{'-'*62}\")\n",
    "\n",
    "CLASS_NAMES = {0: \"Ruim\", 1: \"Bom\"}\n",
    "\n",
    "for i, row in enumerate(edges_input):\n",
    "    print(f\"{row[0]:<6.0f} {row[1]:<5.1f} {row[2]:<6.0f} {row[3]:<6.2f} \"\n",
    "          f\"{radnet_input_efsr_edge[i]:<6.2f} \"\n",
    "          f\"{cls[i]:<8} {CLASS_NAMES[int(cls[i])]:<8} {conf[i]:<10.2f}\")"
   ]
  },
  {
   "cell_type": "markdown",
   "id": "ad2629e8",
   "metadata": {},
   "source": [
    "### Save"
   ]
  },
  {
   "cell_type": "code",
   "execution_count": 144,
   "id": "f9257d18",
   "metadata": {},
   "outputs": [
    {
     "name": "stdout",
     "output_type": "stream",
     "text": [
      "Lógica Fuzzy salva em ../outputs/fuzzy_output.csv\n"
     ]
    }
   ],
   "source": [
    "fuzzy_output = pd.DataFrame({\n",
    "    'class': cls,\n",
    "    'confidence': conf\n",
    "})\n",
    "\n",
    "os.makedirs(\"../outputs\", exist_ok=True)\n",
    "fuzzy_output.to_csv(\"../outputs/fuzzy_output.csv\", index=False)\n",
    "\n",
    "print(\"Lógica Fuzzy salva em ../outputs/fuzzy_output.csv\")"
   ]
  }
 ],
 "metadata": {
  "kernelspec": {
   "display_name": "venv (3.9.6)",
   "language": "python",
   "name": "python3"
  },
  "language_info": {
   "codemirror_mode": {
    "name": "ipython",
    "version": 3
   },
   "file_extension": ".py",
   "mimetype": "text/x-python",
   "name": "python",
   "nbconvert_exporter": "python",
   "pygments_lexer": "ipython3",
   "version": "3.9.6"
  }
 },
 "nbformat": 4,
 "nbformat_minor": 5
}
