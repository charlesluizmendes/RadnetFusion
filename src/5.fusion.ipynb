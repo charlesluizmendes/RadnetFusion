{
 "cells": [
  {
   "cell_type": "markdown",
   "id": "2d33f923",
   "metadata": {},
   "source": [
    "### Imports"
   ]
  },
  {
   "cell_type": "code",
   "execution_count": 1,
   "id": "57301dc5",
   "metadata": {},
   "outputs": [],
   "source": [
    "import os\n",
    "import numpy as np\n",
    "import pandas as pd"
   ]
  },
  {
   "cell_type": "markdown",
   "id": "f50112bf",
   "metadata": {},
   "source": [
    "### Inputs"
   ]
  },
  {
   "cell_type": "code",
   "execution_count": 2,
   "id": "46ca6451",
   "metadata": {},
   "outputs": [],
   "source": [
    "radnet_input_df = pd.read_csv(\"../inputs/radnet_input.csv\")\n",
    "radnet_input_efsr_edge = radnet_input_df['efsr_edge'].values"
   ]
  },
  {
   "cell_type": "code",
   "execution_count": 3,
   "id": "231f6b80",
   "metadata": {},
   "outputs": [],
   "source": [
    "inference_output_df = pd.read_csv(\"../outputs/inference_output.csv\")\n",
    "inference_output_class = inference_output_df['class'].values\n",
    "inference_output_confidence = inference_output_df['confidence'].values"
   ]
  },
  {
   "cell_type": "code",
   "execution_count": 4,
   "id": "d0d0907d",
   "metadata": {},
   "outputs": [],
   "source": [
    "edges_input_df = pd.read_csv(\"../inputs/edges_input.csv\")\n",
    "edges_input = edges_input_df[[\"rssi\", \"etx\", \"delay\", \"busy_fraction\"]].values"
   ]
  },
  {
   "cell_type": "markdown",
   "id": "ac73c272",
   "metadata": {},
   "source": [
    "### Fusion"
   ]
  },
  {
   "cell_type": "code",
   "execution_count": 5,
   "id": "47271a35",
   "metadata": {},
   "outputs": [],
   "source": [
    "w_model = 0.4\n",
    "w_efsr = 0.6\n",
    "w_sum = w_model + w_efsr"
   ]
  },
  {
   "cell_type": "code",
   "execution_count": 6,
   "id": "b77885fb",
   "metadata": {},
   "outputs": [],
   "source": [
    "confidence_model = np.where(\n",
    "    inference_output_class == 1,\n",
    "    inference_output_confidence,\n",
    "    1.0 - inference_output_confidence\n",
    ")"
   ]
  },
  {
   "cell_type": "code",
   "execution_count": 7,
   "id": "eb83c414",
   "metadata": {},
   "outputs": [],
   "source": [
    "efsr_min = 0.20\n",
    "efsr_max = 0.98\n",
    "\n",
    "confidence_efsr = (radnet_input_efsr_edge - efsr_min) / (efsr_max - efsr_min)\n",
    "confidence_efsr = np.clip(confidence_efsr, 0.0, 1.0)"
   ]
  },
  {
   "cell_type": "code",
   "execution_count": 8,
   "id": "63cb013d",
   "metadata": {},
   "outputs": [],
   "source": [
    "fused = (w_model * confidence_model + w_efsr * confidence_efsr) / w_sum"
   ]
  },
  {
   "cell_type": "code",
   "execution_count": 9,
   "id": "92adc811",
   "metadata": {},
   "outputs": [],
   "source": [
    "cls = (fused >= 0.5).astype(int)\n",
    "conf = np.where(cls == 1, fused, 1.0 - fused)"
   ]
  },
  {
   "cell_type": "markdown",
   "id": "1e885bfe",
   "metadata": {},
   "source": [
    "### Apply"
   ]
  },
  {
   "cell_type": "code",
   "execution_count": 10,
   "id": "9d3291bd",
   "metadata": {},
   "outputs": [
    {
     "name": "stdout",
     "output_type": "stream",
     "text": [
      "RSSI   ETX   Delay  Busy   EFSR   Classe   Status   Confiança \n",
      "--------------------------------------------------------------\n",
      "-60    1.3   5      0.45   0.92   1        Bom      0.94      \n",
      "-67    1.7   3      0.26   0.91   1        Bom      0.94      \n",
      "-74    4.1   19     0.52   0.43   0        Ruim     0.80      \n",
      "-64    1.3   15     0.50   0.88   1        Bom      0.90      \n",
      "-60    3.4   70     0.78   0.50   0        Ruim     0.77      \n",
      "-70    6.7   146    0.85   0.38   0        Ruim     0.86      \n",
      "-63    4.9   35     0.83   0.41   0        Ruim     0.84      \n",
      "-59    2.6   7      0.42   0.44   1        Bom      0.58      \n",
      "-76    5.6   56     0.69   0.33   0        Ruim     0.90      \n",
      "-61    1.5   13     0.22   0.95   1        Bom      0.97      \n",
      "-52    9.7   31     0.75   0.88   1        Bom      0.52      \n",
      "-83    7.9   119    0.29   0.33   0        Ruim     0.90      \n",
      "-93    12.5  47     0.71   0.39   0        Ruim     0.85      \n",
      "-65    2.8   26     0.70   0.93   1        Bom      0.60      \n",
      "-40    1.6   21     0.31   0.42   1        Bom      0.57      \n",
      "-60    1.6   6      0.26   0.84   1        Bom      0.89      \n",
      "-51    5.3   77     0.89   0.37   0        Ruim     0.87      \n",
      "-57    1.6   8      0.52   0.41   1        Bom      0.55      \n",
      "-51    1.2   7      0.18   0.33   0        Ruim     0.50      \n",
      "-70    8.4   22     0.42   0.42   0        Ruim     0.83      \n",
      "-64    1.2   13     0.55   0.34   0        Ruim     0.54      \n",
      "-53    5.9   10     0.52   0.89   1        Bom      0.77      \n",
      "-56    1.3   9      0.59   0.33   0        Ruim     0.52      \n",
      "-59    3.0   26     0.05   0.36   1        Bom      0.52      \n",
      "-51    1.8   5      0.14   0.40   1        Bom      0.55      \n",
      "-64    2.5   150    0.82   0.43   0        Ruim     0.82      \n",
      "-54    1.6   10     0.13   0.85   1        Bom      0.90      \n",
      "-38    2.7   12     0.42   0.91   1        Bom      0.94      \n",
      "-50    1.0   4      0.44   0.91   1        Bom      0.94      \n",
      "-95    14.3  21     0.94   0.96   1        Bom      0.58      \n",
      "-80    15.0  33     0.65   0.94   1        Bom      0.57      \n",
      "-56    2.5   18     0.35   0.91   1        Bom      0.94      \n",
      "-57    1.4   3      0.15   0.32   0        Ruim     0.51      \n",
      "-56    1.2   10     0.44   0.36   1        Bom      0.52      \n",
      "-70    4.3   84     0.78   0.33   0        Ruim     0.90      \n",
      "-66    4.0   18     0.54   0.38   0        Ruim     0.77      \n",
      "-41    1.6   10     0.17   0.92   1        Bom      0.95      \n",
      "-61    1.9   12     0.49   0.90   1        Bom      0.92      \n",
      "-51    1.8   8      0.12   0.39   1        Bom      0.55      \n",
      "-72    3.3   20     0.73   0.90   1        Bom      0.54      \n",
      "-64    1.9   7      0.20   0.90   1        Bom      0.93      \n",
      "-61    1.0   5      0.08   0.42   1        Bom      0.57      \n",
      "-95    6.0   150    0.79   0.88   1        Bom      0.52      \n",
      "-80    4.8   150    0.76   0.31   0        Ruim     0.91      \n",
      "-57    6.0   28     0.82   0.90   1        Bom      0.54      \n",
      "-65    3.2   129    0.79   0.90   1        Bom      0.54      \n",
      "-66    9.2   17     0.77   0.91   1        Bom      0.54      \n",
      "-83    4.2   28     0.89   0.91   1        Bom      0.54      \n",
      "-71    4.7   16     0.61   0.88   1        Bom      0.53      \n",
      "-79    5.8   35     0.70   0.91   1        Bom      0.55      \n"
     ]
    }
   ],
   "source": [
    "print(f\"{'RSSI':<6} {'ETX':<5} {'Delay':<6} {'Busy':<6} {'EFSR':<6} {'Classe':<8} {'Status':<8} {'Confiança':<10}\")\n",
    "print(f\"{'-'*62}\")\n",
    "\n",
    "CLASS_NAMES = {0: \"Ruim\", 1: \"Bom\"}\n",
    "\n",
    "for i, row in enumerate(edges_input):\n",
    "    print(f\"{row[0]:<6.0f} {row[1]:<5.1f} {row[2]:<6.0f} {row[3]:<6.2f} \"\n",
    "          f\"{radnet_input_efsr_edge[i]:<6.2f} \"\n",
    "          f\"{cls[i]:<8} {CLASS_NAMES[int(cls[i])]:<8} {conf[i]:<10.2f}\")"
   ]
  },
  {
   "cell_type": "markdown",
   "id": "ad2629e8",
   "metadata": {},
   "source": [
    "### Save"
   ]
  },
  {
   "cell_type": "code",
   "execution_count": 11,
   "id": "f9257d18",
   "metadata": {},
   "outputs": [
    {
     "name": "stdout",
     "output_type": "stream",
     "text": [
      "Fusão de Dados salva em ../outputs/fusion_output.csv\n"
     ]
    }
   ],
   "source": [
    "fusion_output = pd.DataFrame({\n",
    "    'class': cls,\n",
    "    'confidence': conf\n",
    "})\n",
    "\n",
    "os.makedirs(\"../outputs\", exist_ok=True)\n",
    "fusion_output.to_csv(\"../outputs/fusion_output.csv\", index=False)\n",
    "\n",
    "print(\"Fusão de Dados salva em ../outputs/fusion_output.csv\")"
   ]
  }
 ],
 "metadata": {
  "kernelspec": {
   "display_name": "venv (3.9.6)",
   "language": "python",
   "name": "python3"
  },
  "language_info": {
   "codemirror_mode": {
    "name": "ipython",
    "version": 3
   },
   "file_extension": ".py",
   "mimetype": "text/x-python",
   "name": "python",
   "nbconvert_exporter": "python",
   "pygments_lexer": "ipython3",
   "version": "3.9.6"
  }
 },
 "nbformat": 4,
 "nbformat_minor": 5
}
