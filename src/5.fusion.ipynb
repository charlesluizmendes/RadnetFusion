{
 "cells": [
  {
   "cell_type": "markdown",
   "id": "2d33f923",
   "metadata": {},
   "source": [
    "### Imports"
   ]
  },
  {
   "cell_type": "code",
   "execution_count": null,
   "id": "57301dc5",
   "metadata": {},
   "outputs": [],
   "source": [
    "import os\n",
    "import numpy as np\n",
    "import pandas as pd"
   ]
  },
  {
   "cell_type": "markdown",
   "id": "f50112bf",
   "metadata": {},
   "source": [
    "### Inputs"
   ]
  },
  {
   "cell_type": "code",
   "execution_count": null,
   "id": "46ca6451",
   "metadata": {},
   "outputs": [],
   "source": [
    "radnet_input_df = pd.read_csv(\"../inputs/radnet_input.csv\")\n",
    "radnet_input_apmr_edge = radnet_input_df['apmr_edge'].values\n",
    "radnet_input_mfsr_edge = radnet_input_df['mfsr_edge'].values\n",
    "radnet_input_idg_global = radnet_input_df['idg_global'].values"
   ]
  },
  {
   "cell_type": "markdown",
   "id": "73c9d8ea",
   "metadata": {},
   "source": [
    "- apmr_edge (Active Prefix Message Ratio): Taxa de eficiência dos Active Prefixes no encaminhamento de mensagens através das arestas, \n",
    "medindo quão bem os campos de prefixo conseguem realizar matching probabilístico para encaminhar mensagens entre nós vizinhos.\n",
    "\n",
    "- mfsr_edge (Message Forwarding Success Ratio): Proporção de mensagens transmitidas com sucesso através de uma aresta específica, \n",
    "considerando interferência, congestionamento e qualidade da conexão sem fio entre dois nós conectados.\n",
    "\n",
    "- idg_global (Interest Group Delivery): Eficácia global da entrega de mensagens no modo Interest-Group addressing, \n",
    "medindo quão bem o protocolo consegue localizar e entregar mensagens aos nós que compartilham o mesmo interesse da aplicação."
   ]
  },
  {
   "cell_type": "code",
   "execution_count": null,
   "id": "231f6b80",
   "metadata": {},
   "outputs": [],
   "source": [
    "inference_output_df = pd.read_csv(\"../outputs/inference_output.csv\")\n",
    "inference_output_class = inference_output_df['class'].values\n",
    "inference_output_confidence = inference_output_df['confidence'].values"
   ]
  },
  {
   "cell_type": "markdown",
   "id": "61516e69",
   "metadata": {},
   "source": [
    "- confidence (Confiança da Inferência do Modelo GNN): Eficácia do modelo gerado pelo GNN medido na atapa anterior."
   ]
  },
  {
   "cell_type": "code",
   "execution_count": null,
   "id": "d0d0907d",
   "metadata": {},
   "outputs": [],
   "source": [
    "edges_input_df = pd.read_csv(\"../inputs/edges_input.csv\")\n",
    "edges_input = edges_input_df.values.tolist()"
   ]
  },
  {
   "cell_type": "markdown",
   "id": "ac73c272",
   "metadata": {},
   "source": [
    "### Fusion"
   ]
  },
  {
   "cell_type": "code",
   "execution_count": null,
   "id": "47271a35",
   "metadata": {},
   "outputs": [],
   "source": [
    "# pesos podenrados\n",
    "w_model, w_apmr, w_mfsr, w_idg = 0.4, 0.25, 0.25, 0.1\n",
    "w_sum = w_model + w_apmr + w_mfsr + w_idg"
   ]
  },
  {
   "cell_type": "code",
   "execution_count": null,
   "id": "b77885fb",
   "metadata": {},
   "outputs": [],
   "source": [
    "confidence_model = np.where(inference_output_class == 1,\n",
    "    inference_output_confidence,\n",
    "    1.0 - inference_output_confidence\n",
    ")"
   ]
  },
  {
   "cell_type": "code",
   "execution_count": null,
   "id": "ab9a9633",
   "metadata": {},
   "outputs": [],
   "source": [
    "fused = (\n",
    "    w_model * confidence_model +\n",
    "    w_apmr * radnet_input_apmr_edge +\n",
    "    w_mfsr * radnet_input_mfsr_edge +\n",
    "    w_idg  * radnet_input_idg_global\n",
    ") / w_sum"
   ]
  },
  {
   "cell_type": "code",
   "execution_count": null,
   "id": "eb83c414",
   "metadata": {},
   "outputs": [],
   "source": [
    "# classe final a partir do filtrado\n",
    "cls = (fused >= 0.5).astype(int)\n",
    "\n",
    "# confiança orientada à classe escolhida\n",
    "conf = np.where(cls == 1, fused, 1.0 - fused)"
   ]
  },
  {
   "cell_type": "markdown",
   "id": "1e885bfe",
   "metadata": {},
   "source": [
    "### Apply"
   ]
  },
  {
   "cell_type": "code",
   "execution_count": null,
   "id": "9d3291bd",
   "metadata": {},
   "outputs": [],
   "source": [
    "print(f\"{'RSSI':<6} {'ETX':<5} {'Delay':<6} {'Busy':<6} {'APMR':<6} {'MFSR':<6} {'IDG':<6} {'Classe':<8} {'Status':<8} {'Confiança':<10}\")\n",
    "print(f\"{'-'*70}\")\n",
    "\n",
    "CLASS_NAMES = {0: \"Ruim\", 1: \"Bom\"}\n",
    "\n",
    "for i, row in enumerate(edges_input):\n",
    "    print(f\"{row[0]:<6.0f} {row[1]:<5.1f} {row[2]:<6.0f} {row[3]:<6.2f} \"\n",
    "          f\"{radnet_input_apmr_edge[i]:<6.2f} {radnet_input_mfsr_edge[i]:<6.2f} {radnet_input_idg_global[i]:<6.2f} \"\n",
    "          f\"{cls[i]:<8} {CLASS_NAMES[int(cls[i])]:<8} {conf[i]:<10.2f}\")"
   ]
  },
  {
   "cell_type": "markdown",
   "id": "ad2629e8",
   "metadata": {},
   "source": [
    "### Save"
   ]
  },
  {
   "cell_type": "code",
   "execution_count": null,
   "id": "f9257d18",
   "metadata": {},
   "outputs": [],
   "source": [
    "fusion_output = pd.DataFrame({\n",
    "    'class': cls,\n",
    "    'confidence': conf\n",
    "})\n",
    "\n",
    "os.makedirs(\"../outputs\", exist_ok=True)\n",
    "fusion_output.to_csv(\"../outputs/fusion_output.csv\", index=False)\n",
    "\n",
    "print(\"Fusão de Dados salva em ../outputs/fusion_output.csv\")"
   ]
  }
 ],
 "metadata": {
  "kernelspec": {
   "display_name": "venv (3.9.6)",
   "language": "python",
   "name": "python3"
  },
  "language_info": {
   "codemirror_mode": {
    "name": "ipython",
    "version": 3
   },
   "file_extension": ".py",
   "mimetype": "text/x-python",
   "name": "python",
   "nbconvert_exporter": "python",
   "pygments_lexer": "ipython3",
   "version": "3.9.6"
  }
 },
 "nbformat": 4,
 "nbformat_minor": 5
}
