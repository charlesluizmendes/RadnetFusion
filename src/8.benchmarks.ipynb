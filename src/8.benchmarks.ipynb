{
 "cells": [
  {
   "cell_type": "markdown",
   "id": "e0b477a0",
   "metadata": {},
   "source": [
    "# Balanced Case\n",
    "\n",
    "Inputs balanceados, métricas da rede (\"rssi\", \"etx\", \"delay\", \"busy_fraction\") muito estáveis, e estatísticas do RADNET (\"apmr_edge\", \"mfsr_edge\", \"idg_global\") equilibradas."
   ]
  },
  {
   "cell_type": "markdown",
   "id": "c839e560",
   "metadata": {},
   "source": [
    "## Dataset"
   ]
  },
  {
   "cell_type": "code",
   "execution_count": null,
   "id": "920bf2cf",
   "metadata": {},
   "outputs": [],
   "source": [
    "%run 1.dataset.ipynb"
   ]
  },
  {
   "cell_type": "markdown",
   "id": "e48a7e38",
   "metadata": {},
   "source": [
    "## Train"
   ]
  },
  {
   "cell_type": "code",
   "execution_count": null,
   "id": "0db7fa4d",
   "metadata": {},
   "outputs": [],
   "source": [
    "%run 2.train.ipynb"
   ]
  },
  {
   "cell_type": "markdown",
   "id": "c4b1bede",
   "metadata": {},
   "source": [
    "## Inputs"
   ]
  },
  {
   "cell_type": "code",
   "execution_count": null,
   "id": "a064920e",
   "metadata": {},
   "outputs": [],
   "source": [
    "%run 3.inputs.ipynb"
   ]
  },
  {
   "cell_type": "markdown",
   "id": "1e1903f2",
   "metadata": {},
   "source": [
    "## Inference"
   ]
  },
  {
   "cell_type": "code",
   "execution_count": null,
   "id": "380910f3",
   "metadata": {},
   "outputs": [],
   "source": [
    "%run 4.inference.ipynb"
   ]
  },
  {
   "cell_type": "markdown",
   "id": "4be2471c",
   "metadata": {},
   "source": [
    "## Fusion"
   ]
  },
  {
   "cell_type": "code",
   "execution_count": null,
   "id": "1409481c",
   "metadata": {},
   "outputs": [],
   "source": [
    "%run 5.fusion.ipynb"
   ]
  },
  {
   "cell_type": "markdown",
   "id": "d330de4d",
   "metadata": {},
   "source": [
    "## Kalman"
   ]
  },
  {
   "cell_type": "code",
   "execution_count": null,
   "id": "95858a92",
   "metadata": {},
   "outputs": [],
   "source": [
    "%run 6.kalman.ipynb"
   ]
  },
  {
   "cell_type": "markdown",
   "id": "ba96471c",
   "metadata": {},
   "source": [
    "## Results"
   ]
  },
  {
   "cell_type": "code",
   "execution_count": null,
   "id": "cabae91a",
   "metadata": {},
   "outputs": [],
   "source": [
    "%run 7.results.ipynb"
   ]
  },
  {
   "cell_type": "markdown",
   "id": "8be40246",
   "metadata": {},
   "source": [
    "# Worst Case\n",
    "\n",
    "Inputs péssimos, métricas da rede (\"rssi\", \"etx\", \"delay\", \"busy_fraction\") muito ruins, e estatísticas do RADNET (\"apmr_edge\", \"mfsr_edge\", \"idg_global\") baixas."
   ]
  },
  {
   "cell_type": "markdown",
   "id": "9207124b",
   "metadata": {},
   "source": [
    "## Dataset"
   ]
  },
  {
   "cell_type": "code",
   "execution_count": null,
   "id": "783ad292",
   "metadata": {},
   "outputs": [],
   "source": [
    "%run 1.dataset.ipynb"
   ]
  },
  {
   "cell_type": "markdown",
   "id": "21fb6589",
   "metadata": {},
   "source": [
    "## Train"
   ]
  },
  {
   "cell_type": "code",
   "execution_count": null,
   "id": "51f8f760",
   "metadata": {},
   "outputs": [],
   "source": [
    "%run 2.train.ipynb"
   ]
  },
  {
   "cell_type": "markdown",
   "id": "27e49a20",
   "metadata": {},
   "source": [
    "## Inputs"
   ]
  },
  {
   "cell_type": "markdown",
   "id": "f46be776",
   "metadata": {},
   "source": [
    "### Imports"
   ]
  },
  {
   "cell_type": "code",
   "execution_count": null,
   "id": "4e783a22",
   "metadata": {},
   "outputs": [],
   "source": [
    "import os\n",
    "import pandas as pd\n",
    "import numpy as np"
   ]
  },
  {
   "cell_type": "markdown",
   "id": "9d7c136c",
   "metadata": {},
   "source": [
    "### Parameters"
   ]
  },
  {
   "cell_type": "code",
   "execution_count": null,
   "id": "44c9ba80",
   "metadata": {},
   "outputs": [],
   "source": [
    "num_samples = 70 # quantidade de exemplos"
   ]
  },
  {
   "cell_type": "markdown",
   "id": "a5f654a2",
   "metadata": {},
   "source": [
    "### Worst Inputs"
   ]
  },
  {
   "cell_type": "code",
   "execution_count": null,
   "id": "8a213020",
   "metadata": {},
   "outputs": [],
   "source": [
    "edge_inputs = []\n",
    "\n",
    "while len(edge_inputs) < num_samples:\n",
    "    # Gerar sempre métricas ruins para edge inputs\n",
    "    # Forçar pelo menos 2 métricas ruins por amostra\n",
    "    \n",
    "    # RSSI: sempre baixo (sinal fraco)\n",
    "    rssi = np.random.uniform(-90, -60)  \n",
    "    \n",
    "    # ETX: tendência para alto (mais retransmissões)\n",
    "    etx = np.random.uniform(4, 10)\n",
    "    \n",
    "    # Delay: tendência para alto\n",
    "    delay = np.random.uniform(30, 100)\n",
    "    \n",
    "    # Busy fraction: tendência para alto (canal ocupado)\n",
    "    busy_fraction = np.random.uniform(0.3, 1.0)\n",
    "    \n",
    "    # Adicionar algumas variações extremas\n",
    "    extreme_factor = 0.3\n",
    "    if np.random.random() < extreme_factor:\n",
    "        if np.random.random() < 0.5:\n",
    "            rssi = np.random.uniform(-95, -85)  # RSSI muito baixo\n",
    "        if np.random.random() < 0.5:\n",
    "            etx = np.random.uniform(7, 10)      # ETX muito alto\n",
    "        if np.random.random() < 0.5:\n",
    "            delay = np.random.uniform(70, 100)  # Delay muito alto\n",
    "        if np.random.random() < 0.5:\n",
    "            busy_fraction = np.random.uniform(0.8, 1.0)  # Canal muito ocupado\n",
    "    \n",
    "    # Arredondar valores\n",
    "    rssi = round(rssi, 1)\n",
    "    etx = round(etx, 1)\n",
    "    delay = round(delay)\n",
    "    busy_fraction = round(busy_fraction, 2)\n",
    "    \n",
    "    edge_inputs.append([rssi, etx, delay, busy_fraction])"
   ]
  },
  {
   "cell_type": "code",
   "execution_count": null,
   "id": "a1700164",
   "metadata": {},
   "outputs": [],
   "source": [
    "radnet_inputs = []\n",
    "\n",
    "while len(radnet_inputs) < num_samples:\n",
    "    # Gerar sempre métricas ruins para radnet\n",
    "    # Cenários de alta mobilidade, muitos pares, rede congestionada\n",
    "    \n",
    "    # APMR: tendência baixa (prefixes ineficientes)\n",
    "    apmr_edge = np.random.uniform(0.45, 0.65)\n",
    "    \n",
    "    # MFSR: tendência baixa (baixa taxa de sucesso)\n",
    "    mfsr_edge = np.random.uniform(0.50, 0.70)\n",
    "    \n",
    "    # IDG: tendência baixa (entrega difícil em grupo)\n",
    "    idg_global = np.random.uniform(0.45, 0.65)\n",
    "    \n",
    "    # Adicionar casos extremamente ruins\n",
    "    extreme_factor = 0.25\n",
    "    if np.random.random() < extreme_factor:\n",
    "        if np.random.random() < 0.5:\n",
    "            apmr_edge = np.random.uniform(0.45, 0.55)  # APMR muito baixo\n",
    "        if np.random.random() < 0.5:\n",
    "            mfsr_edge = np.random.uniform(0.50, 0.60)  # MFSR muito baixo\n",
    "        if np.random.random() < 0.5:\n",
    "            idg_global = np.random.uniform(0.45, 0.55)  # IDG muito baixo\n",
    "    \n",
    "    # Garantir ranges válidos\n",
    "    apmr_edge = max(0.45, min(0.70, apmr_edge))\n",
    "    mfsr_edge = max(0.50, min(0.75, mfsr_edge))\n",
    "    idg_global = max(0.45, min(0.70, idg_global))\n",
    "    \n",
    "    # Arredondar valores\n",
    "    apmr_edge = round(apmr_edge, 6)\n",
    "    mfsr_edge = round(mfsr_edge, 6)\n",
    "    idg_global = round(idg_global, 2)\n",
    "    \n",
    "    radnet_inputs.append([apmr_edge, mfsr_edge, idg_global])"
   ]
  },
  {
   "cell_type": "markdown",
   "id": "f3f2a8dd",
   "metadata": {},
   "source": [
    "### Save"
   ]
  },
  {
   "cell_type": "code",
   "execution_count": null,
   "id": "015fa52f",
   "metadata": {},
   "outputs": [],
   "source": [
    "edges_input = pd.DataFrame(edge_inputs, columns=[\"rssi\", \"etx\", \"delay\", \"busy_fraction\"])\n",
    "os.makedirs(\"../inputs\", exist_ok=True)\n",
    "edges_input.to_csv(\"../inputs/edges_input.csv\", index=False)\n",
    "\n",
    "print(\"Edges Inputs salvo em ../datasets/edges_input.csv\")"
   ]
  },
  {
   "cell_type": "code",
   "execution_count": null,
   "id": "80716651",
   "metadata": {},
   "outputs": [],
   "source": [
    "radnet_input = pd.DataFrame(radnet_inputs, columns=[\"apmr_edge\", \"mfsr_edge\", \"idg_global\"])\n",
    "os.makedirs(\"../inputs\", exist_ok=True)\n",
    "radnet_input.to_csv(\"../inputs/radnet_input.csv\", index=False)\n",
    "\n",
    "print(\"Radnet Input salvo em ../datasets/radnet_input.csv\")"
   ]
  },
  {
   "cell_type": "markdown",
   "id": "1ab0fa12",
   "metadata": {},
   "source": [
    "## Inference"
   ]
  },
  {
   "cell_type": "code",
   "execution_count": null,
   "id": "6ae37a78",
   "metadata": {},
   "outputs": [],
   "source": [
    "%run 4.inference.ipynb"
   ]
  },
  {
   "cell_type": "markdown",
   "id": "3b1eadc9",
   "metadata": {},
   "source": [
    "## Fusion"
   ]
  },
  {
   "cell_type": "code",
   "execution_count": null,
   "id": "3873b972",
   "metadata": {},
   "outputs": [],
   "source": [
    "%run 5.fusion.ipynb"
   ]
  },
  {
   "cell_type": "markdown",
   "id": "b4c81a2e",
   "metadata": {},
   "source": [
    "## Kalman"
   ]
  },
  {
   "cell_type": "code",
   "execution_count": null,
   "id": "7acd2bfa",
   "metadata": {},
   "outputs": [],
   "source": [
    "%run 6.kalman.ipynb"
   ]
  },
  {
   "cell_type": "markdown",
   "id": "a10dd050",
   "metadata": {},
   "source": [
    "## Results"
   ]
  },
  {
   "cell_type": "code",
   "execution_count": null,
   "id": "f629a9b8",
   "metadata": {},
   "outputs": [],
   "source": [
    "%run 7.results.ipynb"
   ]
  },
  {
   "cell_type": "markdown",
   "id": "9eb7a2df",
   "metadata": {},
   "source": [
    "# Best Case\n",
    "\n",
    "Inputs ótimos, métricas da rede (\"rssi\", \"etx\", \"delay\", \"busy_fraction\") quase perfeitas, e estatísticas do RADNET (\"apmr_edge\", \"mfsr_edge\", \"idg_global\") altas."
   ]
  },
  {
   "cell_type": "markdown",
   "id": "5ccfc61b",
   "metadata": {},
   "source": [
    "## Dataset"
   ]
  },
  {
   "cell_type": "code",
   "execution_count": null,
   "id": "80680723",
   "metadata": {},
   "outputs": [],
   "source": [
    "%run 1.dataset.ipynb"
   ]
  },
  {
   "cell_type": "markdown",
   "id": "a52562af",
   "metadata": {},
   "source": [
    "## Train"
   ]
  },
  {
   "cell_type": "code",
   "execution_count": null,
   "id": "c9df119b",
   "metadata": {},
   "outputs": [],
   "source": [
    "%run 2.train.ipynb"
   ]
  },
  {
   "cell_type": "markdown",
   "id": "484e2f6f",
   "metadata": {},
   "source": [
    "## Inputs"
   ]
  },
  {
   "cell_type": "markdown",
   "id": "fff00747",
   "metadata": {},
   "source": [
    "### Imports"
   ]
  },
  {
   "cell_type": "code",
   "execution_count": null,
   "id": "87f69742",
   "metadata": {},
   "outputs": [],
   "source": [
    "import os\n",
    "import pandas as pd\n",
    "import numpy as np"
   ]
  },
  {
   "cell_type": "markdown",
   "id": "099bb971",
   "metadata": {},
   "source": [
    "### Parameters"
   ]
  },
  {
   "cell_type": "code",
   "execution_count": null,
   "id": "87186d20",
   "metadata": {},
   "outputs": [],
   "source": [
    "num_samples = 70 # quantidade de exemplos"
   ]
  },
  {
   "cell_type": "markdown",
   "id": "df818a5b",
   "metadata": {},
   "source": [
    "### Best Inputs"
   ]
  },
  {
   "cell_type": "code",
   "execution_count": null,
   "id": "a46ba49b",
   "metadata": {},
   "outputs": [],
   "source": [
    "edge_inputs = []\n",
    "\n",
    "while len(edge_inputs) < num_samples:\n",
    "    # Gerar sempre métricas boas para edge inputs\n",
    "    \n",
    "    # RSSI: sempre alto (sinal forte)\n",
    "    rssi = np.random.uniform(-65, -30)  \n",
    "    \n",
    "    # ETX: tendência para baixo (poucas retransmissões)\n",
    "    etx = np.random.uniform(1, 4)\n",
    "    \n",
    "    # Delay: tendência para baixo\n",
    "    delay = np.random.uniform(1, 40)\n",
    "    \n",
    "    # Busy fraction: tendência para baixo (canal livre)\n",
    "    busy_fraction = np.random.uniform(0, 0.4)\n",
    "    \n",
    "    # Adicionar algumas variações extremas boas\n",
    "    extreme_factor = 0.3\n",
    "    if np.random.random() < extreme_factor:\n",
    "        if np.random.random() < 0.5:\n",
    "            rssi = np.random.uniform(-45, -30)  # RSSI muito alto\n",
    "        if np.random.random() < 0.5:\n",
    "            etx = np.random.uniform(1, 2)       # ETX muito baixo\n",
    "        if np.random.random() < 0.5:\n",
    "            delay = np.random.uniform(1, 20)    # Delay muito baixo\n",
    "        if np.random.random() < 0.5:\n",
    "            busy_fraction = np.random.uniform(0, 0.2)  # Canal muito livre\n",
    "    \n",
    "    # Arredondar valores\n",
    "    rssi = round(rssi, 1)\n",
    "    etx = round(etx, 1)\n",
    "    delay = round(delay)\n",
    "    busy_fraction = round(busy_fraction, 2)\n",
    "    \n",
    "    edge_inputs.append([rssi, etx, delay, busy_fraction])"
   ]
  },
  {
   "cell_type": "code",
   "execution_count": null,
   "id": "9290af54",
   "metadata": {},
   "outputs": [],
   "source": [
    "radnet_inputs = []\n",
    "\n",
    "while len(radnet_inputs) < num_samples:\n",
    "    # Gerar sempre métricas boas para radnet\n",
    "    # Cenários de baixa mobilidade, poucos pares, rede estável\n",
    "    \n",
    "    # APMR: tendência alta (prefixes eficientes)\n",
    "    apmr_edge = np.random.uniform(0.75, 0.95)\n",
    "    \n",
    "    # MFSR: tendência alta (alta taxa de sucesso)\n",
    "    mfsr_edge = np.random.uniform(0.80, 0.95)\n",
    "    \n",
    "    # IDG: tendência alta (entrega eficiente em grupo)\n",
    "    idg_global = np.random.uniform(0.70, 0.90)\n",
    "    \n",
    "    # Adicionar casos extremamente bons\n",
    "    extreme_factor = 0.25\n",
    "    if np.random.random() < extreme_factor:\n",
    "        if np.random.random() < 0.5:\n",
    "            apmr_edge = np.random.uniform(0.85, 0.95)  # APMR muito alto\n",
    "        if np.random.random() < 0.5:\n",
    "            mfsr_edge = np.random.uniform(0.88, 0.95)  # MFSR muito alto\n",
    "        if np.random.random() < 0.5:\n",
    "            idg_global = np.random.uniform(0.80, 0.90)  # IDG muito alto\n",
    "    \n",
    "    # Garantir ranges válidos\n",
    "    apmr_edge = max(0.70, min(0.98, apmr_edge))\n",
    "    mfsr_edge = max(0.75, min(0.98, mfsr_edge))\n",
    "    idg_global = max(0.65, min(0.95, idg_global))\n",
    "    \n",
    "    # Arredondar valores\n",
    "    apmr_edge = round(apmr_edge, 6)\n",
    "    mfsr_edge = round(mfsr_edge, 6)\n",
    "    idg_global = round(idg_global, 2)\n",
    "    \n",
    "    radnet_inputs.append([apmr_edge, mfsr_edge, idg_global])"
   ]
  },
  {
   "cell_type": "markdown",
   "id": "2a69a983",
   "metadata": {},
   "source": [
    "### Save"
   ]
  },
  {
   "cell_type": "code",
   "execution_count": null,
   "id": "54b25f97",
   "metadata": {},
   "outputs": [],
   "source": [
    "edges_input = pd.DataFrame(edge_inputs, columns=[\"rssi\", \"etx\", \"delay\", \"busy_fraction\"])\n",
    "os.makedirs(\"../inputs\", exist_ok=True)\n",
    "edges_input.to_csv(\"../inputs/edges_input.csv\", index=False)\n",
    "\n",
    "print(\"Edges Inputs salvo em ../datasets/edges_input.csv\")"
   ]
  },
  {
   "cell_type": "code",
   "execution_count": null,
   "id": "8c508342",
   "metadata": {},
   "outputs": [],
   "source": [
    "radnet_input = pd.DataFrame(radnet_inputs, columns=[\"apmr_edge\", \"mfsr_edge\", \"idg_global\"])\n",
    "os.makedirs(\"../inputs\", exist_ok=True)\n",
    "radnet_input.to_csv(\"../inputs/radnet_input.csv\", index=False)\n",
    "\n",
    "print(\"Radnet Input salvo em ../datasets/radnet_input.csv\")"
   ]
  },
  {
   "cell_type": "markdown",
   "id": "5687e950",
   "metadata": {},
   "source": [
    "## Inference"
   ]
  },
  {
   "cell_type": "code",
   "execution_count": null,
   "id": "41837311",
   "metadata": {},
   "outputs": [],
   "source": [
    "%run 4.inference.ipynb"
   ]
  },
  {
   "cell_type": "markdown",
   "id": "3c7f5081",
   "metadata": {},
   "source": [
    "## Fusion"
   ]
  },
  {
   "cell_type": "code",
   "execution_count": null,
   "id": "b8260800",
   "metadata": {},
   "outputs": [],
   "source": [
    "%run 5.fusion.ipynb"
   ]
  },
  {
   "cell_type": "markdown",
   "id": "9fea964b",
   "metadata": {},
   "source": [
    "## Kalman"
   ]
  },
  {
   "cell_type": "code",
   "execution_count": null,
   "id": "86f8c3e8",
   "metadata": {},
   "outputs": [],
   "source": [
    "%run 6.kalman.ipynb"
   ]
  },
  {
   "cell_type": "markdown",
   "id": "66f290d5",
   "metadata": {},
   "source": [
    "## Resuts"
   ]
  },
  {
   "cell_type": "code",
   "execution_count": null,
   "id": "c047473b",
   "metadata": {},
   "outputs": [],
   "source": [
    "%run 7.results.ipynb"
   ]
  },
  {
   "cell_type": "markdown",
   "id": "4b20a99e",
   "metadata": {},
   "source": [
    "# Good Metrics and Bad RADNET\n",
    "\n",
    "Métricas da rede (\"rssi\", \"etx\", \"delay\", \"busy_fraction\") boas, e estatísticas do RADNET (\"apmr_edge\", \"mfsr_edge\", \"idg_global\") ruins."
   ]
  },
  {
   "cell_type": "markdown",
   "id": "90f62edd",
   "metadata": {},
   "source": [
    "## Dataset"
   ]
  },
  {
   "cell_type": "code",
   "execution_count": null,
   "id": "3a1c1d17",
   "metadata": {},
   "outputs": [],
   "source": [
    "%run 1.dataset.ipynb"
   ]
  },
  {
   "cell_type": "markdown",
   "id": "3e3f06a4",
   "metadata": {},
   "source": [
    "## Train"
   ]
  },
  {
   "cell_type": "code",
   "execution_count": null,
   "id": "06f4102c",
   "metadata": {},
   "outputs": [],
   "source": [
    "%run 2.train.ipynb"
   ]
  },
  {
   "cell_type": "markdown",
   "id": "38fe5bba",
   "metadata": {},
   "source": [
    "## Inputs"
   ]
  },
  {
   "cell_type": "markdown",
   "id": "ba9a7ef8",
   "metadata": {},
   "source": [
    "### Imports"
   ]
  },
  {
   "cell_type": "code",
   "execution_count": null,
   "id": "bbe83d49",
   "metadata": {},
   "outputs": [],
   "source": [
    "import os\n",
    "import pandas as pd\n",
    "import numpy as np"
   ]
  },
  {
   "cell_type": "markdown",
   "id": "2f2f7baf",
   "metadata": {},
   "source": [
    "### Parameters"
   ]
  },
  {
   "cell_type": "code",
   "execution_count": null,
   "id": "33bd57b3",
   "metadata": {},
   "outputs": [],
   "source": [
    "num_samples = 70 # quantidade de exemplos"
   ]
  },
  {
   "cell_type": "markdown",
   "id": "c91c4993",
   "metadata": {},
   "source": [
    "### Good Metrics and Bad RADNET"
   ]
  },
  {
   "cell_type": "code",
   "execution_count": null,
   "id": "87d50fe4",
   "metadata": {},
   "outputs": [],
   "source": [
    "edge_inputs = []\n",
    "\n",
    "while len(edge_inputs) < num_samples:\n",
    "    # Gerar sempre métricas boas para edge inputs\n",
    "    \n",
    "    # RSSI: sempre alto (sinal forte)\n",
    "    rssi = np.random.uniform(-65, -30)  \n",
    "    \n",
    "    # ETX: tendência para baixo (poucas retransmissões)\n",
    "    etx = np.random.uniform(1, 4)\n",
    "    \n",
    "    # Delay: tendência para baixo\n",
    "    delay = np.random.uniform(1, 40)\n",
    "    \n",
    "    # Busy fraction: tendência para baixo (canal livre)\n",
    "    busy_fraction = np.random.uniform(0, 0.4)\n",
    "    \n",
    "    # Adicionar algumas variações extremas boas\n",
    "    extreme_factor = 0.3\n",
    "    if np.random.random() < extreme_factor:\n",
    "        if np.random.random() < 0.5:\n",
    "            rssi = np.random.uniform(-45, -30)  # RSSI muito alto\n",
    "        if np.random.random() < 0.5:\n",
    "            etx = np.random.uniform(1, 2)       # ETX muito baixo\n",
    "        if np.random.random() < 0.5:\n",
    "            delay = np.random.uniform(1, 20)    # Delay muito baixo\n",
    "        if np.random.random() < 0.5:\n",
    "            busy_fraction = np.random.uniform(0, 0.2)  # Canal muito livre\n",
    "    \n",
    "    # Arredondar valores\n",
    "    rssi = round(rssi, 1)\n",
    "    etx = round(etx, 1)\n",
    "    delay = round(delay)\n",
    "    busy_fraction = round(busy_fraction, 2)\n",
    "    \n",
    "    edge_inputs.append([rssi, etx, delay, busy_fraction])"
   ]
  },
  {
   "cell_type": "code",
   "execution_count": null,
   "id": "be8bdfb4",
   "metadata": {},
   "outputs": [],
   "source": [
    "radnet_inputs = []\n",
    "\n",
    "while len(radnet_inputs) < num_samples:\n",
    "    # Gerar sempre métricas ruins para radnet\n",
    "    # Cenários de alta mobilidade, muitos pares, rede congestionada\n",
    "    \n",
    "    # APMR: tendência baixa (prefixes ineficientes)\n",
    "    apmr_edge = np.random.uniform(0.45, 0.65)\n",
    "    \n",
    "    # MFSR: tendência baixa (baixa taxa de sucesso)\n",
    "    mfsr_edge = np.random.uniform(0.50, 0.70)\n",
    "    \n",
    "    # IDG: tendência baixa (entrega difícil em grupo)\n",
    "    idg_global = np.random.uniform(0.45, 0.65)\n",
    "    \n",
    "    # Adicionar casos extremamente ruins\n",
    "    extreme_factor = 0.25\n",
    "    if np.random.random() < extreme_factor:\n",
    "        if np.random.random() < 0.5:\n",
    "            apmr_edge = np.random.uniform(0.45, 0.55)  # APMR muito baixo\n",
    "        if np.random.random() < 0.5:\n",
    "            mfsr_edge = np.random.uniform(0.50, 0.60)  # MFSR muito baixo\n",
    "        if np.random.random() < 0.5:\n",
    "            idg_global = np.random.uniform(0.45, 0.55)  # IDG muito baixo\n",
    "    \n",
    "    # Garantir ranges válidos\n",
    "    apmr_edge = max(0.45, min(0.70, apmr_edge))\n",
    "    mfsr_edge = max(0.50, min(0.75, mfsr_edge))\n",
    "    idg_global = max(0.45, min(0.70, idg_global))\n",
    "    \n",
    "    # Arredondar valores\n",
    "    apmr_edge = round(apmr_edge, 6)\n",
    "    mfsr_edge = round(mfsr_edge, 6)\n",
    "    idg_global = round(idg_global, 2)\n",
    "    \n",
    "    radnet_inputs.append([apmr_edge, mfsr_edge, idg_global])"
   ]
  },
  {
   "cell_type": "markdown",
   "id": "de206746",
   "metadata": {},
   "source": [
    "### Save"
   ]
  },
  {
   "cell_type": "code",
   "execution_count": null,
   "id": "c0942e08",
   "metadata": {},
   "outputs": [],
   "source": [
    "edges_input = pd.DataFrame(edge_inputs, columns=[\"rssi\", \"etx\", \"delay\", \"busy_fraction\"])\n",
    "os.makedirs(\"../inputs\", exist_ok=True)\n",
    "edges_input.to_csv(\"../inputs/edges_input.csv\", index=False)\n",
    "\n",
    "print(\"Edges Inputs salvo em ../datasets/edges_input.csv\")"
   ]
  },
  {
   "cell_type": "code",
   "execution_count": null,
   "id": "aa4642db",
   "metadata": {},
   "outputs": [],
   "source": [
    "radnet_input = pd.DataFrame(radnet_inputs, columns=[\"apmr_edge\", \"mfsr_edge\", \"idg_global\"])\n",
    "os.makedirs(\"../inputs\", exist_ok=True)\n",
    "radnet_input.to_csv(\"../inputs/radnet_input.csv\", index=False)\n",
    "\n",
    "print(\"Radnet Input salvo em ../datasets/radnet_input.csv\")"
   ]
  },
  {
   "cell_type": "markdown",
   "id": "4e0ca82e",
   "metadata": {},
   "source": [
    "## Inference"
   ]
  },
  {
   "cell_type": "code",
   "execution_count": null,
   "id": "7a05417b",
   "metadata": {},
   "outputs": [],
   "source": [
    "%run 4.inference.ipynb"
   ]
  },
  {
   "cell_type": "markdown",
   "id": "aab6d556",
   "metadata": {},
   "source": [
    "## Fusion"
   ]
  },
  {
   "cell_type": "code",
   "execution_count": null,
   "id": "07e537cf",
   "metadata": {},
   "outputs": [],
   "source": [
    "%run 5.fusion.ipynb"
   ]
  },
  {
   "cell_type": "markdown",
   "id": "ea0d9e20",
   "metadata": {},
   "source": [
    "## Kalman"
   ]
  },
  {
   "cell_type": "code",
   "execution_count": null,
   "id": "010a6636",
   "metadata": {},
   "outputs": [],
   "source": [
    "%run 6.kalman.ipynb"
   ]
  },
  {
   "cell_type": "markdown",
   "id": "f588919a",
   "metadata": {},
   "source": [
    "## Results"
   ]
  },
  {
   "cell_type": "code",
   "execution_count": null,
   "id": "5d15986e",
   "metadata": {},
   "outputs": [],
   "source": [
    "%run 7.results.ipynb"
   ]
  },
  {
   "cell_type": "markdown",
   "id": "bcc1eae9",
   "metadata": {},
   "source": [
    "# Bad Metrics and Good RADNET\n",
    "\n",
    "Métricas da rede (\"rssi\", \"etx\", \"delay\", \"busy_fraction\") ruins, e estatísticas do RADNET (\"apmr_edge\", \"mfsr_edge\", \"idg_global\") boas."
   ]
  },
  {
   "cell_type": "markdown",
   "id": "a0ae8cb6",
   "metadata": {},
   "source": [
    "## Dataset"
   ]
  },
  {
   "cell_type": "code",
   "execution_count": null,
   "id": "72769e85",
   "metadata": {},
   "outputs": [],
   "source": [
    "%run 1.dataset.ipynb"
   ]
  },
  {
   "cell_type": "markdown",
   "id": "2a577361",
   "metadata": {},
   "source": [
    "## Train"
   ]
  },
  {
   "cell_type": "code",
   "execution_count": null,
   "id": "973f05c9",
   "metadata": {},
   "outputs": [],
   "source": [
    "%run 2.train.ipynb"
   ]
  },
  {
   "cell_type": "markdown",
   "id": "e8db781f",
   "metadata": {},
   "source": [
    "## Imputs"
   ]
  },
  {
   "cell_type": "markdown",
   "id": "a0abab29",
   "metadata": {},
   "source": [
    "### Impots"
   ]
  },
  {
   "cell_type": "code",
   "execution_count": null,
   "id": "728b119a",
   "metadata": {},
   "outputs": [],
   "source": [
    "import os\n",
    "import pandas as pd\n",
    "import numpy as np"
   ]
  },
  {
   "cell_type": "markdown",
   "id": "9939f3ce",
   "metadata": {},
   "source": [
    "### Parameters"
   ]
  },
  {
   "cell_type": "code",
   "execution_count": null,
   "id": "5504c1b1",
   "metadata": {},
   "outputs": [],
   "source": [
    "num_samples = 70 # quantidade de exemplos"
   ]
  },
  {
   "cell_type": "markdown",
   "id": "67e9a999",
   "metadata": {},
   "source": [
    "### Bad Metrics and Good RADNET"
   ]
  },
  {
   "cell_type": "code",
   "execution_count": null,
   "id": "47ee874e",
   "metadata": {},
   "outputs": [],
   "source": [
    "edge_inputs = []\n",
    "\n",
    "while len(edge_inputs) < num_samples:\n",
    "    # Gerar sempre métricas ruins para edge inputs\n",
    "    # Forçar pelo menos 2 métricas ruins por amostra\n",
    "    \n",
    "    # RSSI: sempre baixo (sinal fraco)\n",
    "    rssi = np.random.uniform(-90, -60)  \n",
    "    \n",
    "    # ETX: tendência para alto (mais retransmissões)\n",
    "    etx = np.random.uniform(4, 10)\n",
    "    \n",
    "    # Delay: tendência para alto\n",
    "    delay = np.random.uniform(30, 100)\n",
    "    \n",
    "    # Busy fraction: tendência para alto (canal ocupado)\n",
    "    busy_fraction = np.random.uniform(0.3, 1.0)\n",
    "    \n",
    "    # Adicionar algumas variações extremas\n",
    "    extreme_factor = 0.3\n",
    "    if np.random.random() < extreme_factor:\n",
    "        if np.random.random() < 0.5:\n",
    "            rssi = np.random.uniform(-95, -85)  # RSSI muito baixo\n",
    "        if np.random.random() < 0.5:\n",
    "            etx = np.random.uniform(7, 10)      # ETX muito alto\n",
    "        if np.random.random() < 0.5:\n",
    "            delay = np.random.uniform(70, 100)  # Delay muito alto\n",
    "        if np.random.random() < 0.5:\n",
    "            busy_fraction = np.random.uniform(0.8, 1.0)  # Canal muito ocupado\n",
    "    \n",
    "    # Arredondar valores\n",
    "    rssi = round(rssi, 1)\n",
    "    etx = round(etx, 1)\n",
    "    delay = round(delay)\n",
    "    busy_fraction = round(busy_fraction, 2)\n",
    "    \n",
    "    edge_inputs.append([rssi, etx, delay, busy_fraction])"
   ]
  },
  {
   "cell_type": "code",
   "execution_count": null,
   "id": "748eb6e2",
   "metadata": {},
   "outputs": [],
   "source": [
    "radnet_inputs = []\n",
    "\n",
    "while len(radnet_inputs) < num_samples:\n",
    "    # Gerar sempre métricas boas para radnet\n",
    "    # Cenários de baixa mobilidade, poucos pares, rede estável\n",
    "    \n",
    "    # APMR: tendência alta (prefixes eficientes)\n",
    "    apmr_edge = np.random.uniform(0.75, 0.95)\n",
    "    \n",
    "    # MFSR: tendência alta (alta taxa de sucesso)\n",
    "    mfsr_edge = np.random.uniform(0.80, 0.95)\n",
    "    \n",
    "    # IDG: tendência alta (entrega eficiente em grupo)\n",
    "    idg_global = np.random.uniform(0.70, 0.90)\n",
    "    \n",
    "    # Adicionar casos extremamente bons\n",
    "    extreme_factor = 0.25\n",
    "    if np.random.random() < extreme_factor:\n",
    "        if np.random.random() < 0.5:\n",
    "            apmr_edge = np.random.uniform(0.85, 0.95)  # APMR muito alto\n",
    "        if np.random.random() < 0.5:\n",
    "            mfsr_edge = np.random.uniform(0.88, 0.95)  # MFSR muito alto\n",
    "        if np.random.random() < 0.5:\n",
    "            idg_global = np.random.uniform(0.80, 0.90)  # IDG muito alto\n",
    "    \n",
    "    # Garantir ranges válidos\n",
    "    apmr_edge = max(0.70, min(0.98, apmr_edge))\n",
    "    mfsr_edge = max(0.75, min(0.98, mfsr_edge))\n",
    "    idg_global = max(0.65, min(0.95, idg_global))\n",
    "    \n",
    "    # Arredondar valores\n",
    "    apmr_edge = round(apmr_edge, 6)\n",
    "    mfsr_edge = round(mfsr_edge, 6)\n",
    "    idg_global = round(idg_global, 2)\n",
    "    \n",
    "    radnet_inputs.append([apmr_edge, mfsr_edge, idg_global])"
   ]
  },
  {
   "cell_type": "markdown",
   "id": "64a32947",
   "metadata": {},
   "source": [
    "### Save"
   ]
  },
  {
   "cell_type": "code",
   "execution_count": null,
   "id": "445a32a9",
   "metadata": {},
   "outputs": [],
   "source": [
    "edges_input = pd.DataFrame(edge_inputs, columns=[\"rssi\", \"etx\", \"delay\", \"busy_fraction\"])\n",
    "os.makedirs(\"../inputs\", exist_ok=True)\n",
    "edges_input.to_csv(\"../inputs/edges_input.csv\", index=False)\n",
    "\n",
    "print(\"Edges Inputs salvo em ../datasets/edges_input.csv\")"
   ]
  },
  {
   "cell_type": "code",
   "execution_count": null,
   "id": "d1977aa3",
   "metadata": {},
   "outputs": [],
   "source": [
    "radnet_input = pd.DataFrame(radnet_inputs, columns=[\"apmr_edge\", \"mfsr_edge\", \"idg_global\"])\n",
    "os.makedirs(\"../inputs\", exist_ok=True)\n",
    "radnet_input.to_csv(\"../inputs/radnet_input.csv\", index=False)\n",
    "\n",
    "print(\"Radnet Input salvo em ../datasets/radnet_input.csv\")"
   ]
  },
  {
   "cell_type": "markdown",
   "id": "7829d665",
   "metadata": {},
   "source": [
    "## Inference"
   ]
  },
  {
   "cell_type": "code",
   "execution_count": null,
   "id": "e834a0ec",
   "metadata": {},
   "outputs": [],
   "source": [
    "%run 4.inference.ipynb"
   ]
  },
  {
   "cell_type": "markdown",
   "id": "b26745df",
   "metadata": {},
   "source": [
    "## Fusion"
   ]
  },
  {
   "cell_type": "code",
   "execution_count": null,
   "id": "cea82b76",
   "metadata": {},
   "outputs": [],
   "source": [
    "%run 5.fusion.ipynb"
   ]
  },
  {
   "cell_type": "markdown",
   "id": "b013f26b",
   "metadata": {},
   "source": [
    "## Kalman"
   ]
  },
  {
   "cell_type": "code",
   "execution_count": null,
   "id": "501f5185",
   "metadata": {},
   "outputs": [],
   "source": [
    "%run 6.kalman.ipynb"
   ]
  },
  {
   "cell_type": "markdown",
   "id": "db1edcea",
   "metadata": {},
   "source": [
    "## Results"
   ]
  },
  {
   "cell_type": "code",
   "execution_count": null,
   "id": "9d4d4214",
   "metadata": {},
   "outputs": [],
   "source": [
    "%run 7.results.ipynb"
   ]
  }
 ],
 "metadata": {
  "kernelspec": {
   "display_name": "venv (3.9.6)",
   "language": "python",
   "name": "python3"
  },
  "language_info": {
   "codemirror_mode": {
    "name": "ipython",
    "version": 3
   },
   "file_extension": ".py",
   "mimetype": "text/x-python",
   "name": "python",
   "nbconvert_exporter": "python",
   "pygments_lexer": "ipython3",
   "version": "3.9.6"
  }
 },
 "nbformat": 4,
 "nbformat_minor": 5
}
