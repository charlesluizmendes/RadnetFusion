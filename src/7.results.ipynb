{
 "cells": [
  {
   "cell_type": "markdown",
   "id": "3b72beb0",
   "metadata": {},
   "source": [
    "### Imports"
   ]
  },
  {
   "cell_type": "code",
   "execution_count": null,
   "id": "e3807161",
   "metadata": {},
   "outputs": [],
   "source": [
    "import pandas as pd\n",
    "import numpy as np\n",
    "import matplotlib.pyplot as plt\n",
    "import matplotlib.patches as mpatches"
   ]
  },
  {
   "cell_type": "markdown",
   "id": "9da111f0",
   "metadata": {},
   "source": [
    "### Inputs"
   ]
  },
  {
   "cell_type": "code",
   "execution_count": null,
   "id": "10218f2c",
   "metadata": {},
   "outputs": [],
   "source": [
    "inference_output_df = pd.read_csv(\"../outputs/inference_output.csv\")\n",
    "inference_output_class = inference_output_df['class'].values\n",
    "inference_output_confidence = inference_output_df['confidence'].values"
   ]
  },
  {
   "cell_type": "code",
   "execution_count": null,
   "id": "00125f09",
   "metadata": {},
   "outputs": [],
   "source": [
    "fusion_output_df = pd.read_csv(\"../outputs/fusion_output.csv\")\n",
    "fusion_output_class = fusion_output_df['class'].values\n",
    "fusion_output_confidence = fusion_output_df['confidence'].values"
   ]
  },
  {
   "cell_type": "code",
   "execution_count": null,
   "id": "bb92b780",
   "metadata": {},
   "outputs": [],
   "source": [
    "kalman_output_df = pd.read_csv(\"../outputs/kalman_output.csv\")\n",
    "kalman_output_class = kalman_output_df['class'].values\n",
    "kalman_output_confidence = kalman_output_df['confidence'].values"
   ]
  },
  {
   "cell_type": "markdown",
   "id": "d215f89f",
   "metadata": {},
   "source": [
    "### Confiança: GNN vs Fusão vs Kalman"
   ]
  },
  {
   "cell_type": "code",
   "execution_count": null,
   "id": "27e36781",
   "metadata": {},
   "outputs": [],
   "source": [
    "plt.figure(figsize=(10,6))\n",
    "\n",
    "plt.plot(inference_output_confidence, label=\"GNN Inferência\", alpha=0.7)\n",
    "plt.plot(fusion_output_confidence, label=\"Fusão\", alpha=0.7)\n",
    "plt.plot(kalman_output_confidence, label=\"Filtro de Kalman\", linewidth=2)\n",
    "\n",
    "plt.title(\"Confiança: GNN vs Fusão vs Kalman\")\n",
    "plt.xlabel(\"Amostras\")\n",
    "plt.ylabel(\"Confiança\")\n",
    "\n",
    "plt.legend()\n",
    "plt.grid(True, alpha=0.3)\n",
    "plt.ylim(0.5, 1)\n",
    "\n",
    "plt.show()"
   ]
  },
  {
   "cell_type": "markdown",
   "id": "03eb456e",
   "metadata": {},
   "source": [
    "### Confiança: GNN vs Fusão vs Kalman (primeiras 10 amostras)"
   ]
  },
  {
   "cell_type": "code",
   "execution_count": null,
   "id": "cbc5fcd2",
   "metadata": {},
   "outputs": [],
   "source": [
    "N = min(10, len(inference_output_confidence))\n",
    "idx = np.arange(N)\n",
    "ml_10  = np.array(inference_output_confidence[:N])\n",
    "fus_10 = np.array(fusion_output_confidence[:N])\n",
    "kal_10 = np.array(kalman_output_confidence[:N])\n",
    "\n",
    "bar_w = 0.27\n",
    "fig, ax = plt.subplots(figsize=(12, 5))\n",
    "b1 = ax.bar(idx - bar_w, ml_10,  width=bar_w, label=\"GNN\", color='skyblue')\n",
    "b2 = ax.bar(idx, fus_10, width=bar_w, label=\"Fusão\", color='orange')\n",
    "b3 = ax.bar(idx + bar_w,  kal_10, width=bar_w, label=\"Kalman\", color='green')\n",
    "\n",
    "# Ajuste do eixo Y para mostrar apenas de 0.5 a 1\n",
    "ymin = 0.5\n",
    "ymax = 1.0\n",
    "ax.set_ylim(ymin, ymax)\n",
    "\n",
    "# Definir ticks entre 0.5 e 1.0\n",
    "ticks = np.linspace(0.5, 1.0, 6)  # 0.5, 0.6, 0.7, 0.8, 0.9, 1.0\n",
    "ax.set_yticks(ticks)\n",
    "ax.set_yticklabels([f\"{t:.1f}\" for t in ticks])\n",
    "\n",
    "# Distância para as anotações\n",
    "dy = 0.015 * (ymax - ymin)\n",
    "\n",
    "def annotate_bars(bars, fmt=\"{:.2f}\", delta=dy):\n",
    "    for bar in bars:\n",
    "        h = bar.get_height()\n",
    "        ax.text(\n",
    "            bar.get_x() + bar.get_width()/2., h + delta,\n",
    "            fmt.format(h),\n",
    "            ha=\"center\", va=\"bottom\", fontsize=9, clip_on=False\n",
    "        )\n",
    "\n",
    "annotate_bars(b1)\n",
    "annotate_bars(b2)\n",
    "annotate_bars(b3)\n",
    "\n",
    "plt.title(\"Confiança: GNN vs Fusão vs Kalman (primeiras 10 amostras)\", pad=22)\n",
    "plt.xlabel(\"Amostras\")\n",
    "plt.ylabel(\"Confiança\")\n",
    "\n",
    "plt.xticks(idx, [str(i) for i in idx])\n",
    "plt.legend(loc=\"upper left\")\n",
    "\n",
    "plt.grid(True, axis=\"y\", alpha=0.3)\n",
    "plt.tight_layout()\n",
    "\n",
    "plt.show()"
   ]
  },
  {
   "cell_type": "markdown",
   "id": "edd12cfd",
   "metadata": {},
   "source": [
    "### Classificação: GNN vs Fusão vs Kalman"
   ]
  },
  {
   "cell_type": "code",
   "execution_count": null,
   "id": "89c58e03",
   "metadata": {},
   "outputs": [],
   "source": [
    "inf = np.asarray(inference_output_class).astype(int)\n",
    "fus = np.asarray(fusion_output_class).astype(int)\n",
    "kal = np.asarray(kalman_output_class).astype(int)\n",
    "N = min(len(inf), len(fus), len(kal))\n",
    "inf, fus, kal = inf[:N], fus[:N], kal[:N]\n",
    "\n",
    "x = np.arange(0, N)\n",
    "\n",
    "colors = {\"GNN\":\"tab:blue\", \"Fusão\":\"tab:orange\", \"Kalman\":\"tab:green\"}\n",
    "\n",
    "plt.figure(figsize=(14, 4.6))\n",
    "ax = plt.gca()\n",
    "\n",
    "rows = [\n",
    "    (\"Kalman\", kal, 0.0),\n",
    "    (\"Fusão\",  fus, 2.0),\n",
    "    (\"GNN\",    inf, 4.0),\n",
    "]\n",
    "\n",
    "for lab, yvals, yoff in rows:\n",
    "    ax.plot(\n",
    "        x, yoff + yvals,\n",
    "        drawstyle=\"steps-mid\",\n",
    "        linewidth=1.6,\n",
    "        marker=\"o\", markersize=2,\n",
    "        color=colors[lab], label=lab\n",
    "    )\n",
    "\n",
    "ax.set_yticks([0.5, 2.5, 4.5])\n",
    "ax.set_yticklabels([\"Kalman\", \"Fusão\", \"GNN\"])\n",
    "\n",
    "ax.set_xlabel(\"Amostras\")\n",
    "ax.set_title(\"Classificação: GNN vs Fusão vs Kalman\")\n",
    "\n",
    "pad = 0.03 * N\n",
    "ax.set_xlim(0 - pad, (N-1) + pad)\n",
    "ax.set_ylim(-0.4, 5.4)\n",
    "\n",
    "ax.set_xticks(np.arange(0, N, 10))\n",
    "\n",
    "xlab = 0 - pad*0.4  # mudança aqui: posição relativa ao pad\n",
    "\n",
    "for _, _, yoff in rows:\n",
    "    ax.text(xlab, yoff + 0, \"0\", va=\"center\", ha=\"right\")\n",
    "    ax.text(xlab, yoff + 1, \"1\", va=\"center\", ha=\"right\")\n",
    "\n",
    "plt.tight_layout()\n",
    "plt.show()"
   ]
  },
  {
   "cell_type": "markdown",
   "id": "c57f20c5",
   "metadata": {},
   "source": [
    "### Classificação: GNN vs Fusão vs Kalman (primeiras 10 amostras)"
   ]
  },
  {
   "cell_type": "code",
   "execution_count": null,
   "id": "d2f7dff0",
   "metadata": {},
   "outputs": [],
   "source": [
    "inf = np.asarray(inference_output_class).astype(int)\n",
    "fus = np.asarray(fusion_output_class).astype(int)\n",
    "kal = np.asarray(kalman_output_class).astype(int)\n",
    "\n",
    "N = min(len(inf), len(fus), len(kal))\n",
    "N10 = min(10, N)\n",
    "inf, fus, kal = inf[:N10], fus[:N10], kal[:N10]\n",
    "\n",
    "x = np.arange(0, N10)\n",
    "\n",
    "colors = {\"GNN\":\"tab:blue\", \"Fusão\":\"tab:orange\", \"Kalman\":\"tab:green\"}\n",
    "\n",
    "plt.figure(figsize=(14, 4.6))\n",
    "ax = plt.gca()\n",
    "\n",
    "rows = [\n",
    "    (\"Kalman\", kal, 0.0),\n",
    "    (\"Fusão\",  fus, 2.0),\n",
    "    (\"GNN\",    inf, 4.0),\n",
    "]\n",
    "\n",
    "for lab, yvals, yoff in rows:\n",
    "    ax.plot(x, yoff + yvals, drawstyle=\"steps-mid\",\n",
    "            linewidth=1.6, marker=\"o\", markersize=2,\n",
    "            color=colors[lab], label=lab)\n",
    "\n",
    "ax.set_yticks([0.5, 2.5, 4.5])\n",
    "ax.set_yticklabels([\"Kalman\", \"Fusão\", \"GNN\"])\n",
    "ax.set_xlabel(\"Amostras\")\n",
    "ax.set_title(\"Classificação: GNN vs Fusão vs Kalman (primeiras 10 amostras)\")\n",
    "\n",
    "pad = 0.03 * N10\n",
    "ax.set_xlim(0 - pad, (N10-1) + pad)\n",
    "ax.set_ylim(-0.4, 5.4)\n",
    "\n",
    "ax.set_xticks(np.arange(0, N10, 1))\n",
    "\n",
    "xlab = -0.15\n",
    "for _, _, yoff in rows:\n",
    "    ax.text(xlab, yoff + 0, \"0\", va=\"center\", ha=\"right\")\n",
    "    ax.text(xlab, yoff + 1, \"1\", va=\"center\", ha=\"right\")\n",
    "\n",
    "plt.tight_layout()\n",
    "plt.show()"
   ]
  }
 ],
 "metadata": {
  "kernelspec": {
   "display_name": "venv (3.9.6)",
   "language": "python",
   "name": "python3"
  },
  "language_info": {
   "codemirror_mode": {
    "name": "ipython",
    "version": 3
   },
   "file_extension": ".py",
   "mimetype": "text/x-python",
   "name": "python",
   "nbconvert_exporter": "python",
   "pygments_lexer": "ipython3",
   "version": "3.9.6"
  }
 },
 "nbformat": 4,
 "nbformat_minor": 5
}
