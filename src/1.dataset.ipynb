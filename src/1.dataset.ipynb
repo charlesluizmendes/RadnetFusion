{
 "cells": [
  {
   "cell_type": "markdown",
   "id": "2684c42f",
   "metadata": {},
   "source": [
    "### Imports"
   ]
  },
  {
   "cell_type": "code",
   "execution_count": 1,
   "id": "893c315d",
   "metadata": {},
   "outputs": [],
   "source": [
    "import os\n",
    "import pandas as pd\n",
    "import numpy as np"
   ]
  },
  {
   "cell_type": "markdown",
   "id": "557d5357",
   "metadata": {},
   "source": [
    "### Parameters"
   ]
  },
  {
   "cell_type": "code",
   "execution_count": 2,
   "id": "0d5c7004",
   "metadata": {},
   "outputs": [],
   "source": [
    "num_nodes = 100000  # quantidade de nós\n",
    "num_edges = 200000  # quantidade de arestas"
   ]
  },
  {
   "cell_type": "markdown",
   "id": "d99dd180",
   "metadata": {},
   "source": [
    "### Dataset"
   ]
  },
  {
   "cell_type": "code",
   "execution_count": 3,
   "id": "85f2754e",
   "metadata": {},
   "outputs": [],
   "source": [
    "edges = []\n",
    "label_0_count = 0\n",
    "label_1_count = 0\n",
    "target_per_label = num_edges // 2\n",
    "\n",
    "while len(edges) < num_edges:\n",
    "    src = np.random.randint(0, num_nodes)\n",
    "    dest = np.random.randint(0, num_nodes)\n",
    "    if src == dest:  # evitar laços\n",
    "        continue\n",
    "    \n",
    "    # Decidir qual label gerar para manter equilíbrio\n",
    "    if label_0_count >= target_per_label:\n",
    "        target_label = 1\n",
    "    elif label_1_count >= target_per_label:\n",
    "        target_label = 0\n",
    "    else:\n",
    "        target_label = np.random.randint(0, 2)\n",
    "    \n",
    "    # Gerar metricas baseadas no target_label\n",
    "    if target_label == 1:  # aresta boa\n",
    "        rssi = np.random.uniform(-65, -30)    # sinal mais forte\n",
    "        etx = np.random.uniform(1, 4)         # menos retransmissões\n",
    "        delay = np.random.uniform(1, 40)      # menor delay\n",
    "        busy = np.random.uniform(0, 0.4)      # menos ocupado\n",
    "    else:  # aresta ruim\n",
    "        rssi = np.random.uniform(-90, -55)    # sinal mais fraco\n",
    "        etx = np.random.uniform(3, 10)        # mais retransmissões\n",
    "        delay = np.random.uniform(25, 100)    # maior delay\n",
    "        busy = np.random.uniform(0.25, 1)     # mais ocupado\n",
    "    \n",
    "    # Adicionar alguma variação para não ficar muito determinístico\n",
    "    noise_factor = 0.30\n",
    "    if np.random.random() < noise_factor:\n",
    "        # Ocasionalmente criar uma exceção para adicionar realismo\n",
    "        if target_label == 1:\n",
    "            # Tornar algumas metricas piores\n",
    "            if np.random.random() < 0.5:\n",
    "                rssi = np.random.uniform(-80, -60)\n",
    "            if np.random.random() < 0.5:\n",
    "                etx = np.random.uniform(2, 6)\n",
    "        else:\n",
    "            # Tornar algumas metricas melhores\n",
    "            if np.random.random() < 0.5:\n",
    "                rssi = np.random.uniform(-70, -40)\n",
    "            if np.random.random() < 0.5:\n",
    "                delay = np.random.uniform(5, 50)\n",
    "    \n",
    "    label = target_label\n",
    "    \n",
    "    if label == 0:\n",
    "        label_0_count += 1\n",
    "    else:\n",
    "        label_1_count += 1\n",
    "    \n",
    "    edges.append([src, dest, rssi, etx, delay, busy, label])"
   ]
  },
  {
   "cell_type": "markdown",
   "id": "52cbc24a",
   "metadata": {},
   "source": [
    "### Save"
   ]
  },
  {
   "cell_type": "code",
   "execution_count": 4,
   "id": "ab18ade9",
   "metadata": {},
   "outputs": [
    {
     "name": "stdout",
     "output_type": "stream",
     "text": [
      "Dataset salvo em ../datasets/edges_dataset.csv\n"
     ]
    }
   ],
   "source": [
    "df = pd.DataFrame(edges, columns=[\"src\", \"dest\", \"rssi\", \"etx\", \"delay\", \"busy_fraction\", \"label\"])\n",
    "os.makedirs(\"../datasets\", exist_ok=True)\n",
    "df.to_csv(\"../datasets/edges_dataset.csv\", index=False)\n",
    "\n",
    "print(\"Dataset salvo em ../datasets/edges_dataset.csv\")"
   ]
  }
 ],
 "metadata": {
  "kernelspec": {
   "display_name": "venv (3.9.6)",
   "language": "python",
   "name": "python3"
  },
  "language_info": {
   "codemirror_mode": {
    "name": "ipython",
    "version": 3
   },
   "file_extension": ".py",
   "mimetype": "text/x-python",
   "name": "python",
   "nbconvert_exporter": "python",
   "pygments_lexer": "ipython3",
   "version": "3.9.6"
  }
 },
 "nbformat": 4,
 "nbformat_minor": 5
}
