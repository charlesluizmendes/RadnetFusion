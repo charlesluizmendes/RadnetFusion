{
 "cells": [
  {
   "cell_type": "markdown",
   "id": "2684c42f",
   "metadata": {},
   "source": [
    "### Imports"
   ]
  },
  {
   "cell_type": "code",
   "execution_count": 16,
   "id": "893c315d",
   "metadata": {},
   "outputs": [],
   "source": [
    "import os\n",
    "import pandas as pd\n",
    "import numpy as np"
   ]
  },
  {
   "cell_type": "markdown",
   "id": "557d5357",
   "metadata": {},
   "source": [
    "### Parameters"
   ]
  },
  {
   "cell_type": "code",
   "execution_count": 17,
   "id": "0d5c7004",
   "metadata": {},
   "outputs": [],
   "source": [
    "num_nodes = 100000  # quantidade de nós\n",
    "num_edges = 200000  # quantidade de arestas"
   ]
  },
  {
   "cell_type": "markdown",
   "id": "d99dd180",
   "metadata": {},
   "source": [
    "### Dataset"
   ]
  },
  {
   "cell_type": "code",
   "execution_count": null,
   "id": "85f2754e",
   "metadata": {},
   "outputs": [],
   "source": [
    "def generate_realistic_edge(is_good_link):\n",
    "    if is_good_link:\n",
    "        rssi_mean = -55\n",
    "        rssi_std = 8\n",
    "        rssi = np.random.normal(rssi_mean, rssi_std)\n",
    "        rssi = np.clip(rssi, -85, -30)\n",
    "        \n",
    "        etx = 1 + np.random.exponential(0.8)\n",
    "        etx = np.clip(etx, 1, 8)\n",
    "        \n",
    "        delay = np.random.lognormal(2.3, 0.6)\n",
    "        delay = np.clip(delay, 1, 80)\n",
    "        \n",
    "        busy = np.random.beta(2, 5)\n",
    "        busy = np.clip(busy, 0.05, 0.7)\n",
    "        \n",
    "    else:\n",
    "        rssi_mean = -75\n",
    "        rssi_std = 10\n",
    "        rssi = np.random.normal(rssi_mean, rssi_std)\n",
    "        rssi = np.clip(rssi, -95, -45)\n",
    "        \n",
    "        etx = 1 + np.random.gamma(3, 1.2)\n",
    "        etx = np.clip(etx, 1.5, 15)\n",
    "        \n",
    "        delay = np.random.lognormal(3.5, 0.8)\n",
    "        delay = np.clip(delay, 10, 150)\n",
    "        \n",
    "        busy = np.random.beta(5, 2)\n",
    "        busy = np.clip(busy, 0.1, 1.0)\n",
    "    \n",
    "    rssi += np.random.uniform(-0.05, 0.05)\n",
    "    etx += np.random.uniform(-0.01, 0.01)\n",
    "    delay += np.random.uniform(-0.2, 0.2)\n",
    "    busy += np.random.uniform(-0.005, 0.005)\n",
    "    \n",
    "    rssi = np.clip(rssi, -95, -30)\n",
    "    etx = np.clip(etx, 1.0, 15)\n",
    "    delay = np.clip(delay, 1, 150)\n",
    "    busy = np.clip(busy, 0.0, 1.0)\n",
    "    \n",
    "    if rssi < -70:\n",
    "        etx *= np.random.uniform(1.1, 1.4)\n",
    "        delay *= np.random.uniform(1.05, 1.25)\n",
    "        etx = min(etx, 15)\n",
    "    \n",
    "    if busy > 0.6:\n",
    "        delay *= np.random.uniform(1.2, 1.6)\n",
    "        etx *= np.random.uniform(1.05, 1.2)\n",
    "        delay = min(delay, 150)\n",
    "        etx = min(etx, 15)\n",
    "    \n",
    "    if etx > 7:\n",
    "        delay *= np.random.uniform(1.1, 1.3)\n",
    "        delay = min(delay, 150)\n",
    "    \n",
    "    rssi = round(rssi, 2)\n",
    "    etx = round(etx, 3)\n",
    "    delay = round(delay, 2)\n",
    "    busy = round(busy, 4)\n",
    "    \n",
    "    return rssi, etx, delay, busy\n",
    "\n",
    "\n",
    "edges = []\n",
    "label_0_count = 0\n",
    "label_1_count = 0\n",
    "target_per_label = num_edges // 2\n",
    "\n",
    "existing_edges = set()\n",
    "\n",
    "while len(edges) < num_edges:\n",
    "    src = np.random.randint(0, num_nodes)\n",
    "    dest = np.random.randint(0, num_nodes)\n",
    "    \n",
    "    if src == dest or (src, dest) in existing_edges or (dest, src) in existing_edges:\n",
    "        continue\n",
    "    \n",
    "    existing_edges.add((src, dest))\n",
    "    \n",
    "    if label_0_count >= target_per_label:\n",
    "        target_label = 1\n",
    "    elif label_1_count >= target_per_label:\n",
    "        target_label = 0\n",
    "    else:\n",
    "        target_label = 1 if np.random.random() < 0.52 else 0\n",
    "    \n",
    "    is_good = (target_label == 1)\n",
    "    \n",
    "    rssi, etx, delay, busy = generate_realistic_edge(is_good)\n",
    "    \n",
    "    label = target_label\n",
    "    \n",
    "    if label == 0:\n",
    "        label_0_count += 1\n",
    "    else:\n",
    "        label_1_count += 1\n",
    "    \n",
    "    edges.append([src, dest, rssi, etx, delay, busy, label])"
   ]
  },
  {
   "cell_type": "markdown",
   "id": "52cbc24a",
   "metadata": {},
   "source": [
    "### Save"
   ]
  },
  {
   "cell_type": "code",
   "execution_count": 19,
   "id": "ab18ade9",
   "metadata": {},
   "outputs": [
    {
     "name": "stdout",
     "output_type": "stream",
     "text": [
      "Dataset salvo em ../datasets/edges_dataset.csv\n"
     ]
    }
   ],
   "source": [
    "df = pd.DataFrame(edges, columns=[\"src\", \"dest\", \"rssi\", \"etx\", \"delay\", \"busy_fraction\", \"label\"])\n",
    "os.makedirs(\"../datasets\", exist_ok=True)\n",
    "df.to_csv(\"../datasets/edges_dataset.csv\", index=False)\n",
    "\n",
    "print(\"Dataset salvo em ../datasets/edges_dataset.csv\")"
   ]
  }
 ],
 "metadata": {
  "kernelspec": {
   "display_name": "venv (3.9.6)",
   "language": "python",
   "name": "python3"
  },
  "language_info": {
   "codemirror_mode": {
    "name": "ipython",
    "version": 3
   },
   "file_extension": ".py",
   "mimetype": "text/x-python",
   "name": "python",
   "nbconvert_exporter": "python",
   "pygments_lexer": "ipython3",
   "version": "3.9.6"
  }
 },
 "nbformat": 4,
 "nbformat_minor": 5
}
