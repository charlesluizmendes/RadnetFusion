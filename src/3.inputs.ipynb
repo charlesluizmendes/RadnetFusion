{
 "cells": [
  {
   "cell_type": "markdown",
   "id": "f354b092",
   "metadata": {},
   "source": [
    "### Imports"
   ]
  },
  {
   "cell_type": "code",
   "execution_count": 1,
   "id": "6cad41f7",
   "metadata": {},
   "outputs": [],
   "source": [
    "import os\n",
    "import pandas as pd\n",
    "import numpy as np"
   ]
  },
  {
   "cell_type": "markdown",
   "id": "457c78d3",
   "metadata": {},
   "source": [
    "### Parameters"
   ]
  },
  {
   "cell_type": "code",
   "execution_count": 2,
   "id": "fb855109",
   "metadata": {},
   "outputs": [],
   "source": [
    "num_samples = 70 # quantidade de exemplos"
   ]
  },
  {
   "cell_type": "markdown",
   "id": "1abeb474",
   "metadata": {},
   "source": [
    "### Inputs"
   ]
  },
  {
   "cell_type": "code",
   "execution_count": 3,
   "id": "23e0ea91",
   "metadata": {},
   "outputs": [],
   "source": [
    "edge_inputs = []\n",
    "label_0_count = 0  \n",
    "label_1_count = 0  \n",
    "target_per_label = num_samples // 2\n",
    "\n",
    "while len(edge_inputs) < num_samples:\n",
    "\n",
    "    # Decidir qual tipo de aresta gerar para manter equilíbrio\n",
    "    if label_0_count >= target_per_label:\n",
    "        target_label = 1  # forçar aresta boa\n",
    "    elif label_1_count >= target_per_label:\n",
    "        target_label = 0  # forçar aresta ruim\n",
    "    else:\n",
    "        target_label = np.random.randint(0, 2)     # escolha aleatória\n",
    "    \n",
    "    # Gerar métricas baseadas no target_label\n",
    "    if target_label == 1:  # aresta boa\n",
    "        rssi = np.random.uniform(-65, -30)         # sinal mais forte\n",
    "        etx = np.random.uniform(1, 4)              # menos retransmissões\n",
    "        delay = np.random.uniform(1, 40)           # menor delay\n",
    "        busy_fraction = np.random.uniform(0, 0.4)  # menos ocupado\n",
    "    else:  # aresta ruim\n",
    "        rssi = np.random.uniform(-90, -55)         # sinal mais fraco\n",
    "        etx = np.random.uniform(3, 10)             # mais retransmissões\n",
    "        delay = np.random.uniform(25, 100)         # maior delay\n",
    "        busy_fraction = np.random.uniform(0.25, 1) # mais ocupado\n",
    "    \n",
    "    # Adicionar alguma variação para não ficar muito determinístico\n",
    "    noise_factor = 0.15\n",
    "    \n",
    "    if np.random.random() < noise_factor:\n",
    "        # Ocasionalmente criar uma exceção para adicionar realismo\n",
    "        if target_label == 1:\n",
    "            # Tornar algumas métricas piores\n",
    "            if np.random.random() < 0.5:\n",
    "                rssi = np.random.uniform(-80, -60)\n",
    "            if np.random.random() < 0.5:\n",
    "                etx = np.random.uniform(2, 6)\n",
    "        else:\n",
    "            # Tornar algumas métricas melhores\n",
    "            if np.random.random() < 0.5:\n",
    "                rssi = np.random.uniform(-70, -40)\n",
    "            if np.random.random() < 0.5:\n",
    "                delay = np.random.uniform(5, 50)\n",
    "    \n",
    "    # Contar labels para manter balanceamento\n",
    "    if target_label == 0:\n",
    "        label_0_count += 1\n",
    "    else:\n",
    "        label_1_count += 1\n",
    "    \n",
    "    # Arredondar valores para ficar mais realista\n",
    "    rssi = round(rssi, 1)\n",
    "    etx = round(etx, 1) \n",
    "    delay = round(delay)\n",
    "    busy_fraction = round(busy_fraction, 2)\n",
    "    \n",
    "    edge_inputs.append([rssi, etx, delay, busy_fraction])"
   ]
  },
  {
   "cell_type": "code",
   "execution_count": 4,
   "id": "b71a351d",
   "metadata": {},
   "outputs": [],
   "source": [
    "radnet_inputs = []\n",
    "good_performance_count = 0  \n",
    "poor_performance_count = 0  \n",
    "target_per_performance = num_samples // 2\n",
    "\n",
    "while len(radnet_inputs) < num_samples:\n",
    "    # Decidir qual tipo de performance gerar para manter equilíbrio\n",
    "    if good_performance_count >= target_per_performance:\n",
    "        target_performance = 0  # forçar cenário de performance ruim\n",
    "    elif poor_performance_count >= target_per_performance:\n",
    "        target_performance = 1  # forçar cenário de boa performance\n",
    "    else:\n",
    "        target_performance = np.random.randint(0, 2)  # escolha aleatória\n",
    "    \n",
    "    # Gerar métricas baseadas no target_performance\n",
    "    if target_performance == 1:  # cenário de boa performance\n",
    "        # Baixa mobilidade, poucos pares comunicando, rede estável\n",
    "        apmr_edge = np.random.uniform(0.75, 0.95)    # prefixes muito eficientes\n",
    "        mfsr_edge = np.random.uniform(0.82, 0.95)    # alta taxa de sucesso\n",
    "        idg_global = np.random.uniform(0.68, 0.90)   # boa entrega em grupo\n",
    "    else:  # cenário de performance ruim\n",
    "        # Alta mobilidade, muitos pares, rede congestionada\n",
    "        apmr_edge = np.random.uniform(0.45, 0.72)    # prefixes menos eficientes\n",
    "        mfsr_edge = np.random.uniform(0.50, 0.78)    # taxa de sucesso menor\n",
    "        idg_global = np.random.uniform(0.45, 0.68)   # entrega mais difícil\n",
    "    \n",
    "    # Adicionar alguma variação para não ficar muito determinístico\n",
    "    noise_factor = 0.15\n",
    "    if np.random.random() < noise_factor:\n",
    "        # Ocasionalmente criar uma exceção para adicionar realismo\n",
    "        if target_performance == 1:\n",
    "            # Tornar algumas métricas piores (interferência inesperada)\n",
    "            if np.random.random() < 0.5:\n",
    "                apmr_edge = np.random.uniform(0.65, 0.80)\n",
    "            if np.random.random() < 0.5:\n",
    "                mfsr_edge = np.random.uniform(0.75, 0.85)\n",
    "        else:\n",
    "            # Tornar algumas métricas melhores (condições favoráveis)\n",
    "            if np.random.random() < 0.5:\n",
    "                apmr_edge = np.random.uniform(0.70, 0.85)\n",
    "            if np.random.random() < 0.5:\n",
    "                idg_global = np.random.uniform(0.65, 0.80)\n",
    "    \n",
    "    # Contar performance para manter balanceamento\n",
    "    if target_performance == 0:\n",
    "        poor_performance_count += 1\n",
    "    else:\n",
    "        good_performance_count += 1\n",
    "    \n",
    "    # Garantir que os valores estejam nos ranges válidos [0,1]\n",
    "    apmr_edge = max(0.45, min(0.98, apmr_edge))\n",
    "    mfsr_edge = max(0.50, min(0.98, mfsr_edge))\n",
    "    idg_global = max(0.45, min(0.95, idg_global))\n",
    "    \n",
    "    # Arredondar valores para ficar mais realista\n",
    "    apmr_edge = round(apmr_edge, 6)\n",
    "    mfsr_edge = round(mfsr_edge, 6)\n",
    "    idg_global = round(idg_global, 2)\n",
    "    \n",
    "    radnet_inputs.append([apmr_edge, mfsr_edge, idg_global])"
   ]
  },
  {
   "cell_type": "markdown",
   "id": "468f2e19",
   "metadata": {},
   "source": [
    "### Save"
   ]
  },
  {
   "cell_type": "code",
   "execution_count": 5,
   "id": "e4db4e90",
   "metadata": {},
   "outputs": [
    {
     "name": "stdout",
     "output_type": "stream",
     "text": [
      "Edges Inputs salvo em ../datasets/edges_input.csv\n"
     ]
    }
   ],
   "source": [
    "edges_input = pd.DataFrame(edge_inputs, columns=[\"rssi\", \"etx\", \"delay\", \"busy_fraction\"])\n",
    "os.makedirs(\"../inputs\", exist_ok=True)\n",
    "edges_input.to_csv(\"../inputs/edges_input.csv\", index=False)\n",
    "\n",
    "print(\"Edges Inputs salvo em ../datasets/edges_input.csv\")"
   ]
  },
  {
   "cell_type": "code",
   "execution_count": 6,
   "id": "02880e56",
   "metadata": {},
   "outputs": [
    {
     "name": "stdout",
     "output_type": "stream",
     "text": [
      "Radnet Input salvo em ../datasets/radnet_input.csv\n"
     ]
    }
   ],
   "source": [
    "radnet_input = pd.DataFrame(radnet_inputs, columns=[\"apmr_edge\", \"mfsr_edge\", \"idg_global\"])\n",
    "os.makedirs(\"../inputs\", exist_ok=True)\n",
    "radnet_input.to_csv(\"../inputs/radnet_input.csv\", index=False)\n",
    "\n",
    "print(\"Radnet Input salvo em ../datasets/radnet_input.csv\")"
   ]
  }
 ],
 "metadata": {
  "kernelspec": {
   "display_name": "venv (3.9.6)",
   "language": "python",
   "name": "python3"
  },
  "language_info": {
   "codemirror_mode": {
    "name": "ipython",
    "version": 3
   },
   "file_extension": ".py",
   "mimetype": "text/x-python",
   "name": "python",
   "nbconvert_exporter": "python",
   "pygments_lexer": "ipython3",
   "version": "3.9.6"
  }
 },
 "nbformat": 4,
 "nbformat_minor": 5
}
