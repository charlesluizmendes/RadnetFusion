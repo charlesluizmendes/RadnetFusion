{
 "cells": [
  {
   "cell_type": "markdown",
   "id": "f354b092",
   "metadata": {},
   "source": [
    "### Imports"
   ]
  },
  {
   "cell_type": "code",
   "execution_count": 13,
   "id": "6cad41f7",
   "metadata": {},
   "outputs": [],
   "source": [
    "import os\n",
    "import pandas as pd\n",
    "import numpy as np"
   ]
  },
  {
   "cell_type": "markdown",
   "id": "457c78d3",
   "metadata": {},
   "source": [
    "### Parameters"
   ]
  },
  {
   "cell_type": "code",
   "execution_count": 14,
   "id": "fb855109",
   "metadata": {},
   "outputs": [],
   "source": [
    "num_samples = 50 # quantidade de exemplos"
   ]
  },
  {
   "cell_type": "markdown",
   "id": "1abeb474",
   "metadata": {},
   "source": [
    "### Inputs"
   ]
  },
  {
   "cell_type": "code",
   "execution_count": 15,
   "id": "23e0ea91",
   "metadata": {},
   "outputs": [],
   "source": [
    "def generate_realistic_edge(is_good_link):\n",
    "    if is_good_link:\n",
    "        rssi_mean = -55\n",
    "        rssi_std = 8\n",
    "        rssi = np.random.normal(rssi_mean, rssi_std)\n",
    "        rssi = np.clip(rssi, -85, -30)\n",
    "        \n",
    "        etx = 1 + np.random.exponential(0.8)\n",
    "        etx = np.clip(etx, 1, 8)\n",
    "        \n",
    "        delay = np.random.lognormal(2.3, 0.6)\n",
    "        delay = np.clip(delay, 1, 80)\n",
    "        \n",
    "        busy = np.random.beta(2, 5)\n",
    "        busy = np.clip(busy, 0.05, 0.7)\n",
    "        \n",
    "    else:\n",
    "        rssi_mean = -75\n",
    "        rssi_std = 10\n",
    "        rssi = np.random.normal(rssi_mean, rssi_std)\n",
    "        rssi = np.clip(rssi, -95, -45)\n",
    "        \n",
    "        etx = 1 + np.random.gamma(3, 1.2)\n",
    "        etx = np.clip(etx, 1.5, 15)\n",
    "        \n",
    "        delay = np.random.lognormal(3.5, 0.8)\n",
    "        delay = np.clip(delay, 10, 150)\n",
    "        \n",
    "        busy = np.random.beta(5, 2)\n",
    "        busy = np.clip(busy, 0.1, 1.0)\n",
    "    \n",
    "    rssi += np.random.uniform(-0.05, 0.05)\n",
    "    etx += np.random.uniform(-0.01, 0.01)\n",
    "    delay += np.random.uniform(-0.2, 0.2)\n",
    "    busy += np.random.uniform(-0.005, 0.005)\n",
    "    \n",
    "    rssi = np.clip(rssi, -95, -30)\n",
    "    etx = np.clip(etx, 1.0, 15)\n",
    "    delay = np.clip(delay, 1, 150)\n",
    "    busy = np.clip(busy, 0.0, 1.0)\n",
    "    \n",
    "    if rssi < -70:\n",
    "        etx *= np.random.uniform(1.1, 1.4)\n",
    "        delay *= np.random.uniform(1.05, 1.25)\n",
    "        etx = min(etx, 15)\n",
    "    \n",
    "    if busy > 0.6:\n",
    "        delay *= np.random.uniform(1.2, 1.6)\n",
    "        etx *= np.random.uniform(1.05, 1.2)\n",
    "        delay = min(delay, 150)\n",
    "        etx = min(etx, 15)\n",
    "    \n",
    "    if etx > 7:\n",
    "        delay *= np.random.uniform(1.1, 1.3)\n",
    "        delay = min(delay, 150)\n",
    "    \n",
    "    rssi = round(rssi, 2)\n",
    "    etx = round(etx, 3)\n",
    "    delay = round(delay, 2)\n",
    "    busy = round(busy, 4)\n",
    "    \n",
    "    return rssi, etx, delay, busy\n",
    "\n",
    "edge_inputs = []\n",
    "label_0_count = 0\n",
    "label_1_count = 0\n",
    "target_per_label = num_samples // 2\n",
    "\n",
    "while len(edge_inputs) < num_samples:\n",
    "    if label_0_count >= target_per_label:\n",
    "        target_label = 1\n",
    "    elif label_1_count >= target_per_label:\n",
    "        target_label = 0\n",
    "    else:\n",
    "        target_label = 1 if np.random.random() < 0.52 else 0\n",
    "    \n",
    "    is_good = (target_label == 1)\n",
    "    \n",
    "    rssi, etx, delay, busy = generate_realistic_edge(is_good)\n",
    "    \n",
    "    if target_label == 0:\n",
    "        label_0_count += 1\n",
    "    else:\n",
    "        label_1_count += 1\n",
    "    \n",
    "    edge_inputs.append([rssi, etx, delay, busy])"
   ]
  },
  {
   "cell_type": "code",
   "execution_count": 16,
   "id": "b71a351d",
   "metadata": {},
   "outputs": [],
   "source": [
    "def generate_realistic_radnet_metrics(is_good_performance):\n",
    "    if is_good_performance:\n",
    "        apmr_global = np.random.beta(9, 2)\n",
    "        apmr_global = 0.75 + (apmr_global * 0.20)\n",
    "        \n",
    "        mfsr_global = np.random.beta(10, 2)\n",
    "        mfsr_global = 0.80 + (mfsr_global * 0.16)\n",
    "        \n",
    "        idg_global = np.random.beta(8, 3)\n",
    "        idg_global = 0.68 + (idg_global * 0.24)\n",
    "        \n",
    "    else:\n",
    "        apmr_global = np.random.beta(3, 6)\n",
    "        apmr_global = 0.45 + (apmr_global * 0.32)\n",
    "        \n",
    "        mfsr_global = np.random.beta(3, 5)\n",
    "        mfsr_global = 0.48 + (mfsr_global * 0.35)\n",
    "        \n",
    "        idg_global = np.random.beta(2, 6)\n",
    "        idg_global = 0.42 + (idg_global * 0.32)\n",
    "    \n",
    "    apmr_global += np.random.uniform(-0.01, 0.01)\n",
    "    mfsr_global += np.random.uniform(-0.01, 0.01)\n",
    "    idg_global += np.random.uniform(-0.01, 0.01)\n",
    "    \n",
    "    apmr_global = np.clip(apmr_global, 0.40, 0.98)\n",
    "    mfsr_global = np.clip(mfsr_global, 0.45, 0.98)\n",
    "    idg_global = np.clip(idg_global, 0.40, 0.95)\n",
    "    \n",
    "    if mfsr_global < apmr_global:\n",
    "        mfsr_global = apmr_global * np.random.uniform(1.0, 1.08)\n",
    "        mfsr_global = min(mfsr_global, 0.98)\n",
    "    \n",
    "    if apmr_global < 0.55:\n",
    "        mfsr_global *= np.random.uniform(0.85, 0.95)\n",
    "        idg_global *= np.random.uniform(0.88, 0.96)\n",
    "    \n",
    "    if mfsr_global < 0.60:\n",
    "        idg_global *= np.random.uniform(0.82, 0.93)\n",
    "    \n",
    "    apmr_global = round(apmr_global, 6)\n",
    "    mfsr_global = round(mfsr_global, 6)\n",
    "    idg_global = round(idg_global, 4)\n",
    "    \n",
    "    return apmr_global, mfsr_global, idg_global\n",
    "\n",
    "radnet_inputs = []\n",
    "good_performance_count = 0\n",
    "poor_performance_count = 0\n",
    "target_per_performance = num_samples // 2\n",
    "\n",
    "while len(radnet_inputs) < num_samples:\n",
    "    if good_performance_count >= target_per_performance:\n",
    "        target_performance = 0\n",
    "    elif poor_performance_count >= target_per_performance:\n",
    "        target_performance = 1\n",
    "    else:\n",
    "        target_performance = 1 if np.random.random() < 0.52 else 0\n",
    "    \n",
    "    is_good = (target_performance == 1)\n",
    "    apmr_g, mfsr_g, idg_g = generate_realistic_radnet_metrics(is_good)\n",
    "    \n",
    "    if target_performance == 0:\n",
    "        poor_performance_count += 1\n",
    "    else:\n",
    "        good_performance_count += 1\n",
    "    \n",
    "    radnet_inputs.append([apmr_g, mfsr_g, idg_g])"
   ]
  },
  {
   "cell_type": "markdown",
   "id": "468f2e19",
   "metadata": {},
   "source": [
    "### Save"
   ]
  },
  {
   "cell_type": "code",
   "execution_count": 17,
   "id": "e4db4e90",
   "metadata": {},
   "outputs": [
    {
     "name": "stdout",
     "output_type": "stream",
     "text": [
      "Edges Inputs salvo em ../datasets/edges_input.csv\n"
     ]
    }
   ],
   "source": [
    "edges_input = pd.DataFrame(edge_inputs, columns=[\"rssi\", \"etx\", \"delay\", \"busy_fraction\"])\n",
    "os.makedirs(\"../inputs\", exist_ok=True)\n",
    "edges_input.to_csv(\"../inputs/edges_input.csv\", index=False)\n",
    "\n",
    "print(\"Edges Inputs salvo em ../datasets/edges_input.csv\")"
   ]
  },
  {
   "cell_type": "code",
   "execution_count": 18,
   "id": "02880e56",
   "metadata": {},
   "outputs": [
    {
     "name": "stdout",
     "output_type": "stream",
     "text": [
      "Radnet Input salvo em ../datasets/radnet_input.csv\n"
     ]
    }
   ],
   "source": [
    "radnet_input = pd.DataFrame(radnet_inputs, columns=[\"apmr_edge\", \"mfsr_edge\", \"idg_global\"])\n",
    "os.makedirs(\"../inputs\", exist_ok=True)\n",
    "radnet_input.to_csv(\"../inputs/radnet_input.csv\", index=False)\n",
    "\n",
    "print(\"Radnet Input salvo em ../datasets/radnet_input.csv\")"
   ]
  }
 ],
 "metadata": {
  "kernelspec": {
   "display_name": "venv (3.9.6)",
   "language": "python",
   "name": "python3"
  },
  "language_info": {
   "codemirror_mode": {
    "name": "ipython",
    "version": 3
   },
   "file_extension": ".py",
   "mimetype": "text/x-python",
   "name": "python",
   "nbconvert_exporter": "python",
   "pygments_lexer": "ipython3",
   "version": "3.9.6"
  }
 },
 "nbformat": 4,
 "nbformat_minor": 5
}
