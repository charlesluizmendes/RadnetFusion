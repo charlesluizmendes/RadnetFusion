{
 "cells": [
  {
   "cell_type": "markdown",
   "id": "f354b092",
   "metadata": {},
   "source": [
    "### Imports"
   ]
  },
  {
   "cell_type": "code",
   "execution_count": 1,
   "id": "6cad41f7",
   "metadata": {},
   "outputs": [],
   "source": [
    "import os\n",
    "import pandas as pd\n",
    "import numpy as np"
   ]
  },
  {
   "cell_type": "markdown",
   "id": "457c78d3",
   "metadata": {},
   "source": [
    "### Parameters"
   ]
  },
  {
   "cell_type": "code",
   "execution_count": 2,
   "id": "fb855109",
   "metadata": {},
   "outputs": [],
   "source": [
    "num_samples = 50 # quantidade de exemplos"
   ]
  },
  {
   "cell_type": "markdown",
   "id": "1abeb474",
   "metadata": {},
   "source": [
    "### Inputs"
   ]
  },
  {
   "cell_type": "code",
   "execution_count": 3,
   "id": "23e0ea91",
   "metadata": {},
   "outputs": [],
   "source": [
    "def generate_realistic_edge(is_good_link):\n",
    "    if is_good_link:\n",
    "        rssi_mean = -55\n",
    "        rssi_std = 8\n",
    "        rssi = np.random.normal(rssi_mean, rssi_std)\n",
    "        rssi = np.clip(rssi, -85, -30)\n",
    "        \n",
    "        etx = 1 + np.random.exponential(0.8)\n",
    "        etx = np.clip(etx, 1, 8)\n",
    "        \n",
    "        delay = np.random.lognormal(2.3, 0.6)\n",
    "        delay = np.clip(delay, 1, 80)\n",
    "        \n",
    "        busy = np.random.beta(2, 5)\n",
    "        busy = np.clip(busy, 0.05, 0.7)\n",
    "        \n",
    "    else:\n",
    "        rssi_mean = -75\n",
    "        rssi_std = 10\n",
    "        rssi = np.random.normal(rssi_mean, rssi_std)\n",
    "        rssi = np.clip(rssi, -95, -45)\n",
    "        \n",
    "        etx = 1 + np.random.gamma(3, 1.2)\n",
    "        etx = np.clip(etx, 1.5, 15)\n",
    "        \n",
    "        delay = np.random.lognormal(3.5, 0.8)\n",
    "        delay = np.clip(delay, 10, 150)\n",
    "        \n",
    "        busy = np.random.beta(5, 2)\n",
    "        busy = np.clip(busy, 0.1, 1.0)\n",
    "    \n",
    "    rssi += np.random.uniform(-0.05, 0.05)\n",
    "    etx += np.random.uniform(-0.01, 0.01)\n",
    "    delay += np.random.uniform(-0.2, 0.2)\n",
    "    busy += np.random.uniform(-0.005, 0.005)\n",
    "    \n",
    "    rssi = np.clip(rssi, -95, -30)\n",
    "    etx = np.clip(etx, 1.0, 15)\n",
    "    delay = np.clip(delay, 1, 150)\n",
    "    busy = np.clip(busy, 0.0, 1.0)\n",
    "    \n",
    "    if rssi < -70:\n",
    "        etx *= np.random.uniform(1.1, 1.4)\n",
    "        delay *= np.random.uniform(1.05, 1.25)\n",
    "        etx = min(etx, 15)\n",
    "    \n",
    "    if busy > 0.6:\n",
    "        delay *= np.random.uniform(1.2, 1.6)\n",
    "        etx *= np.random.uniform(1.05, 1.2)\n",
    "        delay = min(delay, 150)\n",
    "        etx = min(etx, 15)\n",
    "    \n",
    "    if etx > 7:\n",
    "        delay *= np.random.uniform(1.1, 1.3)\n",
    "        delay = min(delay, 150)\n",
    "    \n",
    "    rssi = round(rssi, 2)\n",
    "    etx = round(etx, 3)\n",
    "    delay = round(delay, 2)\n",
    "    busy = round(busy, 4)\n",
    "    \n",
    "    return rssi, etx, delay, busy\n",
    "\n",
    "edge_inputs = []\n",
    "edge_labels = []\n",
    "label_0_count = 0\n",
    "label_1_count = 0\n",
    "target_per_label = num_samples // 2\n",
    "\n",
    "while len(edge_inputs) < num_samples:\n",
    "    if label_0_count >= target_per_label:\n",
    "        target_label = 1\n",
    "    elif label_1_count >= target_per_label:\n",
    "        target_label = 0\n",
    "    else:\n",
    "        target_label = 1 if np.random.random() < 0.52 else 0\n",
    "    \n",
    "    is_good = (target_label == 1)\n",
    "    \n",
    "    rssi, etx, delay, busy = generate_realistic_edge(is_good)\n",
    "    \n",
    "    if target_label == 0:\n",
    "        label_0_count += 1\n",
    "    else:\n",
    "        label_1_count += 1\n",
    "    \n",
    "    edge_inputs.append([rssi, etx, delay, busy])\n",
    "    edge_labels.append(target_label)"
   ]
  },
  {
   "cell_type": "code",
   "execution_count": 4,
   "id": "b71a351d",
   "metadata": {},
   "outputs": [],
   "source": [
    "def generate_realistic_radnet_metrics(is_good_performance):\n",
    "    if is_good_performance:\n",
    "        efsr_edge = np.random.beta(9, 2)\n",
    "        efsr_edge = 0.70 + (efsr_edge * 0.25)\n",
    "        \n",
    "    else:\n",
    "        efsr_edge = np.random.beta(3, 6)\n",
    "        efsr_edge = 0.25 + (efsr_edge * 0.35)\n",
    "    \n",
    "    efsr_edge += np.random.uniform(-0.02, 0.02)\n",
    "    \n",
    "    efsr_edge = np.clip(efsr_edge, 0.20, 0.98)\n",
    "    \n",
    "    efsr_edge = round(efsr_edge, 6)\n",
    "    \n",
    "    return efsr_edge\n",
    "\n",
    "radnet_inputs = []\n",
    "radnet_labels = []\n",
    "good_performance_count = 0\n",
    "poor_performance_count = 0\n",
    "target_per_performance = num_samples // 2\n",
    "\n",
    "while len(radnet_inputs) < num_samples:\n",
    "    if good_performance_count >= target_per_performance:\n",
    "        target_performance = 0\n",
    "    elif poor_performance_count >= target_per_performance:\n",
    "        target_performance = 1\n",
    "    else:\n",
    "        target_performance = 1 if np.random.random() < 0.52 else 0\n",
    "    \n",
    "    is_good = (target_performance == 1)\n",
    "    efsr = generate_realistic_radnet_metrics(is_good)\n",
    "    \n",
    "    if target_performance == 0:\n",
    "        poor_performance_count += 1\n",
    "    else:\n",
    "        good_performance_count += 1\n",
    "    \n",
    "    radnet_inputs.append([efsr])\n",
    "    radnet_labels.append(target_performance)"
   ]
  },
  {
   "cell_type": "markdown",
   "id": "468f2e19",
   "metadata": {},
   "source": [
    "### Save"
   ]
  },
  {
   "cell_type": "code",
   "execution_count": 5,
   "id": "e4db4e90",
   "metadata": {},
   "outputs": [
    {
     "name": "stdout",
     "output_type": "stream",
     "text": [
      "Edges Inputs salvo em ../inputs/edges_input.csv\n"
     ]
    }
   ],
   "source": [
    "edges_input = pd.DataFrame(edge_inputs, columns=[\"rssi\", \"etx\", \"delay\", \"busy_fraction\"])\n",
    "edges_input['label'] = edge_labels\n",
    "\n",
    "os.makedirs(\"../inputs\", exist_ok=True)\n",
    "edges_input.to_csv(\"../inputs/edges_input.csv\", index=False)\n",
    "\n",
    "print(\"Edges Inputs salvo em ../inputs/edges_input.csv\")"
   ]
  },
  {
   "cell_type": "code",
   "execution_count": 6,
   "id": "02880e56",
   "metadata": {},
   "outputs": [
    {
     "name": "stdout",
     "output_type": "stream",
     "text": [
      "Radnet Input salvo em ../inputs/radnet_input.csv\n"
     ]
    }
   ],
   "source": [
    "radnet_input = pd.DataFrame(radnet_inputs, columns=[\"efsr_edge\"])\n",
    "radnet_input['label'] = radnet_labels\n",
    "\n",
    "os.makedirs(\"../inputs\", exist_ok=True)\n",
    "radnet_input.to_csv(\"../inputs/radnet_input.csv\", index=False)\n",
    "\n",
    "print(\"Radnet Input salvo em ../inputs/radnet_input.csv\")"
   ]
  }
 ],
 "metadata": {
  "kernelspec": {
   "display_name": "venv (3.9.6)",
   "language": "python",
   "name": "python3"
  },
  "language_info": {
   "codemirror_mode": {
    "name": "ipython",
    "version": 3
   },
   "file_extension": ".py",
   "mimetype": "text/x-python",
   "name": "python",
   "nbconvert_exporter": "python",
   "pygments_lexer": "ipython3",
   "version": "3.9.6"
  }
 },
 "nbformat": 4,
 "nbformat_minor": 5
}
