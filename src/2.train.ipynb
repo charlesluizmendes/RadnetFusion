{
 "cells": [
  {
   "cell_type": "markdown",
   "id": "c7881969",
   "metadata": {},
   "source": [
    "### Imports"
   ]
  },
  {
   "cell_type": "code",
   "execution_count": 1,
   "id": "c9639f57",
   "metadata": {},
   "outputs": [],
   "source": [
    "import os\n",
    "import torch\n",
    "import torch.nn as nn\n",
    "import torch.optim as optim\n",
    "import pandas as pd\n",
    "from sklearn.preprocessing import StandardScaler\n",
    "from sklearn.model_selection import train_test_split\n",
    "from sklearn.metrics import classification_report, confusion_matrix\n",
    "import joblib"
   ]
  },
  {
   "cell_type": "markdown",
   "id": "b5100369",
   "metadata": {},
   "source": [
    "### Inputs"
   ]
  },
  {
   "cell_type": "code",
   "execution_count": 2,
   "id": "c176f0ab",
   "metadata": {},
   "outputs": [],
   "source": [
    "edges_dataset_df = pd.read_csv(\"../datasets/edges_dataset.csv\")\n",
    "\n",
    "X = edges_dataset_df[[\"rssi\", \"etx\", \"delay\", \"busy_fraction\"]].values\n",
    "y = edges_dataset_df[\"label\"].values"
   ]
  },
  {
   "cell_type": "code",
   "execution_count": 3,
   "id": "d05ed389",
   "metadata": {},
   "outputs": [],
   "source": [
    "# Normalização\n",
    "scaler = StandardScaler()\n",
    "X = scaler.fit_transform(X)\n",
    "\n",
    "# Split train/test\n",
    "X_train, X_test, y_train, y_test = train_test_split(\n",
    "    X, \n",
    "    y, \n",
    "    test_size=0.3, \n",
    "    random_state=42, \n",
    "    stratify=y\n",
    ")\n",
    "\n",
    "# Divisão de Treino e Teste\n",
    "X_train = torch.tensor(X_train, dtype=torch.float)\n",
    "y_train = torch.tensor(y_train, dtype=torch.long)\n",
    "X_test = torch.tensor(X_test, dtype=torch.float)\n",
    "y_test = torch.tensor(y_test, dtype=torch.long)"
   ]
  },
  {
   "cell_type": "markdown",
   "id": "b5a94e63",
   "metadata": {},
   "source": [
    "### Model"
   ]
  },
  {
   "cell_type": "code",
   "execution_count": 4,
   "id": "bcfcdbf0",
   "metadata": {},
   "outputs": [],
   "source": [
    "class GNN(nn.Module):\n",
    "    def __init__(self, in_dim=4, hidden=16, out_dim=2):\n",
    "        super().__init__()\n",
    "        self.net = nn.Sequential(\n",
    "            nn.Linear(in_dim, hidden),\n",
    "            nn.ReLU(),\n",
    "            nn.Linear(hidden, out_dim)\n",
    "        )\n",
    "    def forward(self, x):\n",
    "        return self.net(x)"
   ]
  },
  {
   "cell_type": "markdown",
   "id": "a9ded070",
   "metadata": {},
   "source": [
    "### Load Model"
   ]
  },
  {
   "cell_type": "code",
   "execution_count": 5,
   "id": "cf842205",
   "metadata": {},
   "outputs": [],
   "source": [
    "model = GNN()\n",
    "criterion = nn.CrossEntropyLoss()\n",
    "optimizer = optim.Adam(model.parameters(), lr=0.01)"
   ]
  },
  {
   "cell_type": "markdown",
   "id": "a495dc53",
   "metadata": {},
   "source": [
    "### Train"
   ]
  },
  {
   "cell_type": "code",
   "execution_count": 6,
   "id": "46ace084",
   "metadata": {},
   "outputs": [
    {
     "name": "stdout",
     "output_type": "stream",
     "text": [
      "Epoch    Loss       Train Acc    Test Acc  \n",
      "------------------------------------------\n",
      "0        0.7984     0.5085       0.5329    \n",
      "10       0.3390     0.9667       0.9688    \n",
      "20       0.1272     0.9753       0.9763    \n",
      "30       0.0729     0.9775       0.9784    \n",
      "40       0.0581     0.9797       0.9802    \n"
     ]
    }
   ],
   "source": [
    "print(f\"{'Epoch':<8} {'Loss':<10} {'Train Acc':<12} {'Test Acc':<10}\")\n",
    "print(f\"{'-'*42}\")\n",
    "\n",
    "for epoch in range(50):\n",
    "    model.train()\n",
    "    optimizer.zero_grad()\n",
    "    out = model(X_train)\n",
    "    loss = criterion(out, y_train)\n",
    "    loss.backward()\n",
    "    optimizer.step()\n",
    "\n",
    "    if epoch % 10 == 0:\n",
    "        pred_train = out.argmax(dim=1)\n",
    "        acc_train = (pred_train == y_train).float().mean().item()\n",
    "        pred_test = model(X_test).argmax(dim=1)\n",
    "        acc_test = (pred_test == y_test).float().mean().item()\n",
    "        \n",
    "        print(f\"{epoch:<8} {loss.item():<10.4f} {acc_train:<12.4f} {acc_test:<10.4f}\")"
   ]
  },
  {
   "cell_type": "markdown",
   "id": "39832c24",
   "metadata": {},
   "source": [
    "## Metrics"
   ]
  },
  {
   "cell_type": "code",
   "execution_count": null,
   "id": "cf842112",
   "metadata": {},
   "outputs": [],
   "source": []
  },
  {
   "cell_type": "markdown",
   "id": "b54b3ee0",
   "metadata": {},
   "source": [
    "### Save"
   ]
  },
  {
   "cell_type": "code",
   "execution_count": 7,
   "id": "4e81bb09",
   "metadata": {},
   "outputs": [
    {
     "name": "stdout",
     "output_type": "stream",
     "text": [
      "Modelo salvo em ../models/gnn_model.pth\n",
      "Modelo salvo em ../models/scaler_model.pkl\n"
     ]
    }
   ],
   "source": [
    "os.makedirs(\"../models\", exist_ok=True)\n",
    "torch.save(model.state_dict(), \"../models/gnn_model.pth\")\n",
    "joblib.dump(scaler, \"../models/scaler_model.pkl\")\n",
    "\n",
    "print(\"Modelo salvo em ../models/gnn_model.pth\")\n",
    "print(\"Modelo salvo em ../models/scaler_model.pkl\")"
   ]
  }
 ],
 "metadata": {
  "kernelspec": {
   "display_name": "venv (3.9.6)",
   "language": "python",
   "name": "python3"
  },
  "language_info": {
   "codemirror_mode": {
    "name": "ipython",
    "version": 3
   },
   "file_extension": ".py",
   "mimetype": "text/x-python",
   "name": "python",
   "nbconvert_exporter": "python",
   "pygments_lexer": "ipython3",
   "version": "3.9.6"
  }
 },
 "nbformat": 4,
 "nbformat_minor": 5
}
